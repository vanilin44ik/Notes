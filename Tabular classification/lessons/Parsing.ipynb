{
 "cells": [
  {
   "cell_type": "markdown",
   "id": "aca99da3",
   "metadata": {},
   "source": [
    "# [Парсинг внешних данных](https://stepik.org/lesson/866758/)\n",
    "\n",
    "Эта тетрадка поможет разобраться вам в основных моментах парсинга внешних данных на python, познакомиться с полезными функциями и трюками. Вместе с вами мы посмотрим на возможности основных библиотек и закрепим на примерах.\n",
    "\n",
    "### Оглавление ноутбука\n",
    "<img src=\"../images/bs_requests.png\" align=\"right\" width=\"528\" height=\"528\" />\n",
    "<br>\n",
    "\n",
    "<p><font size=\"3\" face=\"Arial\" font-size=\"large\">\n",
    "<ul type=\"square\"><li><a href=\"#1\">Анализ URL запроса</a><ul><li><a href=\"#2\">Типы запросов и ответов</a></li></ul></li><li><a href=\"#3\">Парсинг HTML страничек</a><ul><li><a href=\"#5\">BeautifulSoup</a></li><li><a href=\"#6\">Парсим погоду</a></li><li><a href=\"#7\">Selenium</a></li></ul></li>"
   ]
  },
  {
   "cell_type": "markdown",
   "id": "5f05aa47",
   "metadata": {},
   "source": [
    "##  Анализ URL запроса"
   ]
  },
  {
   "cell_type": "markdown",
   "id": "fd2918ed",
   "metadata": {},
   "source": [
    "<p id=\"1\"></p>\n",
    "Рассмотрим для начала структуру `URL` адреса, это важно! `URL` адрес имеет определенную структуру, которая включает:\n",
    "\n",
    "- метод доступа к ресурсу, который также называется __сетевым протоколом__;\n",
    "- __авторизацию доступа__;\n",
    "- __хосты__ – DNS адрес, который указан как IP адрес;\n",
    "- __порт__ – еще одна обязательная деталь, которая включается в сочетании с IP адресом;\n",
    "- __трек__ – определяет информацию о методе получения доступа;\n",
    "- __параметр__ – внутренние данные ресурса о файле.\n",
    "\n",
    "\n",
    "<img src=\"https://sun9-65.userapi.com/impg/VNKZOAYMIumG8qJcm8R1GBUG5iRj1Y1HJ0OeqQ/hEk7cu3dhzI.jpg?size=2143x1126&quality=96&sign=5c59d6c509304ba62f218e21254ad525&type=album\"></img>"
   ]
  },
  {
   "cell_type": "code",
   "execution_count": 1,
   "id": "b0653406",
   "metadata": {},
   "outputs": [
    {
     "data": {
      "text/plain": [
       "ParseResult(scheme='http', netloc='www.example.com:80', path='/path/to/myfile.html', params='', query='key1=value1&key2=value2', fragment='SomewhereInTheDocument')"
      ]
     },
     "execution_count": 1,
     "metadata": {},
     "output_type": "execute_result"
    }
   ],
   "source": [
    "from urllib.parse import urlparse, parse_qsl, parse_qs\n",
    "\n",
    "url = \"http://www.example.com:80/path/to/myfile.html?key1=value1&key2=value2#SomewhereInTheDocument\"\n",
    "url_parsed = urlparse(url)\n",
    "url_parsed"
   ]
  },
  {
   "cell_type": "code",
   "execution_count": 2,
   "id": "82b3653e",
   "metadata": {},
   "outputs": [
    {
     "data": {
      "text/plain": [
       "'/path/to/myfile.html'"
      ]
     },
     "execution_count": 2,
     "metadata": {},
     "output_type": "execute_result"
    }
   ],
   "source": [
    "url_parsed.path"
   ]
  },
  {
   "cell_type": "code",
   "execution_count": 3,
   "id": "dbfec6a4",
   "metadata": {},
   "outputs": [
    {
     "data": {
      "text/plain": [
       "{'key1': 'value1', 'key2': 'value2'}"
      ]
     },
     "execution_count": 3,
     "metadata": {},
     "output_type": "execute_result"
    }
   ],
   "source": [
    "dict(parse_qsl(url_parsed.query))"
   ]
  },
  {
   "cell_type": "markdown",
   "id": "a64813c4",
   "metadata": {},
   "source": [
    "### Типы запросов и ответов"
   ]
  },
  {
   "cell_type": "markdown",
   "id": "c7dd5d59",
   "metadata": {},
   "source": [
    "<p id=\"2\"></p>\n",
    "C ссылками разобрались. Что же представляет из себя один из основных протоколов интернета? Тип HTTP-запроса (также называемый HTTP-метод) указывает серверу на то, какое действие мы хотим произвести с ресурсом. Изначально (в начале 90-х) предполагалось, что клиент может хотеть от ресурса только одно — получить его, однако сейчас по протоколу HTTP можно создавать посты, редактировать профиль, удалять сообщения и многое другое. И эти действия сложно объединить термином «получение».\n",
    "\n",
    "Для разграничения действий с ресурсами на уровне HTTP-методов и были придуманы следующие варианты:  <img src=\"https://sun9-23.userapi.com/impg/ieMiTgQNwhi-RnoMCI24CzNn0fC7dMi8HO7QSA/CBgxOLofBqc.jpg?size=509x252&quality=96&sign=08a9cc2b888fd21ebdb9852fb3e30868&type=album\" align=\"right\" padding=100px></img>\n",
    "<br> \n",
    "- `GET` — получение ресурса \n",
    "- `POST` — создание ресурса\n",
    "- `PUT` — обновление ресурса\n",
    "- `DELETE` — удаление ресурса "
   ]
  },
  {
   "cell_type": "markdown",
   "id": "5b0e9abf-1f35-43bf-bebc-7827b77fdb14",
   "metadata": {},
   "source": [
    "## Библиотека requests"
   ]
  },
  {
   "cell_type": "code",
   "execution_count": 4,
   "id": "5c127907",
   "metadata": {},
   "outputs": [],
   "source": [
    "import requests"
   ]
  },
  {
   "cell_type": "markdown",
   "id": "4a6dde9e",
   "metadata": {},
   "source": [
    "<!-- Попробуем отправить и записать сообщение на сервисе [transfer.sh](https://www.transfer.sh). Сервис позволяет пользователям хранить, синхронизировать и обмениваться файлами в Интернете с другими пользователями прямо из терминала.\n",
    " -->"
   ]
  },
  {
   "cell_type": "markdown",
   "id": "7ac7a755-a9c2-48fc-b7b6-14aa82d7efea",
   "metadata": {},
   "source": [
    "<!-- # r_put = requests.put('https://transfer.sh/arg.txt', data='Bonjour le monde!')\n",
    "# r_put -->"
   ]
  },
  {
   "cell_type": "markdown",
   "id": "7336d24e-a106-46a4-b526-0722bb0763b9",
   "metadata": {},
   "source": [
    "<!-- r_put.ok, r_put.status_code -->"
   ]
  },
  {
   "cell_type": "markdown",
   "id": "ba3dc6b2-f7ea-4b36-95b1-eae320e0dd74",
   "metadata": {},
   "source": [
    "<!-- print(r_put.text) -->"
   ]
  },
  {
   "cell_type": "markdown",
   "id": "d2a67060",
   "metadata": {},
   "source": [
    "Рассмотрим метод создания запроса `GET`. Также пытаемся отправить запрос на поиск репозитория. Укажем `URL` интересующего нас ресурса и дополнительные параметры в виде словаря."
   ]
  },
  {
   "cell_type": "code",
   "execution_count": 39,
   "id": "536ef571-ab22-45e0-b570-17b8630cb1e0",
   "metadata": {},
   "outputs": [
    {
     "name": "stdout",
     "output_type": "stream",
     "text": [
      "[{'text': 'Data Science', 'indices': [28, 40]}]\n"
     ]
    }
   ],
   "source": [
    "import requests\n",
    "\n",
    "response = requests.get(\n",
    "    \"https://api.github.com/search/repositories\",\n",
    "    params={\"q\": \"Competitive_Data_Science\"},\n",
    "    headers={\"Accept\": \"application/vnd.github.text-match+json\"},\n",
    ")\n",
    "\n",
    "# Просматриваем новый список текстовых совпадений, который предоставляет информацию\n",
    "# о вашем поисковом запросе в результатах\n",
    "json_response = response.json()\n",
    "\n",
    "first_repository = json_response[\"items\"][0]\n",
    "\n",
    "print(first_repository[\"text_matches\"][0][\"matches\"])"
   ]
  },
  {
   "cell_type": "markdown",
   "id": "bdbf7550-51f7-4e95-b4b0-1baea2e10c26",
   "metadata": {},
   "source": [
    "Заголовок Accept сообщает серверу, какие типы контента может обрабатывать ваше приложение.\n",
    "В этом случае, поскольку вы ожидаете, что соответствующие условия поиска будут выделены, вы используете значение заголовка application/vnd.github.text-match+json, который представляет собой собственный заголовок GitHub Accept, где контент представляет собой специальный JSON. формат."
   ]
  },
  {
   "cell_type": "code",
   "execution_count": 40,
   "id": "e49ac87c-4bd1-4f35-97af-682ffa051224",
   "metadata": {},
   "outputs": [
    {
     "data": {
      "text/plain": [
       "True"
      ]
     },
     "execution_count": 40,
     "metadata": {},
     "output_type": "execute_result"
    }
   ],
   "source": [
    "response.ok"
   ]
  },
  {
   "cell_type": "markdown",
   "id": "37a67bae-3029-4dfb-91ca-3187c99688a4",
   "metadata": {},
   "source": [
    "<!-- # page = requests.post('https://controlc.com/index.php?act=submit', data={\n",
    "#     'subdomain': '',\n",
    "#     'antispam': 1,\n",
    "#     'website': '',\n",
    "#     'paste_title': 'Заметка',\n",
    "#     'input_text': 'Привет!',\n",
    "#     'timestamp': 'ba68753935524ba7096650590c86633b',\n",
    "#     'paste_password': '',\n",
    "#     'code': 0,\n",
    "# }, headers={'accept-encoding': 'identity', 'referer': 'https://controlc.com/'})\n",
    "# page -->"
   ]
  },
  {
   "cell_type": "markdown",
   "id": "ac32016f-4052-4f42-825f-c3f2656188cc",
   "metadata": {},
   "source": [
    "<!-- page.ok, page.status_codea -->"
   ]
  },
  {
   "cell_type": "markdown",
   "id": "94761737-e98b-46be-b6ee-86ac1a2c83db",
   "metadata": {},
   "source": [
    "<!-- # print(page.text) -->"
   ]
  },
  {
   "cell_type": "markdown",
   "id": "2b1b0a1a",
   "metadata": {},
   "source": [
    "## Парсинг HTML страничек"
   ]
  },
  {
   "cell_type": "markdown",
   "id": "01a0ae6a",
   "metadata": {},
   "source": [
    "<p id=\"3\"></p>\n",
    "Для понимания парсинга нужно знать структуру HTML. Как театр начинается с вешалки, так и любой HTML-документ начинается с базовой структуры. Она включает в себя теги, которые есть в любом HTML-файле. Эти теги и служебная информация нужны браузеру для корректного отображения информации.\n",
    "\n",
    "\n",
    "<img src=\"https://dev-gang.ru/static/storage/319901168311547457028755251266243086714.gif\"></img>"
   ]
  },
  {
   "cell_type": "markdown",
   "id": "22564ab6-6911-49b2-b9b3-b39193d11d44",
   "metadata": {},
   "source": [
    "## Структура страницы и тега"
   ]
  },
  {
   "cell_type": "markdown",
   "id": "f991015c",
   "metadata": {},
   "source": [
    "<div class=\"alert alert-info\">\n",
    "    \n",
    "* Тег `<html></html>` является основой основ. Именно внутри него располагается вся информация. Благодаря этому тегу браузер понимает, где начинается контент, который необходимо обработать как HTML. \n",
    "* Тег `<head></head>` служит для хранения служебной информации. Здесь возможны самые разные сочетания тегов, которые подсказывают браузеру название страницы, описание, ключевые слова и так далее. Такая информация называется метаинформацией.\n",
    "* После тега `<head>` в документе указывается парный тег `<body></body>`, который является «телом» всей страницы. Именно здесь размещается вся информация, которая будет выведена на странице.  \n",
    "</div>\n",
    "<img  align=\"right\" width='500px' src=\"../images/html_tags.png\"></img>\n",
    "\n",
    "\n",
    "Внутри `<body></body>` находится вся структура документа состоящая из тегов, атрибутов и материалов. Рассмотрим единичную структуру - тег: \n",
    "\n",
    "<br>Весь текст, заключённый между начальным и конечным тегом, включая и сами эти теги, называется элементом. Сам же текст между тегами — содержанием элемента. Содержание элемента может включать в себя любой текст, в том числе и другие элементы. У тега могут быть свойства, называемые атрибутами, дающие дополнительные возможности форматирования текста. Они записываются в виде сочетания: имя атрибута-значения, причём текстовые значения заключаются в кавычки."
   ]
  },
  {
   "cell_type": "markdown",
   "id": "2feba6e9",
   "metadata": {},
   "source": [
    "<p id=\"4\"></p>\n",
    "\n",
    "Так как html (и xml) имеют древовидную структуру, то до любого элемента всегда существет единственный путь, `XPath`."
   ]
  },
  {
   "cell_type": "code",
   "execution_count": null,
   "id": "3706f871",
   "metadata": {},
   "outputs": [],
   "source": [
    "!pip install cssselect -q\n",
    "!pip install lxml -q"
   ]
  },
  {
   "cell_type": "code",
   "execution_count": 35,
   "id": "e42d28d6",
   "metadata": {},
   "outputs": [],
   "source": [
    "from lxml import etree, html as lhtml"
   ]
  },
  {
   "cell_type": "markdown",
   "id": "bb4fbb0d-f86e-4e79-ba12-7fcf53da99d0",
   "metadata": {},
   "source": [
    "## Поиск по html и lxml"
   ]
  },
  {
   "cell_type": "markdown",
   "id": "6faa86e2",
   "metadata": {},
   "source": [
    "Попробуем поиграться со страницей фильма \"Стражи Галактики\". Допустим, у нас соревнование по предсказанию жанра фильма и было принято решение о парсинге дополнительных данных. Приступим!"
   ]
  },
  {
   "cell_type": "code",
   "execution_count": 36,
   "id": "7cd84d49",
   "metadata": {},
   "outputs": [],
   "source": [
    "tree = lhtml.fromstring(open('../data/parsing_data/689066_2.html', 'r', encoding='utf-8').read())"
   ]
  },
  {
   "cell_type": "markdown",
   "id": "7140d61b",
   "metadata": {},
   "source": [
    "С помощью `XPath` узнаем информацию о фильме. Сначала указывается интересующий нас тег, допустим `//div`, а затем его атрибут. Настоятельно рекомендуем на этих пунктах открыть исходный код странички и самостоятельно убедиться что откуда берется. Это не сложно :)"
   ]
  },
  {
   "cell_type": "code",
   "execution_count": 42,
   "id": "f1996f34-a134-45ce-bc4a-2be2bbd283a6",
   "metadata": {},
   "outputs": [],
   "source": [
    "# //*[@id=\"__next\"]/div/div[2]/div[1]/div[2]/div/div[3]/div/div/div[1]/div[2]/div/div[1]/span[1]/span"
   ]
  },
  {
   "cell_type": "code",
   "execution_count": 41,
   "id": "96810d8c",
   "metadata": {},
   "outputs": [
    {
     "data": {
      "text/plain": [
       "{'title': 'Стражи Галактики',\n",
       " 'title-original': 'Guardians of the Galaxy',\n",
       " 'rating': 7.763,\n",
       " 'desription': 'Отважному путешественнику Питеру Квиллу попадает в руки таинственный артефакт, принадлежащий могущественному и безжалостному злодею Ронану, строящему коварные планы по захвату Вселенной. Питер оказывается в центре межгалактической охоты, где жертва — он сам.\\nЕдинственный способ спасти свою жизнь — объединиться с четверкой нелюдимых изгоев: воинственным енотом по кличке Ракета, человекоподобным деревом Грутом, смертельно опасной Гаморой и одержимым жаждой мести Драксом, также известным как Разрушитель. Когда Квилл понимает, какой силой обладает украденный артефакт и какую опасность он представляет для вселенной, одиночка пойдет на все, чтобы сплотить случайных союзников для решающей битвы за судьбу галактики.'}"
      ]
     },
     "execution_count": 41,
     "metadata": {},
     "output_type": "execute_result"
    }
   ],
   "source": [
    "film_info = {\n",
    "    'title': tree.xpath('//h1[@itemprop=\"name\"]/span/text()')[0],\n",
    "    'title-original': tree.xpath('//span[starts-with(@class, \"styles_originalTitle__\")]')[0].text,\n",
    "    'rating': float(tree.cssselect('a.film-rating-value')[0].text),   # поддержка CSS-селекторов\n",
    "    'desription': '\\n'.join(tree.xpath('//div[starts-with(@class, \"styles_synopsisSection\")]//text()'))\n",
    "}\n",
    "\n",
    "film_info"
   ]
  },
  {
   "cell_type": "markdown",
   "id": "f2e0c512",
   "metadata": {},
   "source": [
    "Далее найдем ссылку на просмотр. Ссылочки практически всегда находятся в тегах `<a href=\"your_link\"></a>`."
   ]
  },
  {
   "cell_type": "code",
   "execution_count": 38,
   "id": "70df61ac",
   "metadata": {},
   "outputs": [
    {
     "data": {
      "text/plain": [
       "{'title': 'Стражи Галактики',\n",
       " 'title-original': 'Guardians of the Galaxy',\n",
       " 'rating': 7.763,\n",
       " 'desription': 'Отважному путешественнику Питеру Квиллу попадает в руки таинственный артефакт, принадлежащий могущественному и безжалостному злодею Ронану, строящему коварные планы по захвату Вселенной. Питер оказывается в центре межгалактической охоты, где жертва — он сам.\\nЕдинственный способ спасти свою жизнь — объединиться с четверкой нелюдимых изгоев: воинственным енотом по кличке Ракета, человекоподобным деревом Грутом, смертельно опасной Гаморой и одержимым жаждой мести Драксом, также известным как Разрушитель. Когда Квилл понимает, какой силой обладает украденный артефакт и какую опасность он представляет для вселенной, одиночка пойдет на все, чтобы сплотить случайных союзников для решающей битвы за судьбу галактики.',\n",
       " 'watch': ['https://hd.kinopoisk.ru/film/4a297ba39cb704fa9a81855f76ab1d73?from=button_online&watch=']}"
      ]
     },
     "execution_count": 38,
     "metadata": {},
     "output_type": "execute_result"
    }
   ],
   "source": [
    "watch = tree.xpath('//a[contains(@class, \"kinopoisk-watch-online-button\")]/attribute::href')\n",
    "film_info['watch'] = watch\n",
    "film_info"
   ]
  },
  {
   "cell_type": "markdown",
   "id": "970c49be",
   "metadata": {},
   "source": [
    "Найдем картинку аналогичным образом. Тег `<img>`."
   ]
  },
  {
   "cell_type": "code",
   "execution_count": 43,
   "id": "26a14a51",
   "metadata": {},
   "outputs": [
    {
     "data": {
      "text/plain": [
       "['//avatars.mds.yandex.net/get-kinopoisk-image/1773646/2e6ab20b-7cf1-49e7-b465-bd5a71c13fa3/300x450 1x, //avatars.mds.yandex.net/get-kinopoisk-image/1773646/2e6ab20b-7cf1-49e7-b465-bd5a71c13fa3/600x900 2x']"
      ]
     },
     "execution_count": 43,
     "metadata": {},
     "output_type": "execute_result"
    }
   ],
   "source": [
    "image = tree.xpath('//img[contains(@class, \"film-poster\")]//attribute::srcset')\n",
    "image"
   ]
  },
  {
   "cell_type": "markdown",
   "id": "9fa405e9",
   "metadata": {},
   "source": [
    "## Библиотека BeautifulSoup"
   ]
  },
  {
   "cell_type": "markdown",
   "id": "7dee27a2",
   "metadata": {},
   "source": [
    "<p id=\"5\"></p>\n",
    "С базовыми понятиями разобрались, перейдем к обширной библиотеке <a href = \"https://www.crummy.com/software/BeautifulSoup/bs4/doc/\">Beautifulsoup</a>. Здесь есть множество полезных алгоритмов, упрощающих вашу работу, оптимизирующих поиск множества информации и т.д. Давайте попробуем достать ту же информацию, что и в предыдущем пункте, только с помощью `BeautifulSoup`. Напоминаем, что в ходе этой практики не лишним будет открыть исходный код странички и самостоятельно убедиться что откуда берется, это очень поможет быстро разобраться.\n",
    "\n",
    "<img src=\"https://sun9-58.userapi.com/impg/o_qPHMIWsPUG9VLR3vbjjs6fap-iX89MUHkdWw/oOMz3ZM20QY.jpg?size=751x335&quality=96&sign=5358d071a6a30677ff578a72c2a4fc2e&type=album\"></img>"
   ]
  },
  {
   "cell_type": "code",
   "execution_count": 44,
   "id": "a0953d13",
   "metadata": {},
   "outputs": [],
   "source": [
    "from bs4 import BeautifulSoup\n",
    "import pandas as pd\n",
    "from tqdm import tqdm"
   ]
  },
  {
   "cell_type": "code",
   "execution_count": 47,
   "id": "05ac38b5",
   "metadata": {},
   "outputs": [],
   "source": [
    "soup = BeautifulSoup(open('../data/parsing_data/689066_2.html', 'rb').read(), 'lxml')"
   ]
  },
  {
   "cell_type": "code",
   "execution_count": 48,
   "id": "bd96a60f",
   "metadata": {},
   "outputs": [],
   "source": [
    "from operator import attrgetter, itemgetter"
   ]
  },
  {
   "cell_type": "markdown",
   "id": "7198403f",
   "metadata": {},
   "source": [
    "Берем основную информацию со странички. Запустив сессию `BeautifulSoup`, найдем теги, здесь это можно гораздо проще и приятнее для глаз - `.find(\"tag\", attribute=\"value\")`. Для того, чтобы найти все встречающиеся варианты, используем `.find_all(\"tag\")`"
   ]
  },
  {
   "cell_type": "code",
   "execution_count": 49,
   "id": "3cfd7209",
   "metadata": {},
   "outputs": [
    {
     "data": {
      "text/plain": [
       "{'title': 'Стражи Галактики',\n",
       " 'title-original': 'Guardians of the Galaxy',\n",
       " 'rating': 7.763,\n",
       " 'description': 'Отважному путешественнику Питеру Квиллу попадает в руки таинственный артефакт, принадлежащий могущественному и безжалостному злодею Ронану, строящему коварные планы по захвату Вселенной. Питер оказывается в центре межгалактической охоты, где жертва — он сам.\\nЕдинственный способ спасти свою жизнь — объединиться с четверкой нелюдимых изгоев: воинственным енотом по кличке Ракета, человекоподобным деревом Грутом, смертельно опасной Гаморой и одержимым жаждой мести Драксом, также известным как Разрушитель. Когда Квилл понимает, какой силой обладает украденный артефакт и какую опасность он представляет для вселенной, одиночка пойдет на все, чтобы сплотить случайных союзников для решающей битвы за судьбу галактики.'}"
      ]
     },
     "execution_count": 49,
     "metadata": {},
     "output_type": "execute_result"
    }
   ],
   "source": [
    "desc = soup.find('div', itemprop='description')\n",
    "desc = soup.find('div', class_=lambda s: s and s.startswith(\"styles_synopsisSection\")).find_all('p')\n",
    "\n",
    "film_info = {\n",
    "    'title': soup.find('h1', itemprop='name').find('span').text,\n",
    "    'title-original': soup.find('span', class_=lambda s: s and s.startswith('styles_originalTitle__')).text,\n",
    "    'rating': float(soup.find('a', {'class': 'film-rating-value'}).text), \n",
    "    'description': '\\n'.join(map(attrgetter('text'), desc))\n",
    "}\n",
    "film_info"
   ]
  },
  {
   "cell_type": "code",
   "execution_count": 52,
   "id": "68f6dbf7-756f-42f9-8f5e-a03828419275",
   "metadata": {},
   "outputs": [
    {
     "data": {
      "text/plain": [
       "<a class=\"film-rating-value styles_rootPositive__ac3xv styles_rootLink__1CSPc\" href=\"/film/689066/votes/\">7.763</a>"
      ]
     },
     "execution_count": 52,
     "metadata": {},
     "output_type": "execute_result"
    }
   ],
   "source": [
    "soup.find('a', {'class': 'film-rating-value'}) # text"
   ]
  },
  {
   "cell_type": "code",
   "execution_count": 53,
   "id": "048742d5",
   "metadata": {},
   "outputs": [
    {
     "data": {
      "text/plain": [
       "23"
      ]
     },
     "execution_count": 53,
     "metadata": {},
     "output_type": "execute_result"
    }
   ],
   "source": [
    "header = soup.find('h3', class_=\"film-page-section-title\")\n",
    "table = header.next_sibling\n",
    "rows = table.find_all('div', recursive=False)\n",
    "\n",
    "len(rows)"
   ]
  },
  {
   "cell_type": "code",
   "execution_count": 54,
   "id": "101fb058",
   "metadata": {},
   "outputs": [
    {
     "data": {
      "text/html": [
       "<div>\n",
       "<style scoped>\n",
       "    .dataframe tbody tr th:only-of-type {\n",
       "        vertical-align: middle;\n",
       "    }\n",
       "\n",
       "    .dataframe tbody tr th {\n",
       "        vertical-align: top;\n",
       "    }\n",
       "\n",
       "    .dataframe thead th {\n",
       "        text-align: right;\n",
       "    }\n",
       "</style>\n",
       "<table border=\"1\" class=\"dataframe\">\n",
       "  <thead>\n",
       "    <tr style=\"text-align: right;\">\n",
       "      <th></th>\n",
       "      <th>0</th>\n",
       "      <th>1</th>\n",
       "      <th>2</th>\n",
       "    </tr>\n",
       "  </thead>\n",
       "  <tbody>\n",
       "    <tr>\n",
       "      <th>0</th>\n",
       "      <td>Год производства</td>\n",
       "      <td>2014</td>\n",
       "      <td>None</td>\n",
       "    </tr>\n",
       "    <tr>\n",
       "      <th>1</th>\n",
       "      <td>Страна</td>\n",
       "      <td>США</td>\n",
       "      <td>None</td>\n",
       "    </tr>\n",
       "    <tr>\n",
       "      <th>2</th>\n",
       "      <td>Жанр</td>\n",
       "      <td>фантастика, боевик, приключения, комедияслова</td>\n",
       "      <td>фантастика, боевик, приключения, комедия</td>\n",
       "    </tr>\n",
       "    <tr>\n",
       "      <th>3</th>\n",
       "      <td>Слоган</td>\n",
       "      <td>«Мстители спасают лишь Землю бренную, а эти ре...</td>\n",
       "      <td>«Мстители спасают лишь Землю бренную, а эти ре...</td>\n",
       "    </tr>\n",
       "    <tr>\n",
       "      <th>4</th>\n",
       "      <td>Режиссер</td>\n",
       "      <td>Джеймс Ганн</td>\n",
       "      <td>None</td>\n",
       "    </tr>\n",
       "  </tbody>\n",
       "</table>\n",
       "</div>"
      ],
      "text/plain": [
       "                  0                                                  1  \\\n",
       "0  Год производства                                               2014   \n",
       "1            Страна                                                США   \n",
       "2              Жанр      фантастика, боевик, приключения, комедияслова   \n",
       "3            Слоган  «Мстители спасают лишь Землю бренную, а эти ре...   \n",
       "4          Режиссер                                        Джеймс Ганн   \n",
       "\n",
       "                                                   2  \n",
       "0                                               None  \n",
       "1                                               None  \n",
       "2           фантастика, боевик, приключения, комедия  \n",
       "3  «Мстители спасают лишь Землю бренную, а эти ре...  \n",
       "4                                               None  "
      ]
     },
     "execution_count": 54,
     "metadata": {},
     "output_type": "execute_result"
    }
   ],
   "source": [
    "data = []\n",
    "\n",
    "for row in rows:\n",
    "    cols = map(lambda x: x.text, row.find_all('div'))\n",
    "    data.append(cols)\n",
    "\n",
    "data = pd.DataFrame(data)\n",
    "data.head()"
   ]
  },
  {
   "cell_type": "markdown",
   "id": "3089580d",
   "metadata": {},
   "source": [
    "Найдем картинки. Как было сказано выше, в данном случае использовать удобнее `.find_all(\"tag\")`."
   ]
  },
  {
   "cell_type": "code",
   "execution_count": 55,
   "id": "854215b2",
   "metadata": {},
   "outputs": [
    {
     "data": {
      "text/plain": [
       "['https://st.kp.yandex.net/images/kadr/sm_2802088.jpg',\n",
       " 'https://st.kp.yandex.net/images/kadr/sm_2802087.jpg',\n",
       " 'https://st.kp.yandex.net/images/kadr/sm_2802086.jpg',\n",
       " 'https://st.kp.yandex.net/images/kadr/sm_2802085.jpg',\n",
       " 'https://st.kp.yandex.net/images/kadr/sm_2802084.jpg',\n",
       " 'https://st.kp.yandex.net/images/kadr/sm_2802083.jpg',\n",
       " 'https://st.kp.yandex.net/images/kadr/sm_2802082.jpg',\n",
       " 'https://st.kp.yandex.net/images/kadr/sm_2802081.jpg',\n",
       " 'https://st.kp.yandex.net/images/kadr/sm_2751304.jpg',\n",
       " 'https://st.kp.yandex.net/images/kadr/sm_2485201.jpg']"
      ]
     },
     "execution_count": 55,
     "metadata": {},
     "output_type": "execute_result"
    }
   ],
   "source": [
    "soup = BeautifulSoup(open('../data/parsing_data/689066_stills_2.html', 'rb').read(), 'html.parser')\n",
    "list(map(lambda s: s.attrs['src'], soup.find('table', class_='fotos').find_all(\"img\")))[:10]"
   ]
  },
  {
   "cell_type": "markdown",
   "id": "bbb719c6-1842-4254-b0bb-64afe82d062f",
   "metadata": {},
   "source": [
    "## Парсим погоду (когда лень смотреть в окно)"
   ]
  },
  {
   "cell_type": "markdown",
   "id": "2d2d6b34-304d-492b-8c5f-861b56ff592c",
   "metadata": {},
   "source": [
    "<p id=\"6\"></p>\n",
    "Периодически в соревнованиях, в которых есть информация о географическом расположении чего-то, может быть полезно спарсить дополнительную информацию о погоде. Давай сделаем это!"
   ]
  },
  {
   "cell_type": "code",
   "execution_count": null,
   "id": "8d1e5803-9b91-4055-9662-6ce8341fce45",
   "metadata": {},
   "outputs": [],
   "source": [
    "url = 'http://weatherarchive.ru/Temperature/Moscow/{month}-{year}'\n",
    "months = ['January', 'February', 'March', 'April', 'May', 'June', 'July',\n",
    "          'August', 'September', 'October', 'November', 'December']\n",
    "\n",
    "years = [2020, 2021, 2022]"
   ]
  },
  {
   "cell_type": "code",
   "execution_count": null,
   "id": "49917657-4e52-433f-b8fa-1e8b6542733b",
   "metadata": {},
   "outputs": [],
   "source": [
    "def parse_table(table):\n",
    "    res = {'temp': [],\n",
    "           'wet': [],\n",
    "           'p': [],\n",
    "           'wind': []}\n",
    "    \n",
    "    tags = table.findAll('td')\n",
    "    k = 0\n",
    "    for tag in tags:\n",
    "        if tag.find('a') is not None:\n",
    "            continue\n",
    "            \n",
    "        if k == 0:\n",
    "            k += 1\n",
    "            res['temp'].append(float(tag.text.replace('°C', '').replace('+','').replace('−','-')))\n",
    "        elif k == 1:\n",
    "            k += 1\n",
    "            res['wet'].append(float(tag.text.replace('%','')))\n",
    "        elif k == 2:\n",
    "            k += 1\n",
    "            res['p'].append(int(tag.text))\n",
    "        else:\n",
    "            k = 0\n",
    "            res['wind'].append(int(tag.text.replace(' м/с', '')))\n",
    "    return res"
   ]
  },
  {
   "cell_type": "code",
   "execution_count": null,
   "id": "63281cfc-daeb-44f5-b054-c533d3a03daf",
   "metadata": {},
   "outputs": [],
   "source": [
    "def parse_url(url):\n",
    "    page = requests.get(url)\n",
    "    soup = BeautifulSoup(page.text, \"html.parser\")\n",
    "\n",
    "    tables = soup.findAll('table', class_='smart')\n",
    "    for table in tables:\n",
    "        if 'Среднесуточная' in str(table):\n",
    "            return parse_table(table)"
   ]
  },
  {
   "cell_type": "code",
   "execution_count": null,
   "id": "6423421d-d132-4aec-a54f-5af5ac49cc2c",
   "metadata": {},
   "outputs": [],
   "source": [
    "pd.DataFrame(parse_url(url.format(month=months[0], year=years[0]))).head()"
   ]
  },
  {
   "cell_type": "code",
   "execution_count": null,
   "id": "0ab77729-649a-443e-958c-7e6624e78b29",
   "metadata": {},
   "outputs": [],
   "source": [
    "stats = {}\n",
    "for year in years:\n",
    "    stats[year] = {}\n",
    "    for month in tqdm(months):\n",
    "        stats[year][month] = parse_url(url.format(month=month, year=year))"
   ]
  },
  {
   "cell_type": "markdown",
   "id": "e4a9aeda",
   "metadata": {},
   "source": [
    "## Библиотека Selenium"
   ]
  },
  {
   "cell_type": "markdown",
   "id": "9cf3f229",
   "metadata": {},
   "source": [
    "<p id=\"7\">\n",
    "    \n",
    "`Selenium` - это специальная утилита, которая позволяет симулировать работу браузера. Это позволяет получать данные с тех сайтов, где используются автоматическая генерация контекта при помощи `js`, нужно тыкать на кнопочки, есть какая-то авторизация или они просто не выдают вам `html` код страницу по обычному `requests.get()` запросу.</p>"
   ]
  },
  {
   "attachments": {
    "c67a81d2-b8b7-469f-b097-320573ff112f.png": {
     "image/png": "[encoded data removed]"
    }
   },
   "cell_type": "markdown",
   "id": "cdf1df55-8591-4f91-83b9-a54443a43780",
   "metadata": {},
   "source": [
    "Для начала необходимо скачать `chromedriver` той версии хрома, которая сейчас у вас используется на компьютере, и положить его рядом с этим блокнотиком. Сделать это можно с [официального сайта](https://chromedriver.chromium.org/downloads). Обратите внимание, что в зависимости от операционной системы, эти файлы могу варьироваться. Вот пример того, как выглядят версии драйвера для разных ОС:\n",
    "![image.png](attachment:c67a81d2-b8b7-469f-b097-320573ff112f.png)"
   ]
  },
  {
   "cell_type": "code",
   "execution_count": 9,
   "id": "6f43ab43-a3a3-4759-911d-98f5eadf8eae",
   "metadata": {},
   "outputs": [],
   "source": [
    "!pip install selenium -q"
   ]
  },
  {
   "cell_type": "code",
   "execution_count": 10,
   "id": "834738bd-8b54-476c-9832-244613ade7e6",
   "metadata": {},
   "outputs": [],
   "source": [
    "# !chmod 775 ../chromedriver\n",
    "!sudo chmod 777 -R ../chromedriver\n",
    "# !ls .."
   ]
  },
  {
   "cell_type": "code",
   "execution_count": 1,
   "id": "75532ea7",
   "metadata": {},
   "outputs": [],
   "source": [
    "from selenium import webdriver\n",
    "from selenium.webdriver.chrome.options import Options as ChromeOptions\n",
    "from selenium.webdriver.common.by import By\n",
    "import pandas as pd\n",
    "from tqdm import tqdm"
   ]
  },
  {
   "cell_type": "code",
   "execution_count": 7,
   "id": "bcd74b9f-c062-45d0-a599-f26aba516a80",
   "metadata": {},
   "outputs": [],
   "source": [
    "# !sudo apt-get install -y chromium-browser -q\n",
    "# !sudo pip install chromedriver-py -q\n",
    "!chmod +x ../chromedriver\n",
    "# ./chromedriver"
   ]
  },
  {
   "cell_type": "code",
   "execution_count": null,
   "id": "2a6615c8-29c5-4691-9191-066ee6c9a793",
   "metadata": {},
   "outputs": [],
   "source": [
    "chrome_options = ChromeOptions()\n",
    "chrome_options.add_argument('--headless')\n",
    "chrome_options.add_argument('--no-sandbox')\n",
    "# chrome_options.add_argument('--disable-dev-shm-usage')\n",
    "chrome_options.add_argument(\"--remote-debugging-port=9222\")\n",
    "\n",
    "driver = webdriver.Chrome('../chromedriver', options=chrome_options)"
   ]
  },
  {
   "cell_type": "code",
   "execution_count": null,
   "id": "1f228fbf-043b-42de-b54f-1f05c84ac6e7",
   "metadata": {},
   "outputs": [],
   "source": [
    "chrome_options"
   ]
  },
  {
   "cell_type": "code",
   "execution_count": null,
   "id": "3c1ee10f-4825-49f0-b54a-074e3f09e47a",
   "metadata": {},
   "outputs": [],
   "source": [
    "def translate_text(text):\n",
    "    time.sleep(0.2)\n",
    "    driver.get(f\"https://www.m-translate.ru/translator/text#text=test&direction=ru-en\")\n",
    "\n",
    "    driver.find_element(By.ID, \"text\").clear()\n",
    "    driver.find_element(By.ID, \"text\").send_keys(text)\n",
    "    driver.find_element(By.ID, \"go_btn\").click()\n",
    "    while driver.find_element(By.ID, \"text_out\").get_attribute(\"value\") == \"\":\n",
    "        time.sleep(0.2)\n",
    "    return driver.find_element(By.ID, \"text_out\").get_attribute(\"value\")"
   ]
  },
  {
   "cell_type": "code",
   "execution_count": null,
   "id": "b5270920-5477-46ef-9efc-c7564d87ff3d",
   "metadata": {},
   "outputs": [],
   "source": [
    "text = \"Рады приветствовать тебя на курсе по соревновательному анализу данных!\"\n",
    "translate_text(text)"
   ]
  },
  {
   "cell_type": "markdown",
   "id": "a13255b0-25f7-4014-ac83-381fea9d3eec",
   "metadata": {},
   "source": [
    "<div class=\"alert alert-info\">\n",
    "Парсинг данных - это очень сильный инструмент, который дает вам большое конкурентное преимущество по сравнению с теми, кто его не освоил или не использует. Ведь данные в задачах Data Science играют ключевую роль."
   ]
  }
 ],
 "metadata": {
  "kernelspec": {
   "display_name": "cv",
   "language": "python",
   "name": "python3"
  },
  "language_info": {
   "codemirror_mode": {
    "name": "ipython",
    "version": 3
   },
   "file_extension": ".py",
   "mimetype": "text/x-python",
   "name": "python",
   "nbconvert_exporter": "python",
   "pygments_lexer": "ipython3",
   "version": "3.10.12"
  }
 },
 "nbformat": 4,
 "nbformat_minor": 5
}
