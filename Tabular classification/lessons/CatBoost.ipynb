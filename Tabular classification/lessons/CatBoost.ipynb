{
 "cells": [
  {
   "cell_type": "markdown",
   "metadata": {},
   "source": [
    "# <center>[😺🚀 Его бустейшество - **`CatBoost`**!](https://stepik.org/lesson/779917/)</center>"
   ]
  },
  {
   "cell_type": "markdown",
   "metadata": {},
   "source": [
    "### Оглавление ноутбука\n",
    "\n",
    "<img src='https://mljar.com/images/machine-learning/catboost.png' align=\"right\" width=\"750\" height=\"750\" />\n",
    "<br>\n",
    "\n",
    "<p><font size=\"3\" face=\"Arial\" font-size=\"large\"><ul type=\"square\">\n",
    "    \n",
    "<li><a href=\"#c1\">🛠 Catboost Classifier и его параметры </a></li>\n",
    "\n",
    "<li><a href=\"#c2\">📂 Настраиваем обучение по фолдам :</a></li>\n",
    "<li><a href=\"#look1\">🔧 Best practices по настройке Catboost </a>\n",
    "<li><a href=\"#check1\"> 🔋 \"Батарейки в комплекте!\"</a>\n",
    "<li><a href=\"#check1\">🤷‍ Другие параметры и режимы</a>\n",
    "\n",
    "<li><a href=\"#6\">🧸 Выводы и заключения</a>\n",
    "\n",
    "</li></ul></font></p>\n",
    "\n"
   ]
  },
  {
   "cell_type": "markdown",
   "metadata": {},
   "source": [
    "<div class=\"alert alert-info\">\n",
    "    \n",
    "\n",
    "**`CatBoost`** — это open-source библиотека градиентного бустинга на решающих деревьях с поддержкой категориальных фичей из коробки, преемник алгоритма `MatrixNet`, разработанного Яндексом.<br>\n",
    "В плане простоты использования и легкости входа для новичков, пожалуй, является топ-1 библиотекой для табличных данных и вот почему:\n",
    "* **Принимает категориальные фичи** сразу без всякой предварительной обработки.\n",
    "* Чтобы перенести обучение с **`CPU`** на **`GPU`** достаточно поменять значение 1 параметра, без установки доп.пакетов или специальных версий, как в других библиотеках\n",
    "* Даже с дефолтными параметрами выдает хорошую точность модели\n",
    "  * Основные параметры не константные, а **подбираются самой библиотекой**, в зависимости от размера входных данных.\n",
    "* Может принимать текстовые признаки, эмбеддинги, временные признаки.\n",
    "* Без дополнительных манипуляций и оберток встраивается в стандартные пайплайны (например, `sklearn`).\n",
    "* Идет в комплекте с \"батарейками\": `feature_selection`, `object_selection`, `cross_validation`, `grid_search` и пр."
   ]
  },
  {
   "cell_type": "markdown",
   "metadata": {},
   "source": [
    "<div class=\"alert alert-info\">\n",
    "\n",
    "**Из минусов: (почти нет)**\n",
    "* Не умеет обрабатывать пропуски в данных (Сами избавляемся или заполняем `NaN` перед подачей в модель).\n",
    "* Не все метрики и лоссы доступны при обучении на **`GPU`**.\n",
    "* Не умеет делать кофе "
   ]
  },
  {
   "cell_type": "markdown",
   "metadata": {},
   "source": [
    "<div class=\"alert alert-info\">\n",
    "\n",
    "**В общем и целом, рекомендуем начинать всегда именно с этой библиотеки, особенно, если только начинаете вкатываться в соревнования.<br>\n",
    "Алгоритм примерно следующий:**\n",
    "\n",
    "1. Скачали данные\n",
    "2. Провели быстрый EDA\n",
    "3. Собрали список кат-фичей, закинули данные в **`CatBoost`**\n",
    "4. Посмотрели, что модель дает с дефолтными фичами и параметрами. (baseline)\n",
    "5. Отправили сабмишен на лидерборд.\n",
    "6. Начинаем настройку валидации, **feature engeneering**, **тюнинг модели**, прочие манипуляции и танцы с бубном."
   ]
  },
  {
   "cell_type": "code",
   "execution_count": 1,
   "metadata": {
    "ExecuteTime": {
     "end_time": "2022-09-23T12:30:27.726118Z",
     "start_time": "2022-09-23T12:30:24.605676Z"
    }
   },
   "outputs": [],
   "source": [
    "!pip install seaborn catboost -q\n",
    "\n",
    "import numpy as np\n",
    "import pandas as pd"
   ]
  },
  {
   "cell_type": "markdown",
   "metadata": {},
   "source": [
    "# <center> Импортируем `train` датасет"
   ]
  },
  {
   "cell_type": "code",
   "execution_count": 2,
   "metadata": {},
   "outputs": [
    {
     "name": "stdout",
     "output_type": "stream",
     "text": [
      "train (2337, 17)\n"
     ]
    },
    {
     "data": {
      "text/html": [
       "<div>\n",
       "<style scoped>\n",
       "    .dataframe tbody tr th:only-of-type {\n",
       "        vertical-align: middle;\n",
       "    }\n",
       "\n",
       "    .dataframe tbody tr th {\n",
       "        vertical-align: top;\n",
       "    }\n",
       "\n",
       "    .dataframe thead th {\n",
       "        text-align: right;\n",
       "    }\n",
       "</style>\n",
       "<table border=\"1\" class=\"dataframe\">\n",
       "  <thead>\n",
       "    <tr style=\"text-align: right;\">\n",
       "      <th></th>\n",
       "      <th>car_id</th>\n",
       "      <th>model</th>\n",
       "      <th>car_type</th>\n",
       "      <th>fuel_type</th>\n",
       "      <th>car_rating</th>\n",
       "      <th>year_to_start</th>\n",
       "      <th>riders</th>\n",
       "      <th>year_to_work</th>\n",
       "      <th>target_reg</th>\n",
       "      <th>target_class</th>\n",
       "      <th>mean_rating</th>\n",
       "      <th>distance_sum</th>\n",
       "      <th>rating_min</th>\n",
       "      <th>speed_max</th>\n",
       "      <th>user_ride_quality_median</th>\n",
       "      <th>deviation_normal_count</th>\n",
       "      <th>user_uniq</th>\n",
       "    </tr>\n",
       "  </thead>\n",
       "  <tbody>\n",
       "    <tr>\n",
       "      <th>611</th>\n",
       "      <td>L-2146603e</td>\n",
       "      <td>Smart ForTwo</td>\n",
       "      <td>economy</td>\n",
       "      <td>petrol</td>\n",
       "      <td>4.76</td>\n",
       "      <td>2014</td>\n",
       "      <td>60852</td>\n",
       "      <td>2022</td>\n",
       "      <td>55.92</td>\n",
       "      <td>engine_overheat</td>\n",
       "      <td>4.214138</td>\n",
       "      <td>1.394655e+07</td>\n",
       "      <td>0.1</td>\n",
       "      <td>179.128822</td>\n",
       "      <td>-3.120805</td>\n",
       "      <td>174</td>\n",
       "      <td>174</td>\n",
       "    </tr>\n",
       "    <tr>\n",
       "      <th>350</th>\n",
       "      <td>v-9234388J</td>\n",
       "      <td>VW Polo VI</td>\n",
       "      <td>economy</td>\n",
       "      <td>petrol</td>\n",
       "      <td>4.86</td>\n",
       "      <td>2014</td>\n",
       "      <td>54274</td>\n",
       "      <td>2015</td>\n",
       "      <td>53.30</td>\n",
       "      <td>another_bug</td>\n",
       "      <td>4.766494</td>\n",
       "      <td>1.503168e+07</td>\n",
       "      <td>0.1</td>\n",
       "      <td>178.000000</td>\n",
       "      <td>10.487676</td>\n",
       "      <td>174</td>\n",
       "      <td>171</td>\n",
       "    </tr>\n",
       "    <tr>\n",
       "      <th>1299</th>\n",
       "      <td>O-9483543e</td>\n",
       "      <td>Smart ForFour</td>\n",
       "      <td>economy</td>\n",
       "      <td>petrol</td>\n",
       "      <td>6.46</td>\n",
       "      <td>2014</td>\n",
       "      <td>66105</td>\n",
       "      <td>2020</td>\n",
       "      <td>32.25</td>\n",
       "      <td>engine_fuel</td>\n",
       "      <td>4.179425</td>\n",
       "      <td>1.202353e+07</td>\n",
       "      <td>0.1</td>\n",
       "      <td>169.646526</td>\n",
       "      <td>5.313803</td>\n",
       "      <td>174</td>\n",
       "      <td>169</td>\n",
       "    </tr>\n",
       "  </tbody>\n",
       "</table>\n",
       "</div>"
      ],
      "text/plain": [
       "          car_id          model car_type fuel_type  car_rating  year_to_start  \\\n",
       "611   L-2146603e   Smart ForTwo  economy    petrol        4.76           2014   \n",
       "350   v-9234388J     VW Polo VI  economy    petrol        4.86           2014   \n",
       "1299  O-9483543e  Smart ForFour  economy    petrol        6.46           2014   \n",
       "\n",
       "      riders  year_to_work  target_reg     target_class  mean_rating  \\\n",
       "611    60852          2022       55.92  engine_overheat     4.214138   \n",
       "350    54274          2015       53.30      another_bug     4.766494   \n",
       "1299   66105          2020       32.25      engine_fuel     4.179425   \n",
       "\n",
       "      distance_sum  rating_min   speed_max  user_ride_quality_median  \\\n",
       "611   1.394655e+07         0.1  179.128822                 -3.120805   \n",
       "350   1.503168e+07         0.1  178.000000                 10.487676   \n",
       "1299  1.202353e+07         0.1  169.646526                  5.313803   \n",
       "\n",
       "      deviation_normal_count  user_uniq  \n",
       "611                      174        174  \n",
       "350                      174        171  \n",
       "1299                     174        169  "
      ]
     },
     "execution_count": 2,
     "metadata": {},
     "output_type": "execute_result"
    },
    {
     "data": {
      "image/png": "[encoded data removed]",
      "text/plain": [
       "<Figure size 2500x600 with 12 Axes>"
      ]
     },
     "metadata": {},
     "output_type": "display_data"
    }
   ],
   "source": [
    "path = \"../data/quickstart_train.csv\"\n",
    "train = pd.read_csv(path)\n",
    "\n",
    "print(\"train\", train.shape)\n",
    "train.hist(figsize=(25, 6), layout=(-1, 6))\n",
    "train.sample(3)"
   ]
  },
  {
   "cell_type": "markdown",
   "metadata": {},
   "source": [
    "# <center> Группируем признаки и отбираем категориальные"
   ]
  },
  {
   "cell_type": "code",
   "execution_count": 3,
   "metadata": {},
   "outputs": [
    {
     "name": "stdout",
     "output_type": "stream",
     "text": [
      "cat_features ['model', 'car_type', 'fuel_type']\n",
      "num_features 11\n",
      "targets ['target_class', 'target_reg']\n"
     ]
    }
   ],
   "source": [
    "cat_features = [\"model\", \"car_type\", \"fuel_type\"]  # Выделяем категориальные признаки\n",
    "targets = [\"target_class\", \"target_reg\"]\n",
    "features2drop = [\"car_id\"]  # эти фичи будут удалены\n",
    "\n",
    "# Отбираем итоговый набор признаков для использования моделью\n",
    "filtered_features = [i for i in train.columns if (i not in targets and i not in features2drop)]\n",
    "num_features = [i for i in filtered_features if i not in cat_features]\n",
    "\n",
    "print(\"cat_features\", cat_features)\n",
    "print(\"num_features\", len(num_features))\n",
    "print(\"targets\", targets)\n",
    "\n",
    "for c in cat_features:  # Избавлеямся от NaN'ов\n",
    "    train[c] = train[c].astype(str)"
   ]
  },
  {
   "cell_type": "markdown",
   "metadata": {
    "ExecuteTime": {
     "end_time": "2022-09-23T12:32:36.135942Z",
     "start_time": "2022-09-23T12:30:24.657Z"
    }
   },
   "source": [
    "# <center> **`CatBoost`** **`Classifier`** и его параметры"
   ]
  },
  {
   "cell_type": "markdown",
   "metadata": {},
   "source": [
    "<p id=\"c1\"></p>    \n",
    "<div class=\"alert alert-info\">\n",
    "\n",
    "Задача - использовать  **`CatBoost`** для классификации поломок. Посмотрим, сможет ли алгоритм справиться с поставленной задачей.\n",
    "\n",
    "Перед использованием рассмотрим параметры модели ([подробнее читай здесь](https://catboost.ai/en/docs/references/training-parameters/common)): "
   ]
  },
  {
   "cell_type": "code",
   "execution_count": 4,
   "metadata": {
    "ExecuteTime": {
     "end_time": "2022-09-23T12:32:36.143937Z",
     "start_time": "2022-09-23T12:30:24.667Z"
    },
    "tags": []
   },
   "outputs": [],
   "source": [
    "from catboost import CatBoostClassifier, CatBoostRegressor, Pool"
   ]
  },
  {
   "cell_type": "code",
   "execution_count": 5,
   "metadata": {},
   "outputs": [
    {
     "data": {
      "text/plain": [
       "<catboost.core.CatBoostClassifier at 0x7fda6164e490>"
      ]
     },
     "execution_count": 5,
     "metadata": {},
     "output_type": "execute_result"
    }
   ],
   "source": [
    "# Какие параметры есть в Catboost? посмотрим через shift + Tab\n",
    "CatBoostClassifier()"
   ]
  },
  {
   "cell_type": "markdown",
   "metadata": {},
   "source": [
    "<div class=\"alert alert-info\">\n",
    "    \n",
    "**Базовые параметры**\n",
    "    \n",
    "* `iterations` (синонимы `num_boost_round`, `n_estimators`, `num_trees`) - максимальное количество деревьев, используемых в модели (по умолчанию **`1000`**). <br>\n",
    "    Значение может быть ниже заданного, если используются другие параметры, накладывающие ограничение на количество деревьев;\n",
    "* `learning_rate` или `eta` – скорость обучения, которая определяет, насколько быстро или медленно модель будет учиться. Значение по умолчанию обычно равно **`0.03`**.\n",
    "* `depth (max_depth)` - глубина дерева (по умолчанию 6, максимальное значение - 16); \n",
    "* `cat_features` - список наименований категориальных признаков; "
   ]
  },
  {
   "cell_type": "markdown",
   "metadata": {},
   "source": [
    "**Режим обучения**\n",
    "\n",
    "* `loss_function` или `objective`- функция потерь, которую надо минимизировать при обучении. Есть показатели для регрессии (среднеквадратичная ошибка), есть для классификации (`logloss`).\n",
    "* `eval_metric` - валидационная метрика, используемая для обнаружения переобучения и ранней остановки;\n",
    "* `custom_metric` - отслеживаемые метрики. Лучшие метрики в процессе обучения можно вернуть методом `get_best_score`;\n",
    "* `early_stopping_rounds` - определяет число итераций до остановки, если на их протяжении метрика качества не улучшалась по сравнению с оптимальной;\n",
    "* `use_best_model` - если **`True`**, в результате обучения с ранней остановкой будет возвращаться модель, полученная на итерации (количеством деревьев) с лучшей метрикой на валидационной выборке;"
   ]
  },
  {
   "cell_type": "markdown",
   "metadata": {},
   "source": [
    "<div class=\"alert alert-info\">\n",
    "    \n",
    "**Регуляризация модели, ускоряющие и обобщающие модель**\n",
    "    \n",
    "* `l2_leaf_reg` (или `reg_lambda`) – коэффициент при члене регуляризации **`L2`** функции потерь. Значение по умолчанию – **`3.0`**.\n",
    "* `min_data_in_leaf (min_child_samples)` -  минимальное количество обучающих сэмплов в листе. \n",
    "* `max_leaves (num_leaves)` - максимальное количество листьев в дереве. \n",
    "* `subsample` - часть исходной выборки, отбираемая для обучения каждого дерева;\n",
    "* `colsample_bylevel` - доля признаков, используемая для отбора на каждом сплите;\n",
    "* `max_bin` - максимальное число бинов, на которые разбиваются признаки"
   ]
  },
  {
   "cell_type": "markdown",
   "metadata": {},
   "source": [
    "**Полезно использовать**    \n",
    "    \n",
    "* `random_seed` или `random_state` – инициализирующее значение для используемого генератора случайных чисел, чтобы обеспечить воспроизводимость эксперимента;\n",
    "* `task_type` - используемое для вычислений устройство (**`CPU`**, **`GPU`**);\n",
    "* `thread_count` - число используемых для обучения потоков (по умолчанию = **`-1`**, что означает - все ядра процессора);\n",
    "* `verbose` - объем выводимой информации (**`False`** - подавляем сообщения)."
   ]
  },
  {
   "cell_type": "markdown",
   "metadata": {},
   "source": [
    "<div class=\"alert alert-info\">\n",
    "\n",
    "**Балансировка классов**\n",
    "\n",
    "* `class_weights` - веса классов в моделях классификации. Используется для устранения дисбаланса (например, вес `positive`= `количество_negative`/`количество_positive`);\n",
    "* `classes_count` - количество классов для многоклассовой классификации;\n",
    "* `auto_class_weights` - устраняет дисбаланс автоматически (значения - **`Balanced`**, **`SqrtBalanced`**);\n",
    "* `scale_pos_weight` - задает вес для положительного класса; Среди параметров `scale_pos_weight`, `auto_class_weights`, `class_weights` одновременно используется только один."
   ]
  },
  {
   "cell_type": "markdown",
   "metadata": {},
   "source": [
    "## <center> Для начала обучим **`CatBoost`** с параметрами по умолчанию:"
   ]
  },
  {
   "cell_type": "code",
   "execution_count": 6,
   "metadata": {},
   "outputs": [],
   "source": [
    "from sklearn.model_selection import train_test_split\n",
    "\n",
    "X = train[filtered_features].drop(targets, axis=1, errors=\"ignore\")\n",
    "y = train[\"target_class\"]\n",
    "X_train, X_test, y_train, y_test = train_test_split(X, y, test_size=0.2, random_state=42)"
   ]
  },
  {
   "cell_type": "code",
   "execution_count": 7,
   "metadata": {},
   "outputs": [
    {
     "name": "stdout",
     "output_type": "stream",
     "text": [
      "Learning rate set to 0.109335\n",
      "0:\tlearn: 1.8108068\ttest: 1.8310378\tbest: 1.8310378 (0)\ttotal: 52.8ms\tremaining: 52.8s\n",
      "200:\tlearn: 0.2789378\ttest: 0.5441162\tbest: 0.5374049 (156)\ttotal: 1.53s\tremaining: 6.09s\n",
      "Stopped by overfitting detector  (100 iterations wait)\n",
      "\n",
      "bestTest = 0.5374048663\n",
      "bestIteration = 156\n",
      "\n",
      "Shrink model to first 157 iterations.\n"
     ]
    },
    {
     "data": {
      "text/plain": [
       "<catboost.core.CatBoostClassifier at 0x7fd9eb457730>"
      ]
     },
     "execution_count": 7,
     "metadata": {},
     "output_type": "execute_result"
    }
   ],
   "source": [
    "clf = CatBoostClassifier(thread_count=-1,\n",
    "                         random_seed=42,\n",
    "                         cat_features=cat_features)\n",
    "\n",
    "clf.fit(\n",
    "    X_train,\n",
    "    y_train,\n",
    "    eval_set=(X_test, y_test),\n",
    "    verbose=200,\n",
    "    use_best_model=True,\n",
    "    plot=False,\n",
    "    early_stopping_rounds=100,\n",
    ")"
   ]
  },
  {
   "cell_type": "markdown",
   "metadata": {},
   "source": [
    "<div class=\"alert alert-info\">\n",
    "    \n",
    "Видим, что **`CatBoost`** сам установил параметр `learning_rate = 0.109335` <br>\n",
    "Теперь давайте поменяем количество деревьев."
   ]
  },
  {
   "cell_type": "code",
   "execution_count": 52,
   "metadata": {},
   "outputs": [
    {
     "name": "stdout",
     "output_type": "stream",
     "text": [
      "Learning rate set to 0.26253\n",
      "0:\tlearn: 1.4248763\ttest: 1.4207873\tbest: 1.4207873 (0)\ttotal: 4.37ms\tremaining: 433ms\n",
      "10:\tlearn: 0.5816760\ttest: 0.6235356\tbest: 0.6235356 (10)\ttotal: 50.5ms\tremaining: 408ms\n",
      "20:\tlearn: 0.4815769\ttest: 0.5504441\tbest: 0.5504441 (20)\ttotal: 94.5ms\tremaining: 356ms\n",
      "30:\tlearn: 0.4339785\ttest: 0.5356849\tbest: 0.5338202 (29)\ttotal: 144ms\tremaining: 321ms\n",
      "40:\tlearn: 0.3799048\ttest: 0.5187874\tbest: 0.5187874 (40)\ttotal: 193ms\tremaining: 278ms\n",
      "50:\tlearn: 0.3423726\ttest: 0.5096558\tbest: 0.5087483 (48)\ttotal: 242ms\tremaining: 233ms\n",
      "60:\tlearn: 0.3165420\ttest: 0.5101417\tbest: 0.5087483 (48)\ttotal: 289ms\tremaining: 184ms\n",
      "70:\tlearn: 0.2879564\ttest: 0.5102331\tbest: 0.5087483 (48)\ttotal: 334ms\tremaining: 136ms\n",
      "80:\tlearn: 0.2643725\ttest: 0.5101204\tbest: 0.5085682 (76)\ttotal: 380ms\tremaining: 89.2ms\n",
      "90:\tlearn: 0.2439870\ttest: 0.5100987\tbest: 0.5085682 (76)\ttotal: 426ms\tremaining: 42.1ms\n",
      "99:\tlearn: 0.2244591\ttest: 0.5118741\tbest: 0.5085682 (76)\ttotal: 466ms\tremaining: 0us\n",
      "\n",
      "bestTest = 0.5085682128\n",
      "bestIteration = 76\n",
      "\n",
      "Shrink model to first 77 iterations.\n"
     ]
    },
    {
     "data": {
      "text/plain": [
       "<catboost.core.CatBoostClassifier at 0x7fd9eb490130>"
      ]
     },
     "execution_count": 52,
     "metadata": {},
     "output_type": "execute_result"
    }
   ],
   "source": [
    "clf = CatBoostClassifier(iterations=100,\n",
    "                         thread_count=-1,\n",
    "                         random_seed=42,\n",
    "                         cat_features=cat_features)\n",
    "\n",
    "clf.fit(\n",
    "    X_train,\n",
    "    y_train,\n",
    "    eval_set=(X_test, y_test),\n",
    "    verbose=10,\n",
    "    use_best_model=True,\n",
    "    early_stopping_rounds=50,\n",
    ")"
   ]
  },
  {
   "cell_type": "markdown",
   "metadata": {},
   "source": [
    "<div class=\"alert alert-info\">\n",
    "    \n",
    "Число деревьев уменьшили вдвое и `learning_rate` тоже пересчитался - стал больше: `0.14248`. Он также зависит не только от числа деревьев, но и пересчитывается под размеры датасета - это одна из крутых фишек CatBoost, и поэтому он может выдавать хорошую точность из коробки. Чтобы посмотреть другие гиперпараметры модели и как они меняются, можно вызвать метод: `clf.get_all_params()`"
   ]
  },
  {
   "cell_type": "code",
   "execution_count": 9,
   "metadata": {},
   "outputs": [
    {
     "data": {
      "text/html": [
       "<div>\n",
       "<style scoped>\n",
       "    .dataframe tbody tr th:only-of-type {\n",
       "        vertical-align: middle;\n",
       "    }\n",
       "\n",
       "    .dataframe tbody tr th {\n",
       "        vertical-align: top;\n",
       "    }\n",
       "\n",
       "    .dataframe thead th {\n",
       "        text-align: right;\n",
       "    }\n",
       "</style>\n",
       "<table border=\"1\" class=\"dataframe\">\n",
       "  <thead>\n",
       "    <tr style=\"text-align: right;\">\n",
       "      <th></th>\n",
       "      <th>Feature Id</th>\n",
       "      <th>Importances</th>\n",
       "    </tr>\n",
       "  </thead>\n",
       "  <tbody>\n",
       "    <tr>\n",
       "      <th>0</th>\n",
       "      <td>speed_max</td>\n",
       "      <td>36.712356</td>\n",
       "    </tr>\n",
       "    <tr>\n",
       "      <th>1</th>\n",
       "      <td>mean_rating</td>\n",
       "      <td>33.260522</td>\n",
       "    </tr>\n",
       "    <tr>\n",
       "      <th>2</th>\n",
       "      <td>rating_min</td>\n",
       "      <td>12.774934</td>\n",
       "    </tr>\n",
       "    <tr>\n",
       "      <th>3</th>\n",
       "      <td>model</td>\n",
       "      <td>4.438743</td>\n",
       "    </tr>\n",
       "    <tr>\n",
       "      <th>4</th>\n",
       "      <td>user_uniq</td>\n",
       "      <td>2.990045</td>\n",
       "    </tr>\n",
       "    <tr>\n",
       "      <th>5</th>\n",
       "      <td>car_type</td>\n",
       "      <td>2.745549</td>\n",
       "    </tr>\n",
       "    <tr>\n",
       "      <th>6</th>\n",
       "      <td>riders</td>\n",
       "      <td>1.738469</td>\n",
       "    </tr>\n",
       "    <tr>\n",
       "      <th>7</th>\n",
       "      <td>user_ride_quality_median</td>\n",
       "      <td>1.697093</td>\n",
       "    </tr>\n",
       "    <tr>\n",
       "      <th>8</th>\n",
       "      <td>car_rating</td>\n",
       "      <td>1.332812</td>\n",
       "    </tr>\n",
       "    <tr>\n",
       "      <th>9</th>\n",
       "      <td>distance_sum</td>\n",
       "      <td>1.162986</td>\n",
       "    </tr>\n",
       "    <tr>\n",
       "      <th>10</th>\n",
       "      <td>year_to_work</td>\n",
       "      <td>0.907819</td>\n",
       "    </tr>\n",
       "    <tr>\n",
       "      <th>11</th>\n",
       "      <td>year_to_start</td>\n",
       "      <td>0.213770</td>\n",
       "    </tr>\n",
       "    <tr>\n",
       "      <th>12</th>\n",
       "      <td>fuel_type</td>\n",
       "      <td>0.024900</td>\n",
       "    </tr>\n",
       "    <tr>\n",
       "      <th>13</th>\n",
       "      <td>deviation_normal_count</td>\n",
       "      <td>0.000000</td>\n",
       "    </tr>\n",
       "  </tbody>\n",
       "</table>\n",
       "</div>"
      ],
      "text/plain": [
       "                  Feature Id  Importances\n",
       "0                  speed_max    36.712356\n",
       "1                mean_rating    33.260522\n",
       "2                 rating_min    12.774934\n",
       "3                      model     4.438743\n",
       "4                  user_uniq     2.990045\n",
       "5                   car_type     2.745549\n",
       "6                     riders     1.738469\n",
       "7   user_ride_quality_median     1.697093\n",
       "8                 car_rating     1.332812\n",
       "9               distance_sum     1.162986\n",
       "10              year_to_work     0.907819\n",
       "11             year_to_start     0.213770\n",
       "12                 fuel_type     0.024900\n",
       "13    deviation_normal_count     0.000000"
      ]
     },
     "execution_count": 9,
     "metadata": {},
     "output_type": "execute_result"
    }
   ],
   "source": [
    "# Посмотрим на feature importance с помощью встроенного метода\n",
    "# Не забываем про параметр prettified, чтобы список вывелся в виде красивой таблицы\n",
    "clf.get_feature_importance(prettified=True)"
   ]
  },
  {
   "cell_type": "markdown",
   "metadata": {},
   "source": [
    "<p id='c2'></p>\n",
    "\n",
    "# <center> Настраиваем обучение по фолдам"
   ]
  },
  {
   "cell_type": "code",
   "execution_count": 10,
   "metadata": {},
   "outputs": [],
   "source": [
    "from catboost import CatBoostClassifier, CatBoostRegressor, Pool\n",
    "from sklearn.model_selection import KFold  # k-фолдная валидация"
   ]
  },
  {
   "cell_type": "code",
   "execution_count": 18,
   "metadata": {
    "ExecuteTime": {
     "end_time": "2022-09-23T12:32:36.143937Z",
     "start_time": "2022-09-23T12:30:24.667Z"
    },
    "tags": []
   },
   "outputs": [
    {
     "name": "stdout",
     "output_type": "stream",
     "text": [
      "0:\tlearn: 2.1956073\ttest: 2.1958090\tbest: 2.1958090 (0)\ttotal: 939us\tremaining: 3.29s\n",
      "500:\tlearn: 0.4702692\ttest: 0.5569354\tbest: 0.5569354 (500)\ttotal: 525ms\tremaining: 3.15s\n",
      "Stopped by overfitting detector  (50 iterations wait)\n",
      "\n",
      "bestTest = 0.5096496804\n",
      "bestIteration = 916\n",
      "\n",
      "Shrink model to first 917 iterations.\n",
      "0:\tlearn: 2.1951404\ttest: 2.1964014\tbest: 2.1964014 (0)\ttotal: 887us\tremaining: 3.11s\n",
      "500:\tlearn: 0.4909194\ttest: 0.5563577\tbest: 0.5562080 (497)\ttotal: 516ms\tremaining: 3.09s\n",
      "1000:\tlearn: 0.3967000\ttest: 0.5050570\tbest: 0.5050184 (997)\ttotal: 1.03s\tremaining: 2.58s\n",
      "Stopped by overfitting detector  (50 iterations wait)\n",
      "\n",
      "bestTest = 0.4961039188\n",
      "bestIteration = 1241\n",
      "\n",
      "Shrink model to first 1242 iterations.\n",
      "0:\tlearn: 2.1956876\ttest: 2.1960187\tbest: 2.1960187 (0)\ttotal: 869us\tremaining: 3.04s\n",
      "500:\tlearn: 0.4706323\ttest: 0.5434797\tbest: 0.5434797 (500)\ttotal: 505ms\tremaining: 3.02s\n",
      "1000:\tlearn: 0.3921691\ttest: 0.5102073\tbest: 0.5102073 (1000)\ttotal: 1.01s\tremaining: 2.53s\n",
      "Stopped by overfitting detector  (50 iterations wait)\n",
      "\n",
      "bestTest = 0.5101994306\n",
      "bestIteration = 1001\n",
      "\n",
      "Shrink model to first 1002 iterations.\n",
      "mean Recall score ---------> 0.843\n"
     ]
    }
   ],
   "source": [
    "n_splits = 3  # Число фолдов. Оптимально 3, 5 или 10\n",
    "clfs = [] # Тут будем сохранять модели\n",
    "scores = [] # Тут будем хранить скоры валидационных фолдов\n",
    "\n",
    "# параметры валидации, обучение будет идти на n_splits фолдах\n",
    "X = train[filtered_features].drop(targets, axis=1, errors=\"ignore\")\n",
    "y = train[\"target_class\"]\n",
    "\n",
    "kf = KFold(n_splits=n_splits, shuffle=True, random_state=7575)\n",
    "for train_index, test_index in kf.split(X):\n",
    "\n",
    "    X_train, X_test = X.iloc[train_index], X.iloc[test_index]\n",
    "    y_train, y_test = y.iloc[train_index], y.iloc[test_index]\n",
    "\n",
    "    # Специальный класс для ускорения обучения \n",
    "    train_dataset = Pool(data=X_train, label=y_train, cat_features=cat_features)\n",
    "    eval_dataset = Pool(data=X_test, label=y_test, cat_features=cat_features)\n",
    "\n",
    "    clf = CatBoostClassifier(\n",
    "        depth=4,\n",
    "        iterations=3500,\n",
    "        learning_rate=0.06,\n",
    "        loss_function=\"MultiClass\",  # MultiLogloss\n",
    "        # eval_metric = 'Precision',  F1:macro / AUC:hints=skip_train~false\n",
    "        custom_metric=[\"Recall\"],  # 'AUC / Accuracy,\n",
    "        \n",
    "        # Главная фишка катбуста - работа с категориальными признаками\n",
    "        cat_features=cat_features,\n",
    "        # ignored_features = ignored_features,\n",
    "        \n",
    "        # Регуляризация и ускорение\n",
    "        colsample_bylevel=0.098,\n",
    "        subsample=0.95,\n",
    "        l2_leaf_reg=9,\n",
    "        min_data_in_leaf=243,\n",
    "        max_bin=187,\n",
    "        random_strength=1,\n",
    "        \n",
    "        # Параметры скорения\n",
    "        task_type=\"CPU\",    \n",
    "        thread_count=-1,\n",
    "        bootstrap_type=\"Bernoulli\", \n",
    "        \n",
    "        # Важное!\n",
    "        random_seed=7575,\n",
    "        auto_class_weights=\"SqrtBalanced\",\n",
    "        early_stopping_rounds=50)\n",
    "\n",
    "    clfs.append(clf)\n",
    "\n",
    "    clf.fit(\n",
    "        train_dataset,\n",
    "        eval_set=eval_dataset,\n",
    "        verbose=500,\n",
    "        use_best_model=True,\n",
    "        plot=False)\n",
    "\n",
    "    scores.append(np.mean([v for k, v in clf.best_score_[\"validation\"].items() if \"Recall\" in k], dtype=\"float16\"))\n",
    "    # scores.append(clf.best_score_['validation']['MultiClass'])\n",
    "    # clf.save_model(\"../tmp_data/cool_catboost_model_{}_deep\".format(n))\n",
    "\n",
    "assert len(clfs) == n_splits\n",
    "print(\"mean Recall score --------->\", np.mean(scores, dtype=\"float16\") - np.std(scores, dtype=\"float16\"))"
   ]
  },
  {
   "cell_type": "code",
   "execution_count": null,
   "metadata": {},
   "outputs": [],
   "source": [
    "# clf.best_score_['validation']"
   ]
  },
  {
   "cell_type": "markdown",
   "metadata": {},
   "source": [
    "<div class=\"alert alert-info\">\n",
    "    \n",
    "* `cat_features` — массив с категориальными столбцами.\n",
    "* `ignored_features` — указывает на признаки, которые нужно игнорировать в процессе обучения.\n",
    "* `task_type` – используете вы **`CPU`** или **`GPU`**. По умолчанию стоит **`CPU`**.\n",
    "* `devices` — идентификаторы устройств **`GPU`**, которые будут использоваться для обучения."
   ]
  },
  {
   "cell_type": "code",
   "execution_count": null,
   "metadata": {},
   "outputs": [],
   "source": [
    "# 0.843 - > 0.90"
   ]
  },
  {
   "cell_type": "markdown",
   "metadata": {},
   "source": [
    "<p id=\"c3\"></p>    \n",
    "    \n",
    "# <center>🤹‍📈 **`Best practices`** по настройке **`Catboost`**"
   ]
  },
  {
   "cell_type": "markdown",
   "metadata": {},
   "source": [
    "<div class=\"alert alert-info\">\n",
    "    \n",
    "- 🍏 Категориальные признаки помещать в `cat_features`. Сами не кодируем. \n",
    "-  ⚠️ Фиксировать `random_seed` модели и разбиения. (В идеале, порядок фичей тоже)\n",
    "- 🍏 Помещать данные в `Pool` для ускорения. (Квантилизация заранее)\n",
    "- 🎓 Иметь `eval_set`, чтобы выставить `early_stopping_rounds`\n",
    "- 🍏 Использовать регуляризационные параметы `l2_leaf_reg`, `colsample_bylevel`, `subsample` и другие\n",
    "- 🎓 Ставить `max_depth` как можно меньше при том же уровне точности\n",
    "- 🍏 `iterations` должен быть с запасом для срабатывания `early_stopping_rounds`\n",
    "- 🎓 `learning_rate` подбирается по метрике.\n",
    "- 🍏 Метрика - та, что заявлена в чемпионате. (**Recall**, **MAE**, **Корреляция** ...)\n",
    "- ⚠️ Оцениваем модель по **`score = mean(metrics) - std(metrics)`**!\n",
    "- 📈 Иногда записываем значения метрики локально и их значение на лидерборде.  "
   ]
  },
  {
   "cell_type": "markdown",
   "metadata": {},
   "source": [
    " "
   ]
  },
  {
   "cell_type": "markdown",
   "metadata": {},
   "source": [
    "# <center> Анализ и интерпретация модели\n",
    "    \n",
    "<div class=\"alert alert-info\">\n",
    "    \n",
    "Полезный кусочек кода, который полезно использовать для визуализации."
   ]
  },
  {
   "cell_type": "code",
   "execution_count": null,
   "metadata": {},
   "outputs": [],
   "source": [
    "import matplotlib.pyplot as plt\n",
    "import seaborn as sns\n",
    "\n",
    "\n",
    "def plot_importance(df, best_model, height = 0.2, top_n=50):\n",
    "\n",
    "    fi = pd.DataFrame(index=df.columns, columns=[])\n",
    "    for i, m in enumerate(best_model):\n",
    "        fi[f\"m_{i}\"] = m.get_feature_importance()\n",
    "\n",
    "    fi = fi.stack().reset_index().iloc[:, [0, 2]]  # .to_frame()\n",
    "    fi.columns = [\"feature\", \"importance\"]\n",
    "\n",
    "    cols_ord = list(fi.groupby(\"feature\")[\"importance\"].mean().sort_values(ascending=False).index)\n",
    "    \n",
    "    print(\"Всего признаков {} Усреднее по {}-ти моделям: \".format(len(cols_ord), len(best_model)))\n",
    "    cols_ord = cols_ord[:top_n]\n",
    "\n",
    "    fi = fi[fi[\"feature\"].isin(cols_ord)]\n",
    "\n",
    "    plt.figure(figsize=(10, len(cols_ord) * height))\n",
    "    b = sns.boxplot(data=fi, y=\"feature\", x=\"importance\", orient=\"h\", order=cols_ord)\n",
    "\n",
    "    print(\"На график нанесено топ-{} признаков\".format(top_n))\n",
    "    return (\n",
    "        fi.groupby(by=[\"feature\"], as_index=False)[\"importance\"]\n",
    "        .mean()\n",
    "        .sort_values(by=\"importance\", ascending=False))\n",
    "\n",
    "\n",
    "df_feats_imp = plot_importance(\n",
    "    train[filtered_features].drop(targets, axis=1, errors=\"ignore\"),\n",
    "    best_model = clfs,\n",
    "    height = 0.20,\n",
    "    top_n=13,\n",
    ")"
   ]
  },
  {
   "cell_type": "markdown",
   "metadata": {},
   "source": [
    "## <center>**`Feature Importance`** с помощью **Shap**.</center>\n",
    "\n",
    "[Ссылка на документацию Shap](https://shap.readthedocs.io/en/latest/)"
   ]
  },
  {
   "cell_type": "code",
   "execution_count": null,
   "metadata": {},
   "outputs": [],
   "source": [
    "!pip install catboost -q\n",
    "!pip uninstall opencv-python -y -q\n",
    "!pip install opencv-python shap -q"
   ]
  },
  {
   "cell_type": "code",
   "execution_count": null,
   "metadata": {},
   "outputs": [],
   "source": [
    "import shap\n",
    "\n",
    "shap.initjs()"
   ]
  },
  {
   "cell_type": "code",
   "execution_count": null,
   "metadata": {},
   "outputs": [],
   "source": [
    "explainer = shap.TreeExplainer(clfs[-1])\n",
    "\n",
    "train_dataset = Pool(data=X_train, label=y_train, cat_features=cat_features)\n",
    "shap_values = explainer.shap_values(train_dataset)\n",
    "\n",
    "shap.summary_plot(shap_values, X_train, max_display=25)"
   ]
  },
  {
   "cell_type": "markdown",
   "metadata": {},
   "source": [
    "# <center> Теперь произведем инференс модели"
   ]
  },
  {
   "cell_type": "code",
   "execution_count": null,
   "metadata": {},
   "outputs": [],
   "source": [
    "# dir(clf)"
   ]
  },
  {
   "cell_type": "code",
   "execution_count": null,
   "metadata": {},
   "outputs": [],
   "source": [
    "path = \"../data/quickstart_test.csv\"\n",
    "sub = pd.read_csv(path)\n",
    "\n",
    "# массив для записи финального прогноза size*n_class\n",
    "y_pred = np.zeros((sub.shape[0], train[targets].nunique()[0]))\n",
    "\n",
    "# Пробегаемся по моделям каждого фолда и дергаем прогноз \n",
    "for n, clf in enumerate(clfs):\n",
    "    y_pred += clf.predict_proba(sub[filtered_features])\n",
    "\n",
    "f = lambda x: clf.classes_[x]\n",
    "sub[\"target_class\"] = list(map(f, y_pred.argmax(axis=1)))\n",
    "\n",
    "sub[[\"car_id\", \"target_class\"]].to_csv(\"../subs/catboost_kfold.csv\", index=False)\n",
    "sub[[\"car_id\", \"target_class\"]].head()"
   ]
  },
  {
   "cell_type": "markdown",
   "metadata": {},
   "source": [
    "# <center>🔋 \"Батарейки в комплекте!\" </center>\n",
    "\n",
    "<div class=\"alert alert-info\">\n",
    "\n",
    "Ещё одной важной особенностью **`CatBoost`** является большой набор полезных встроенных функций (батареек): всё что нужно внутри одного фреймворка:\n",
    "\n",
    "* `Recursive Feature Selection` (рассматривался в ноутбуке по `Feature Selection`)\n",
    "* `Object Selection` - отбор объектов для обучения. Удаляются \"вредные\".\n",
    "* Подбор оптимальных гиперпараметров (`Grid search`)\n",
    "* [Кросс-валидация](https://github.com/catboost/tutorials/tree/master/cross_validation)\n",
    "* Обработка текстов и эмбеддингов\n",
    "\n",
    "Посмотрим на некоторые из этих функций."
   ]
  },
  {
   "cell_type": "markdown",
   "metadata": {},
   "source": [
    "## <center> **`Object Importance`** или удаляем вредные примеры </center>\n",
    "\n",
    "<div class=\"alert alert-info\">\n",
    "    \n",
    "`**Object importance**` - позволяет оценить влияние каждого элемента обучающей выборки на значение целевой метрики (`eval_metric`). То есть, с помощью этой функции можно найти и избавиться от выбросов, шума и прочего мусора в тренировочном датасете.\n",
    "\n",
    "На данный момент, расчет **object importance** доступен только для некоторых лосс-функций: \n",
    "\n",
    "`Logloss`, `CrossEntropy`, `RMSE`, `MAE`, `Quantile`, `Expectile`, `LogLinQuantile`, `MAPE`, `Poisson`\n",
    "\n",
    "В списке нет `MultiLogloss`, поэтому для задачи мультиклассификации нельзя его рассчитать. Рассмотрим на примере регрессии.\n"
   ]
  },
  {
   "cell_type": "code",
   "execution_count": null,
   "metadata": {},
   "outputs": [],
   "source": [
    "X = train[filtered_features].drop(targets, axis=1, errors=\"ignore\")\n",
    "y = train[\"target_reg\"]\n",
    "X_train, X_test, y_train, y_test = train_test_split(\n",
    "    X, y, test_size=0.2, random_state=42\n",
    ")"
   ]
  },
  {
   "cell_type": "code",
   "execution_count": null,
   "metadata": {},
   "outputs": [],
   "source": [
    "train_pool = Pool(X_train, y_train, cat_features=cat_features)\n",
    "test_pool = Pool(X_test, y_test, cat_features=cat_features)\n",
    "\n",
    "# Обучим модель регрессии\n",
    "model = CatBoostRegressor(\n",
    "    random_seed=42, thread_count=-1, cat_features=cat_features, eval_metric=\"RMSE\"\n",
    ")\n",
    "\n",
    "model.fit(\n",
    "    train_pool,\n",
    "    eval_set=test_pool,\n",
    "    verbose=100,\n",
    "    use_best_model=True,\n",
    "    plot=False,\n",
    "    early_stopping_rounds=100,\n",
    ")"
   ]
  },
  {
   "cell_type": "markdown",
   "metadata": {},
   "source": [
    "<div class=\"alert alert-info\">\n",
    "    \n",
    "Рассмотрим основные параметры метода `get_object_importance`: <br>\n",
    "```python\n",
    "get_object_importance(pool,\n",
    "                      train_pool,\n",
    "                      top_size=-1, # число возвращаемых наиболее важных объектов из трэйн датасета (-1 без ограничений)\n",
    "                      type='Average', # тип вычисления `Average` или `PerObject` - второй тип дольше\n",
    "                      importance_values_sign='All' # `Positive`, `Negative`, `All` - зависит от оптимизируемой метрики\n",
    "                      update_method='SinglePoint', # `SinglePoint` — быстрейший, `TopKLeaves`, `AllPoints` — Самый медленный и самый точный метод.\n",
    "                      )\n",
    "```"
   ]
  },
  {
   "cell_type": "code",
   "execution_count": null,
   "metadata": {},
   "outputs": [],
   "source": [
    "# метод возвращает отсортированные списки индексов и скоров\n",
    "idxs, scores = model.get_object_importance(\n",
    "    test_pool, train_pool, importance_values_sign=\"Positive\", thread_count=-1\n",
    ")\n",
    "len(idxs)"
   ]
  },
  {
   "cell_type": "code",
   "execution_count": null,
   "metadata": {},
   "outputs": [],
   "source": [
    "# Нашлось 1070 объектов, которые увеличивают нашу RMSE, посмотрим на топ-20\n",
    "scores[:20]"
   ]
  },
  {
   "cell_type": "code",
   "execution_count": null,
   "metadata": {},
   "outputs": [],
   "source": [
    "# Попробуем отбросить топ-100 найденных и посмотрим как изменится точность\n",
    "train_pool = Pool(\n",
    "    X_train.reset_index(drop=True).drop(idxs[:100]),\n",
    "    y_train.reset_index(drop=True).drop(idxs[:100]),\n",
    "    cat_features=cat_features,\n",
    ")\n",
    "\n",
    "model = CatBoostRegressor(\n",
    "    random_seed=42, thread_count=-1, cat_features=cat_features, eval_metric=\"RMSE\"\n",
    ")\n",
    "\n",
    "model.fit(\n",
    "    train_pool,\n",
    "    eval_set=test_pool,\n",
    "    verbose=100,\n",
    "    use_best_model=True,\n",
    "    plot=False,\n",
    "    early_stopping_rounds=100,\n",
    ")"
   ]
  },
  {
   "cell_type": "markdown",
   "metadata": {},
   "source": [
    "<div class=\"alert alert-info\">\n",
    "    \n",
    "`RMSE` уменьшилась на `~ 0.5`. Можете ещё поэкспериментировать с другими параметрами и отбрасыванием большего количества объектов."
   ]
  },
  {
   "cell_type": "markdown",
   "metadata": {},
   "source": [
    "## <center> Подбор оптимальных гиперпараметров. </center>\n",
    "\n",
    "<div class=\"alert alert-info\">\n",
    "\n",
    "В `CatBoost` реализовано 2 метода подбора гиперпараметров модели: `grid_search` и `randomized_search`. Как заявляют авторы фреймворка, методы оптимизированы и справляются с задачей быстрее, чем аналогичные из `sklearn`. [Grid search](https://catboost.ai/en/docs/concepts/python-reference_catboostclassifier_grid_search) просто перебирает параметры по заданной сетке, [randomized search](https://catboost.ai/en/docs/concepts/python-reference_catboostclassifier_randomized_search) берет рандомные сэмплы из заданного распределения.\n",
    "\n",
    "Посмотрим пример с `randomized search`. В последующих модулях вы узнаете про более быстрые и умные оптимизаторы гиперпараметров, но начать можно с этих. "
   ]
  },
  {
   "cell_type": "code",
   "execution_count": null,
   "metadata": {},
   "outputs": [],
   "source": [
    "from scipy import stats\n",
    "\n",
    "model = CatBoostRegressor(\n",
    "    random_seed=42,\n",
    "    thread_count=-1,\n",
    "    cat_features=cat_features,\n",
    "    eval_metric=\"RMSE\",\n",
    "    verbose=500,\n",
    ")\n",
    "\n",
    "param_distribution = {\n",
    "    \"one_hot_max_size\": stats.bernoulli(p=0.2, loc=2),\n",
    "    \"learning_rate\": [0.03, 0.1, 0.3],\n",
    "    \"l2_leaf_reg\": [2, 5, 7],\n",
    "    \"depth\": stats.binom(n=10, p=0.2),\n",
    "}\n",
    "randomized_search_result = model.randomized_search(param_distribution, X_train, y_train)\n",
    "model.best_score_"
   ]
  },
  {
   "cell_type": "code",
   "execution_count": null,
   "metadata": {},
   "outputs": [],
   "source": [
    "# Лучшие параметры модели из перебора\n",
    "randomized_search_result[\"params\"]"
   ]
  },
  {
   "cell_type": "markdown",
   "metadata": {},
   "source": [
    "# <center> 🎓Какие еще полезные параметры есть в **`Catboost`**?"
   ]
  },
  {
   "cell_type": "markdown",
   "metadata": {},
   "source": [
    "<div class=\"alert alert-info\">\n",
    "\n",
    "**Многие знают, что такое `random_seed`, `learning_rate`, `iterations`, поэтому обсудим другие:**\n",
    "* `boosting_type` – тип бустинга, который используется при обучении\n",
    "  * значение `Plain` дает качество хуже, но работает быстрее\n",
    "  * есть другой более затратный тип — `Ordered`, но дает лучшее качество (только для небольших датасетов).\n",
    "* `bootstrap_type` –  определяет метод сэмплинга весов объектов. Когда мы строим дерево, построение идет не по всем объектам обучающей выборки, а по нескольким объектам. Это может быть Байес, Бернулли, многомерная случайная величина или Пуассон.\n",
    "* `subsample` – вероятность, по которой будет выбираться каждый объект для построения дерева. Параметры `bootstrap_type` и `subsample` идут в связке.\n",
    "* `one_hot_max_size` – это горячее кодирование определенных переменных выборки (конвертируем каждое категориальное значение в новый категориальный столбец и присваиваем этим столбцам двоичное значение 1 или 0). \n",
    "* `RSM` - аналогичен `subsample`, только используется **для фичей, а не объектов**.\n",
    "* `leaf_estimation_iterations` – количество итераций подсчета значений в листьях.\n",
    "* `max_ctr_complexity` – длина перебора комбинаций фичей из данной выборки. Разделение ветвей не только по отдельным признакам, **но и по их комбинациям - одна из ключевых особенностей CatBoost.**"
   ]
  },
  {
   "cell_type": "code",
   "execution_count": null,
   "metadata": {},
   "outputs": [],
   "source": [
    "from catboost import CatBoost\n",
    "\n",
    "fast_model = CatBoostClassifier(\n",
    "    random_seed=63,\n",
    "    iterations=150,\n",
    "    learning_rate=0.01,\n",
    "    boosting_type=\"Plain\",\n",
    "    bootstrap_type=\"Bernoulli\",\n",
    "    subsample=0.5,\n",
    "    one_hot_max_size=20,\n",
    "    rsm=0.5,\n",
    "    # cat_features = cat_features,\n",
    "    leaf_estimation_iterations=5,\n",
    "    max_ctr_complexity=1,\n",
    "    early_stopping_rounds=10,\n",
    ")\n",
    "\n",
    "fast_model.fit(\n",
    "    train_dataset,\n",
    "    eval_set=eval_dataset,\n",
    "    verbose=100,\n",
    "    # plot=True\n",
    ");"
   ]
  },
  {
   "cell_type": "markdown",
   "metadata": {},
   "source": [
    " "
   ]
  },
  {
   "cell_type": "markdown",
   "metadata": {},
   "source": [
    "# <center> Какие параметры использовались в модели?"
   ]
  },
  {
   "cell_type": "code",
   "execution_count": null,
   "metadata": {},
   "outputs": [],
   "source": [
    "fs2noshow = [\n",
    "  \"boosting_type\",\"boosting_type\",\"max_ctr_complexity\",\"leaf_estimation_iterations\", \"rsm\",\"one_hot_max_size\",\n",
    "    \"subsample\", \"depth\",\"task_type\",\"eval_metric\",\"iterations\", \"loss_function\",\"min_data_in_leaf\",\n",
    "    \"learning_rate\", \"auto_class_weights\",\"classes_count\", \"random_seed\",\"l2_leaf_reg\",\n",
    "]\n",
    "\n",
    "for key, value in fast_model.get_all_params().items():\n",
    "    if key not in fs2noshow:\n",
    "        print(\"{}, {}\".format(key, value))"
   ]
  },
  {
   "cell_type": "markdown",
   "metadata": {},
   "source": [
    "# <center> Давайте рассмотрим параметры в **`CatBoost`**, которые еще не обсуждали:"
   ]
  },
  {
   "cell_type": "markdown",
   "metadata": {},
   "source": [
    "<div class=\"alert alert-info\">\n",
    "    \n",
    "**Режимы построения дерева (политика роста)**\n",
    "    \n",
    "`grow_policy` – определяет, как будет применяться жадный алгоритм поиска. Может стоять в значении **`SymmetricTree`**, **`Depthwise`** или **`Lossguide`**. По умолчанию **`SymmetricTree`**.\n",
    "  * **`SymmetricTree`** - дерево строится уровень за уровнем, пока не достигнет необходимой глубины. На каждом шаге листья с предыдущего дерева разделяются с тем же условием.\n",
    "  * **`Depthwise`** дерево строится шаг за шагом, пока не достигнет необходимой глубины. Листья разделяются с использованием условия, которое приводит к лучшему уменьшению потерь.\n",
    "  * **`Lossguide`** дерево строится по листьям до тех пор, пока не будет достигнуто заданное количество листьев. На каждом шаге разделяется нетерминальный лист с лучшим уменьшением потерь. lightGBM\n",
    "    \n",
    "\n",
    "**Напоминание:**\n",
    "\n",
    "* `min_data_in_leaf` или `min_child_samples` – это минимальное количество обучающих сэмплов в листе. Этот параметр используется только с политиками роста **`Lossguide`** и **`Depthwise`**.\n",
    "* `max_leaves` или `num_leaves` – этот параметр используется только с политикой **`Lossguide`** и определяет количество листьев в дереве."
   ]
  },
  {
   "cell_type": "markdown",
   "metadata": {},
   "source": [
    "<div class=\"alert alert-info\">\n",
    "\n",
    "**Пропуски в численных фичах**\n",
    "    \n",
    "* `nan_mode` – метод работы с пропущенными значениями.\n",
    "  * Параметры **`Forbidden`**, **`Min`** и **`Max`**. \n",
    "  * При использовании **`Forbidden`** наличие пропущенных значений вызовет ошибку.\n",
    "  * При использовании параметра **`Max`**, пропущенные значения будут приняты за **максимальные** значения для данного признака. \n",
    "  * При использовании параметра **`Min`**, пропущенные значения будут приняты за **минимальные** значения для данного признака.\n",
    "    "
   ]
  },
  {
   "cell_type": "markdown",
   "metadata": {},
   "source": [
    "### ⛄️ Параметров много. Про некоторые из них в другой раз "
   ]
  },
  {
   "cell_type": "markdown",
   "metadata": {},
   "source": [
    "<div class=\"alert alert-info\">\n",
    "    \n",
    "    \n",
    "* `score_function` – тип оценки, используемой для выбора следующего разбиения при построении дерева. \n",
    "  * **`Cosine`** используется по умолчанию.\n",
    "  * Другие доступные варианты **`L2`**, **`NewtonL2`** и **`NewtonCosine`**.\n",
    "    \n",
    "* `leaf_estimation_backtracking` – тип бэктрекинга, использующийся при градиентном спуске. По умолчанию используется **`AnyImprovement`**. \n",
    "  * **`AnyImprovement`** уменьшает шаг спуска до того, как значение функции потерь будет меньшим, чем оно было на последней итерации.\n",
    "  * **`Armijo`** уменьшает шаг спуска до тех пор, пока не будет выполнено условие Вольфе.\n",
    "* `text_features` — используется для объявления текстовых столбцов в задачах классификации."
   ]
  },
  {
   "cell_type": "markdown",
   "metadata": {},
   "source": [
    "# <center> Сохраняем и подгружаем модель\n",
    "\n",
    "<div class=\"alert alert-info\">\n",
    "    \n",
    "Сохранить обученную модель **`CatBoost`** можно в нескольких форматах - `json`, `cpp`, `onnx`. <br>\n",
    "Однако, в `CatBoost` есть собственный формат для сохранения моделей `cbm` (**CatBoost binary format**), предпочтительно сохранять модели именно в этом формате."
   ]
  },
  {
   "cell_type": "code",
   "execution_count": null,
   "metadata": {},
   "outputs": [],
   "source": [
    "params = {\n",
    "    \"iterations\": 100,\n",
    "    \"learning_rate\": 0.001,\n",
    "    \"depth\": 7,\n",
    "    \"bootstrap_type\": \"Bernoulli\",\n",
    "    \"subsample\": 0.9,\n",
    "    \"random_seed\": 7575,\n",
    "}\n",
    "\n",
    "\n",
    "clf = CatBoostClassifier(**params)\n",
    "\n",
    "clf = clf.fit(train_dataset, eval_set=eval_dataset, verbose=False)\n",
    "\n",
    "print(clf.get_params())"
   ]
  },
  {
   "cell_type": "code",
   "execution_count": null,
   "metadata": {},
   "outputs": [],
   "source": [
    "model.save_model(\"../others/catboost_model.cbm\", format=\"cbm\")  # format по умолчанию cbm поэтому можно явно не указывать"
   ]
  },
  {
   "cell_type": "markdown",
   "metadata": {},
   "source": [
    "Теперь загрузим нашу модель и проверим параметры:"
   ]
  },
  {
   "cell_type": "code",
   "execution_count": null,
   "metadata": {},
   "outputs": [],
   "source": [
    "new_clf = CatBoostClassifier()\n",
    "new_clf.load_model(\"../others/catboost_model.cbm\")"
   ]
  },
  {
   "cell_type": "code",
   "execution_count": null,
   "metadata": {},
   "outputs": [],
   "source": [
    "print(new_clf.get_params())"
   ]
  },
  {
   "cell_type": "markdown",
   "metadata": {},
   "source": [
    "# <center> Другие модели и режимы\n",
    "\n",
    "<div class=\"alert alert-info\">\n",
    "\n",
    "* В рамках этого ноутбука мы рассмотрели только модель для классификации. Позже коснемся регрессии.   \n",
    "* Катбуст может решать задачу мульти-классификация или даже мульти-лейбл классификации. (Меняется лосс-функция)\n",
    "* Но библиотека также содержит модель для решения задач ранжирования [**CatBoostRanker**](https://catboost.ai/en/docs/concepts/python-reference_catboostranker). <br>\n",
    "* Пример решения [задачи мэтчинга с помощью CatBoostRanker на VTB DataFusionContest2022](https://github.com/Ivanich-spb/VTB_DataFusion_Contest_2022) от авторов курса."
   ]
  },
  {
   "cell_type": "markdown",
   "metadata": {},
   "source": [
    "# 🧸 Выводы и заключения\n",
    "\n",
    "- 🧩 Катбуст - мощный и многофункциональный фреймворк\n",
    "- 🧩 Много параметров и тонкостей\n",
    "- 🧩 Отличный вариант для старта\n",
    "- 🧩 Полезно понимать принцип работы градиентных бустингов"
   ]
  },
  {
   "cell_type": "markdown",
   "metadata": {},
   "source": [
    "# <center> Полезные источники\n",
    "\n",
    "    \n",
    "* [Очень подробная статья про работу Catboost, (если не знаете, как он работает)](https://habr.com/ru/company/ods/blog/645887/)\n",
    "* [Работа с параметрами для категориальных фичей](https://towardsdatascience.com/categorical-features-parameters-in-catboost-4ebd1326bee5) \n",
    "* [Трилогия Яндекса про катбуст. Часть 1](https://habr.com/ru/company/ods/blog/594077/) | [Часть 2](https://habr.com/ru/company/ods/blog/599827/) | [Часть 3](https://habr.com/ru/company/ods/blog/648939/)"
   ]
  }
 ],
 "metadata": {
  "finalized": {
   "timestamp": 1661552636568,
   "trusted": true
  },
  "kernelspec": {
   "display_name": "Python 3 (ipykernel)",
   "language": "python",
   "name": "python3"
  },
  "language_info": {
   "codemirror_mode": {
    "name": "ipython",
    "version": 3
   },
   "file_extension": ".py",
   "mimetype": "text/x-python",
   "name": "python",
   "nbconvert_exporter": "python",
   "pygments_lexer": "ipython3",
   "version": "3.11.4"
  },
  "toc": {
   "base_numbering": 1,
   "nav_menu": {},
   "number_sections": true,
   "sideBar": true,
   "skip_h1_title": false,
   "title_cell": "Table of Contents",
   "title_sidebar": "Contents",
   "toc_cell": false,
   "toc_position": {},
   "toc_section_display": true,
   "toc_window_display": false
  }
 },
 "nbformat": 4,
 "nbformat_minor": 4
}
