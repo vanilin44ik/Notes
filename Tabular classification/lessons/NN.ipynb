{
 "cells": [
  {
   "cell_type": "markdown",
   "id": "5bd2009e-0dff-42fb-a4c7-719f3c0a1e3a",
   "metadata": {},
   "source": [
    "# <center> 🧠 А нейронки будут? </center>"
   ]
  },
  {
   "cell_type": "markdown",
   "id": "a67888ba-1d55-4e03-9bf1-d6a963a578e4",
   "metadata": {},
   "source": [
    "<img src=\"https://i.imgflip.com/1sdrv7.jpg\" width=\"400\" alt=\"NN_memes\" align='right'/>\n",
    "<br>\n",
    "\n",
    "<p><font size=\"3\" face=\"Arial\" font-size=\"large\"><ul type=\"square\">\n",
    "    \n",
    "<li><a href=\"#c1\">🛠 Реализация MLP из scikit-learn  </a></li>\n",
    "\n",
    "<li><a href=\"#c2\">🐍🔥 Самописный MLP на pytorch с двумя головами.</a></li>\n",
    "<li><a href=\"#с3\">🕸 TabNet </a>\n",
    "<li><a href=\"#c4\">🧠 Мысли и выводы</a>\n",
    "<li><a href=\"#c5\">🧸 Дополнительные материалы</a>\n",
    "\n",
    "</li></ul></font></p>"
   ]
  },
  {
   "cell_type": "markdown",
   "id": "d2670623-9bb8-4646-b2fe-ee18a83f9e3f",
   "metadata": {},
   "source": [
    "<div class=\"alert alert-info\">\n",
    "   \n",
    "* Когда из бустингов и других алгоритмов выжато всё что можно, и даже блендинг не помогает - можно бросить в бой нейронную сеть!\n",
    "* NN может поднять скор сама по себе, докинуть при блендинге или обогатить датасет новыми фичами в виде эмбеддингов. <br>\n",
    "* Главная проблема при использовании нейронки - это не переборщить с её размером, она может запомнить все данные и легко переобучиться. <br>\n",
    "    \n",
    "В этом уроке рассмотрим основные подходы для решения задачи с помощью нейронной сети."
   ]
  },
  {
   "cell_type": "code",
   "execution_count": 2,
   "id": "ff395118",
   "metadata": {
    "papermill": {
     "duration": 0.028618,
     "end_time": "2022-12-12T05:12:53.251185",
     "exception": false,
     "start_time": "2022-12-12T05:12:53.222567",
     "status": "completed"
    },
    "tags": []
   },
   "outputs": [],
   "source": [
    "import numpy as np\n",
    "import pandas as pd"
   ]
  },
  {
   "cell_type": "code",
   "execution_count": 3,
   "id": "19bb9348-1fcd-4b7b-95e3-fbd5d09bc5d8",
   "metadata": {},
   "outputs": [
    {
     "data": {
      "text/html": [
       "<div>\n",
       "<style scoped>\n",
       "    .dataframe tbody tr th:only-of-type {\n",
       "        vertical-align: middle;\n",
       "    }\n",
       "\n",
       "    .dataframe tbody tr th {\n",
       "        vertical-align: top;\n",
       "    }\n",
       "\n",
       "    .dataframe thead th {\n",
       "        text-align: right;\n",
       "    }\n",
       "</style>\n",
       "<table border=\"1\" class=\"dataframe\">\n",
       "  <thead>\n",
       "    <tr style=\"text-align: right;\">\n",
       "      <th></th>\n",
       "      <th>car_id</th>\n",
       "      <th>model</th>\n",
       "      <th>car_type</th>\n",
       "      <th>fuel_type</th>\n",
       "      <th>car_rating</th>\n",
       "      <th>year_to_start</th>\n",
       "      <th>riders</th>\n",
       "      <th>year_to_work</th>\n",
       "      <th>target_reg</th>\n",
       "      <th>target_class</th>\n",
       "      <th>mean_rating</th>\n",
       "      <th>distance_sum</th>\n",
       "      <th>rating_min</th>\n",
       "      <th>speed_max</th>\n",
       "      <th>user_ride_quality_median</th>\n",
       "      <th>deviation_normal_count</th>\n",
       "      <th>user_uniq</th>\n",
       "    </tr>\n",
       "  </thead>\n",
       "  <tbody>\n",
       "    <tr>\n",
       "      <th>0</th>\n",
       "      <td>y13744087j</td>\n",
       "      <td>Kia Rio X-line</td>\n",
       "      <td>economy</td>\n",
       "      <td>petrol</td>\n",
       "      <td>3.78</td>\n",
       "      <td>2015</td>\n",
       "      <td>76163</td>\n",
       "      <td>2021</td>\n",
       "      <td>109.99</td>\n",
       "      <td>another_bug</td>\n",
       "      <td>4.737759</td>\n",
       "      <td>1.214131e+07</td>\n",
       "      <td>0.1</td>\n",
       "      <td>180.855726</td>\n",
       "      <td>0.023174</td>\n",
       "      <td>174</td>\n",
       "      <td>170</td>\n",
       "    </tr>\n",
       "    <tr>\n",
       "      <th>1</th>\n",
       "      <td>O41613818T</td>\n",
       "      <td>VW Polo VI</td>\n",
       "      <td>economy</td>\n",
       "      <td>petrol</td>\n",
       "      <td>3.90</td>\n",
       "      <td>2015</td>\n",
       "      <td>78218</td>\n",
       "      <td>2021</td>\n",
       "      <td>34.48</td>\n",
       "      <td>electro_bug</td>\n",
       "      <td>4.480517</td>\n",
       "      <td>1.803909e+07</td>\n",
       "      <td>0.0</td>\n",
       "      <td>187.862734</td>\n",
       "      <td>12.306011</td>\n",
       "      <td>174</td>\n",
       "      <td>174</td>\n",
       "    </tr>\n",
       "    <tr>\n",
       "      <th>2</th>\n",
       "      <td>d-2109686j</td>\n",
       "      <td>Renault Sandero</td>\n",
       "      <td>standart</td>\n",
       "      <td>petrol</td>\n",
       "      <td>6.30</td>\n",
       "      <td>2012</td>\n",
       "      <td>23340</td>\n",
       "      <td>2017</td>\n",
       "      <td>34.93</td>\n",
       "      <td>gear_stick</td>\n",
       "      <td>4.768391</td>\n",
       "      <td>1.588366e+07</td>\n",
       "      <td>0.1</td>\n",
       "      <td>102.382857</td>\n",
       "      <td>2.513319</td>\n",
       "      <td>174</td>\n",
       "      <td>173</td>\n",
       "    </tr>\n",
       "    <tr>\n",
       "      <th>3</th>\n",
       "      <td>u29695600e</td>\n",
       "      <td>Mercedes-Benz GLC</td>\n",
       "      <td>business</td>\n",
       "      <td>petrol</td>\n",
       "      <td>4.04</td>\n",
       "      <td>2011</td>\n",
       "      <td>1263</td>\n",
       "      <td>2020</td>\n",
       "      <td>32.22</td>\n",
       "      <td>engine_fuel</td>\n",
       "      <td>3.880920</td>\n",
       "      <td>1.651883e+07</td>\n",
       "      <td>0.1</td>\n",
       "      <td>172.793237</td>\n",
       "      <td>-5.029476</td>\n",
       "      <td>174</td>\n",
       "      <td>170</td>\n",
       "    </tr>\n",
       "    <tr>\n",
       "      <th>4</th>\n",
       "      <td>N-8915870N</td>\n",
       "      <td>Renault Sandero</td>\n",
       "      <td>standart</td>\n",
       "      <td>petrol</td>\n",
       "      <td>4.70</td>\n",
       "      <td>2012</td>\n",
       "      <td>26428</td>\n",
       "      <td>2017</td>\n",
       "      <td>27.51</td>\n",
       "      <td>engine_fuel</td>\n",
       "      <td>4.181149</td>\n",
       "      <td>1.398317e+07</td>\n",
       "      <td>0.1</td>\n",
       "      <td>203.462289</td>\n",
       "      <td>-14.260456</td>\n",
       "      <td>174</td>\n",
       "      <td>171</td>\n",
       "    </tr>\n",
       "  </tbody>\n",
       "</table>\n",
       "</div>"
      ],
      "text/plain": [
       "       car_id              model  car_type fuel_type  car_rating   \n",
       "0  y13744087j     Kia Rio X-line   economy    petrol        3.78  \\\n",
       "1  O41613818T         VW Polo VI   economy    petrol        3.90   \n",
       "2  d-2109686j    Renault Sandero  standart    petrol        6.30   \n",
       "3  u29695600e  Mercedes-Benz GLC  business    petrol        4.04   \n",
       "4  N-8915870N    Renault Sandero  standart    petrol        4.70   \n",
       "\n",
       "   year_to_start  riders  year_to_work  target_reg target_class  mean_rating   \n",
       "0           2015   76163          2021      109.99  another_bug     4.737759  \\\n",
       "1           2015   78218          2021       34.48  electro_bug     4.480517   \n",
       "2           2012   23340          2017       34.93   gear_stick     4.768391   \n",
       "3           2011    1263          2020       32.22  engine_fuel     3.880920   \n",
       "4           2012   26428          2017       27.51  engine_fuel     4.181149   \n",
       "\n",
       "   distance_sum  rating_min   speed_max  user_ride_quality_median   \n",
       "0  1.214131e+07         0.1  180.855726                  0.023174  \\\n",
       "1  1.803909e+07         0.0  187.862734                 12.306011   \n",
       "2  1.588366e+07         0.1  102.382857                  2.513319   \n",
       "3  1.651883e+07         0.1  172.793237                 -5.029476   \n",
       "4  1.398317e+07         0.1  203.462289                -14.260456   \n",
       "\n",
       "   deviation_normal_count  user_uniq  \n",
       "0                     174        170  \n",
       "1                     174        174  \n",
       "2                     174        173  \n",
       "3                     174        170  \n",
       "4                     174        171  "
      ]
     },
     "execution_count": 3,
     "metadata": {},
     "output_type": "execute_result"
    }
   ],
   "source": [
    "# Загружаем train-датасет который мы сохранили на шаге quickstart\n",
    "rides_info = pd.read_csv('../data/quickstart_train.csv')\n",
    "rides_info.head()"
   ]
  },
  {
   "cell_type": "code",
   "execution_count": 4,
   "id": "07089d0f-1845-46cd-ac2e-a8833044f2a2",
   "metadata": {},
   "outputs": [],
   "source": [
    "drop_cols = ['car_id', 'target_reg', 'target_class']\n",
    "cat_cols = ['car_type', 'fuel_type', 'model']"
   ]
  },
  {
   "cell_type": "code",
   "execution_count": 5,
   "id": "8610f1f3",
   "metadata": {
    "papermill": {
     "duration": 0.143102,
     "end_time": "2022-12-12T05:13:01.849840",
     "exception": false,
     "start_time": "2022-12-12T05:13:01.706738",
     "status": "completed"
    },
    "tags": []
   },
   "outputs": [],
   "source": [
    "# закодируем категориальные фичи в one hot encoding вектора\n",
    "rides_info = pd.get_dummies(rides_info, columns=cat_cols)"
   ]
  },
  {
   "cell_type": "code",
   "execution_count": 7,
   "id": "1d98ed38-f13e-4f26-892b-28e32b1a7f64",
   "metadata": {
    "papermill": {
     "duration": 0.140003,
     "end_time": "2022-12-12T05:13:02.001579",
     "exception": false,
     "start_time": "2022-12-12T05:13:01.861576",
     "status": "completed"
    },
    "tags": []
   },
   "outputs": [],
   "source": [
    "# заполним пропущенные значения медианным значением по столбцу\n",
    "rides_info.fillna(rides_info.median(numeric_only=True), inplace=True)"
   ]
  },
  {
   "cell_type": "markdown",
   "id": "d047d37d-0f74-4e59-9676-220f205a9231",
   "metadata": {},
   "source": [
    "## <center>🛠 Готовая реализация нейронной сети MLP из `sklearn`.</center>\n",
    "Для начала рассмотрим самый простой подход - взять готовую реализацию `MLP (multi layer perceptron)` из `scikit-learn`."
   ]
  },
  {
   "cell_type": "code",
   "execution_count": 8,
   "id": "5ff39f5c-6ab0-4ea3-926b-5d4f50cc116a",
   "metadata": {},
   "outputs": [],
   "source": [
    "from sklearn.model_selection import train_test_split\n",
    "from sklearn.neural_network import MLPClassifier, MLPRegressor\n",
    "from sklearn.metrics import f1_score, mean_squared_error, accuracy_score\n",
    "from sklearn.preprocessing import LabelEncoder"
   ]
  },
  {
   "cell_type": "code",
   "execution_count": 9,
   "id": "0791272a-d7db-47d6-89a0-6c29b5d2baf8",
   "metadata": {},
   "outputs": [],
   "source": [
    "# переведем строковые значения категориального таргета в целочисленные\n",
    "le = LabelEncoder()\n",
    "rides_info['target_class'] = le.fit_transform(rides_info['target_class'])"
   ]
  },
  {
   "cell_type": "code",
   "execution_count": 10,
   "id": "b6118aec-16c3-47f9-a7f0-d4bef9ce11f1",
   "metadata": {},
   "outputs": [],
   "source": [
    "# числовые переменные, которые подвергнем трансформации\n",
    "num_cols = [col for col in list(rides_info.columns)\n",
    "            if col not in drop_cols]"
   ]
  },
  {
   "cell_type": "markdown",
   "id": "4c9f49ab-b729-488a-89ea-e741f99f0188",
   "metadata": {},
   "source": [
    "<div class=\"alert alert-info\">\n",
    "\n",
    "Перед подачей в нейросеть, данные необходимо ОБЯЗАТЕЛЬНО нормализовать. <br>\n",
    "* Cамый простой способ - взять какой-нибудь скейлер из `sklearn`.\n",
    "* Так же можно поискать SOTA скейлеры для нейронок разного типа в Интернете. Например, [Gauss rank scaler](https://github.com/aldente0630/gauss-rank-scaler).\n",
    "* Или написать свой"
   ]
  },
  {
   "cell_type": "code",
   "execution_count": 11,
   "id": "b7892ce4-6c70-4ad7-96ee-7aa094a6fdc5",
   "metadata": {},
   "outputs": [],
   "source": [
    "# для нормализации данных используем robust scaler\n",
    "from sklearn.preprocessing import RobustScaler\n",
    "\n",
    "scaler = RobustScaler()\n",
    "\n",
    "df = scaler.fit_transform(rides_info[num_cols])\n",
    "df = pd.DataFrame(df, columns=num_cols)\n",
    "\n",
    "target_scaler = RobustScaler()\n",
    "target = target_scaler.fit_transform(rides_info['target_reg'].values.reshape(-1, 1))\n",
    "\n",
    "df['target_reg'] = target\n",
    "df['target_class'] = rides_info['target_class']"
   ]
  },
  {
   "cell_type": "code",
   "execution_count": 12,
   "id": "39df5dd3-a84d-4ed2-9add-3f0847a8904d",
   "metadata": {},
   "outputs": [],
   "source": [
    "# Проведем эксперимент без нормализации данных\n",
    "X = rides_info.drop(drop_cols, axis=1)\n",
    "y = rides_info['target_class']\n",
    "\n",
    "X_train, X_test, y_train, y_test = train_test_split(X, y, test_size=0.2, random_state=42)"
   ]
  },
  {
   "cell_type": "code",
   "execution_count": 13,
   "id": "6614e341-5eb4-41aa-9922-c259671f9457",
   "metadata": {
    "tags": []
   },
   "outputs": [],
   "source": [
    "X = df.drop(['target_class','target_reg'], axis=1)\n",
    "y = df['target_class']\n",
    "\n",
    "X_train, X_test, y_train, y_test = train_test_split(X, y, test_size=0.2, random_state=42)"
   ]
  },
  {
   "cell_type": "markdown",
   "id": "bea47024-cd8c-45ad-8809-63f5f9b1ede4",
   "metadata": {},
   "source": [
    "## **Классификация**"
   ]
  },
  {
   "cell_type": "code",
   "execution_count": 14,
   "id": "284dcee1-de1a-401a-ad9d-65750c4d805a",
   "metadata": {
    "tags": []
   },
   "outputs": [
    {
     "name": "stdout",
     "output_type": "stream",
     "text": [
      "Iteration 1, loss = 2.16891360\n",
      "Iteration 2, loss = 2.06997601\n",
      "Iteration 3, loss = 1.98756890\n",
      "Iteration 4, loss = 1.91333799\n",
      "Iteration 5, loss = 1.84459997\n",
      "Iteration 6, loss = 1.77749716\n",
      "Iteration 7, loss = 1.71341305\n",
      "Iteration 8, loss = 1.64966392\n",
      "Iteration 9, loss = 1.58735378\n",
      "Iteration 10, loss = 1.52739432\n",
      "Iteration 11, loss = 1.46963852\n",
      "Iteration 12, loss = 1.41371104\n",
      "Iteration 13, loss = 1.36085464\n",
      "Iteration 14, loss = 1.31114046\n",
      "Iteration 15, loss = 1.26409271\n",
      "Iteration 16, loss = 1.22127515\n",
      "Iteration 17, loss = 1.18107583\n",
      "Iteration 18, loss = 1.14461299\n",
      "Iteration 19, loss = 1.11049582\n",
      "Iteration 20, loss = 1.07955570\n"
     ]
    },
    {
     "name": "stderr",
     "output_type": "stream",
     "text": [
      "/home/ivanich_spb/.local/lib/python3.8/site-packages/sklearn/neural_network/_multilayer_perceptron.py:686: ConvergenceWarning: Stochastic Optimizer: Maximum iterations (20) reached and the optimization hasn't converged yet.\n",
      "  warnings.warn(\n"
     ]
    }
   ],
   "source": [
    "clf = MLPClassifier(random_state=42, max_iter=20, verbose=5).fit(X_train, y_train)"
   ]
  },
  {
   "cell_type": "code",
   "execution_count": 97,
   "id": "cb3f0341-1fa6-4e6c-89c2-561188353491",
   "metadata": {
    "tags": []
   },
   "outputs": [],
   "source": [
    "preds = clf.predict(X_test)"
   ]
  },
  {
   "cell_type": "code",
   "execution_count": 98,
   "id": "279c5a8d-0e8b-4f0d-bac7-5d26a1eb4a2d",
   "metadata": {
    "tags": []
   },
   "outputs": [
    {
     "data": {
      "text/plain": [
       "array([4, 6, 6, 6, 2])"
      ]
     },
     "execution_count": 98,
     "metadata": {},
     "output_type": "execute_result"
    }
   ],
   "source": [
    "preds[:5]"
   ]
  },
  {
   "cell_type": "code",
   "execution_count": 99,
   "id": "958ff998-37dd-497f-9c55-22b8b7364e06",
   "metadata": {
    "tags": []
   },
   "outputs": [
    {
     "data": {
      "text/plain": [
       "0.5425973554929262"
      ]
     },
     "execution_count": 99,
     "metadata": {},
     "output_type": "execute_result"
    }
   ],
   "source": [
    "f1_score(y_test, preds, average='macro')"
   ]
  },
  {
   "cell_type": "code",
   "execution_count": 100,
   "id": "bb0c3976-ecb0-4425-8365-11b0bb0d4252",
   "metadata": {},
   "outputs": [
    {
     "data": {
      "text/plain": [
       "0.5726495726495726"
      ]
     },
     "execution_count": 100,
     "metadata": {},
     "output_type": "execute_result"
    }
   ],
   "source": [
    "accuracy_score(y_test, preds)"
   ]
  },
  {
   "cell_type": "markdown",
   "id": "98fed244-55d4-4d5e-a015-adc70cbc99e4",
   "metadata": {},
   "source": [
    "## **Регрессия**"
   ]
  },
  {
   "cell_type": "code",
   "execution_count": 106,
   "id": "7ccbd815-62a8-460d-a682-8770c6a4f02f",
   "metadata": {
    "tags": []
   },
   "outputs": [],
   "source": [
    "y = df['target_reg']\n",
    "X_train, X_test, y_train, y_test = train_test_split(X, y, test_size=0.2, random_state=42)"
   ]
  },
  {
   "cell_type": "code",
   "execution_count": 107,
   "id": "8a50e7e5-e3c6-48b3-a0b4-ea19536f52ff",
   "metadata": {
    "tags": []
   },
   "outputs": [
    {
     "name": "stderr",
     "output_type": "stream",
     "text": [
      "/home/jovyan/.local/lib/python3.9/site-packages/sklearn/neural_network/_multilayer_perceptron.py:614: ConvergenceWarning:\n",
      "\n",
      "Stochastic Optimizer: Maximum iterations (50) reached and the optimization hasn't converged yet.\n",
      "\n"
     ]
    }
   ],
   "source": [
    "regr = MLPRegressor(random_state=42, max_iter=50).fit(X_train, y_train)"
   ]
  },
  {
   "cell_type": "markdown",
   "id": "3f10121c-da86-4155-945c-2398ecd9b2b7",
   "metadata": {},
   "source": [
    "<div class=\"alert alert-info\">\n",
    "\n",
    "**Важно**: После предикта не забывать делать `inverse_transform`, а то получим предикты и ошибку в другой шкале!"
   ]
  },
  {
   "cell_type": "code",
   "execution_count": 108,
   "id": "eb3f8cec-a069-4c2d-a810-caccf9141230",
   "metadata": {},
   "outputs": [
    {
     "data": {
      "text/plain": [
       "array([[72.71671533],\n",
       "       [32.84617531],\n",
       "       [53.26113851],\n",
       "       [49.94877966],\n",
       "       [35.87741341]])"
      ]
     },
     "execution_count": 108,
     "metadata": {},
     "output_type": "execute_result"
    }
   ],
   "source": [
    "preds = regr.predict(X_test)\n",
    "preds = target_scaler.inverse_transform(np.array(preds).reshape(-1, 1))\n",
    "preds[:5]"
   ]
  },
  {
   "cell_type": "code",
   "execution_count": 109,
   "id": "a406a3d6-28a5-4b38-b345-a5f7b3a566bd",
   "metadata": {
    "tags": []
   },
   "outputs": [
    {
     "data": {
      "text/plain": [
       "45.938741736955315"
      ]
     },
     "execution_count": 109,
     "metadata": {},
     "output_type": "execute_result"
    }
   ],
   "source": [
    "mean_squared_error(y_test, preds) ** 0.5"
   ]
  },
  {
   "cell_type": "markdown",
   "id": "48d63605-d000-45cb-b711-72147ab7f39f",
   "metadata": {},
   "source": [
    "<div class=\"alert alert-info\">\n",
    "\n",
    "Минусы реализации `MLP` из `sklearn`:\n",
    "* Мало возможностей для кастомизации\n",
    "* Плохо работает с дефолтными параметрами\n",
    "* Неудобно доставать эмбеддинги\n",
    "    \n",
    "Посмотрим на другие подходы!"
   ]
  },
  {
   "cell_type": "markdown",
   "id": "5c54d88a",
   "metadata": {
    "papermill": {
     "duration": 0.014976,
     "end_time": "2022-12-12T05:12:53.278342",
     "exception": false,
     "start_time": "2022-12-12T05:12:53.263366",
     "status": "completed"
    },
    "tags": []
   },
   "source": [
    "## <center>🐍🔥 Двухголовая нейронка на `PyTorch`.</center>\n",
    "<div class=\"alert alert-info\">\n",
    "\n",
    "А как вам идея - решить обе задачи одной моделью? Попробуем сделать это с помощью самописного `MLP` с двумя головами на фреймворке `PyTorch`."
   ]
  },
  {
   "cell_type": "code",
   "execution_count": 15,
   "id": "fd4527d3",
   "metadata": {
    "papermill": {
     "duration": 0.178249,
     "end_time": "2022-12-12T05:13:07.585348",
     "exception": false,
     "start_time": "2022-12-12T05:13:07.407099",
     "status": "completed"
    },
    "tags": []
   },
   "outputs": [],
   "source": [
    "train, test = train_test_split(df, test_size=0.2, random_state=42)"
   ]
  },
  {
   "cell_type": "code",
   "execution_count": 16,
   "id": "eb341d0c",
   "metadata": {
    "papermill": {
     "duration": 1.958607,
     "end_time": "2022-12-12T05:13:09.556582",
     "exception": false,
     "start_time": "2022-12-12T05:13:07.597975",
     "status": "completed"
    },
    "tags": []
   },
   "outputs": [],
   "source": [
    "from torch.utils.data import Dataset, DataLoader\n",
    "import torch\n",
    "from torch import nn\n",
    "import copy"
   ]
  },
  {
   "cell_type": "code",
   "execution_count": 17,
   "id": "6cce5013",
   "metadata": {
    "papermill": {
     "duration": 0.024585,
     "end_time": "2022-12-12T05:13:09.596698",
     "exception": false,
     "start_time": "2022-12-12T05:13:09.572113",
     "status": "completed"
    },
    "tags": []
   },
   "outputs": [],
   "source": [
    "# для наших данных и размера нейросети подойдет запуск на cpu\n",
    "device = torch.device('cpu')"
   ]
  },
  {
   "cell_type": "code",
   "execution_count": 18,
   "id": "a086782f",
   "metadata": {
    "papermill": {
     "duration": 0.026631,
     "end_time": "2022-12-12T05:13:09.636749",
     "exception": false,
     "start_time": "2022-12-12T05:13:09.610118",
     "status": "completed"
    },
    "tags": []
   },
   "outputs": [],
   "source": [
    "# ВАЖНО! - фиксируем воспроизводимость\n",
    "def seed_everything(seed=42):\n",
    "    \n",
    "    np.random.seed(seed)\n",
    "    torch.manual_seed(seed)\n",
    "    torch.cuda.manual_seed(seed)\n",
    "    torch.backends.cudnn.deterministic = True\n",
    "    \n",
    "seed_everything(seed=42)"
   ]
  },
  {
   "cell_type": "code",
   "execution_count": 19,
   "id": "97fa9ee0",
   "metadata": {
    "papermill": {
     "duration": 0.031356,
     "end_time": "2022-12-12T05:13:09.680156",
     "exception": false,
     "start_time": "2022-12-12T05:13:09.648800",
     "status": "completed"
    },
    "tags": []
   },
   "outputs": [],
   "source": [
    "# можно попробовать поэкспериментировать с параметрами\n",
    "class CFG:\n",
    "    hidden_size=128\n",
    "    dropout=0.1\n",
    "    lr=1e-3\n",
    "    batch_size=128\n",
    "    num_workers=4\n",
    "    epochs=20\n",
    "    num_features=train.shape[1]-2 # количество фичей, подаваемое на вход\n",
    "    num_tar_class=train.target_class.nunique() # количество выходов равно количеству предсказываемых классов"
   ]
  },
  {
   "cell_type": "code",
   "execution_count": 20,
   "id": "1e1ef04e",
   "metadata": {
    "papermill": {
     "duration": 0.024398,
     "end_time": "2022-12-12T05:13:09.716805",
     "exception": false,
     "start_time": "2022-12-12T05:13:09.692407",
     "status": "completed"
    },
    "tags": []
   },
   "outputs": [],
   "source": [
    "# датасет выдает фичи и значения целевых переменных\n",
    "class Rides(Dataset):\n",
    "    \n",
    "    def __init__(self, df):\n",
    "        self.df = df\n",
    "        \n",
    "    def __len__(self):\n",
    "        return len(self.df)\n",
    "    \n",
    "    def __getitem__(self, idx):\n",
    "        row = self.df.iloc[idx,:]\n",
    "        \n",
    "        data = row.drop(labels=['target_reg', 'target_class'])\n",
    "        \n",
    "        data = torch.FloatTensor(data.values.astype('float'))\n",
    "        tar_reg = torch.tensor(row['target_reg']).float()\n",
    "        tar_class = row['target_class'].astype('int')\n",
    "        \n",
    "        return data, tar_reg, tar_class"
   ]
  },
  {
   "cell_type": "code",
   "execution_count": 21,
   "id": "4b3f992d",
   "metadata": {
    "papermill": {
     "duration": 0.039379,
     "end_time": "2022-12-12T05:13:09.768429",
     "exception": false,
     "start_time": "2022-12-12T05:13:09.729050",
     "status": "completed"
    },
    "tags": []
   },
   "outputs": [
    {
     "data": {
      "text/plain": [
       "(tensor([-0.7302, -1.5000, -1.4019,  1.0000,  0.2215, -0.1615, -0.1000,  0.4241,\n",
       "         -0.2246,  0.0000,  0.0000,  0.0000,  0.0000,  0.0000,  0.0000,  0.0000,\n",
       "          0.0000,  0.0000,  0.0000,  0.0000,  0.0000,  0.0000,  0.0000,  0.0000,\n",
       "          0.0000,  1.0000,  0.0000,  0.0000,  0.0000,  0.0000,  0.0000,  0.0000,\n",
       "          0.0000,  0.0000,  0.0000,  0.0000,  0.0000,  0.0000,  0.0000,  0.0000,\n",
       "          0.0000,  0.0000,  0.0000]),\n",
       " tensor(-0.6091),\n",
       " 2)"
      ]
     },
     "execution_count": 21,
     "metadata": {},
     "output_type": "execute_result"
    }
   ],
   "source": [
    "# проверим корректность работы методов нашего класса\n",
    "next(iter(Rides(train)))"
   ]
  },
  {
   "cell_type": "code",
   "execution_count": 22,
   "id": "6c8040b8",
   "metadata": {
    "papermill": {
     "duration": 0.023079,
     "end_time": "2022-12-12T05:13:09.806028",
     "exception": false,
     "start_time": "2022-12-12T05:13:09.782949",
     "status": "completed"
    },
    "tags": []
   },
   "outputs": [],
   "source": [
    "train_datasets = {'train': Rides(train),\n",
    "                  'val': Rides(test)}"
   ]
  },
  {
   "cell_type": "code",
   "execution_count": 23,
   "id": "28a28a13",
   "metadata": {
    "papermill": {
     "duration": 0.025611,
     "end_time": "2022-12-12T05:13:09.844114",
     "exception": false,
     "start_time": "2022-12-12T05:13:09.818503",
     "status": "completed"
    },
    "tags": []
   },
   "outputs": [],
   "source": [
    "dataloaders_dict = {x: torch.utils.data.DataLoader(train_datasets[x], \n",
    "                                                   batch_size=CFG.batch_size, \n",
    "                                                   shuffle=True, \n",
    "                                                   num_workers=CFG.num_workers)\n",
    "                    for x in ['train', 'val']}"
   ]
  },
  {
   "cell_type": "code",
   "execution_count": 24,
   "id": "d89d1f32",
   "metadata": {
    "papermill": {
     "duration": 0.029852,
     "end_time": "2022-12-12T05:13:09.887383",
     "exception": false,
     "start_time": "2022-12-12T05:13:09.857531",
     "status": "completed"
    },
    "tags": []
   },
   "outputs": [],
   "source": [
    "# Построим архитектуру mlp с двумя головами для регрессии и классифкации\n",
    "\n",
    "class TabularNN(nn.Module):\n",
    "    def __init__(self, cfg):\n",
    "        super().__init__()\n",
    "        self.mlp = nn.Sequential(\n",
    "                          nn.Linear(cfg.num_features, cfg.hidden_size),\n",
    "                          #nn.BatchNorm1d(cfg.hidden_size),\n",
    "                          nn.Dropout(cfg.dropout),\n",
    "                          nn.ReLU(),\n",
    "                          nn.Linear(cfg.hidden_size, cfg.hidden_size),\n",
    "                          #nn.BatchNorm1d(cfg.hidden_size),\n",
    "                          nn.Dropout(cfg.dropout),\n",
    "                          nn.ReLU(),\n",
    "                          nn.Linear(cfg.hidden_size, cfg.hidden_size//2),\n",
    "                          )\n",
    "        \n",
    "        self.regressor = nn.Sequential(\n",
    "            nn.Linear(cfg.hidden_size // 2, 1)\n",
    "        )\n",
    "        self.classifier = nn.Sequential(\n",
    "            nn.Linear(cfg.hidden_size // 2, cfg.num_tar_class)\n",
    "        )\n",
    "\n",
    "    def forward(self, data):\n",
    "        x = self.mlp(data)\n",
    "        tar_reg = self.regressor(x)\n",
    "        tar_class = self.classifier(x)\n",
    "        return tar_reg.view(-1), tar_class"
   ]
  },
  {
   "cell_type": "code",
   "execution_count": 25,
   "id": "0547d032",
   "metadata": {
    "papermill": {
     "duration": 0.029434,
     "end_time": "2022-12-12T05:13:09.931237",
     "exception": false,
     "start_time": "2022-12-12T05:13:09.901803",
     "status": "completed"
    },
    "tags": []
   },
   "outputs": [],
   "source": [
    "model = TabularNN(CFG).to(device)"
   ]
  },
  {
   "cell_type": "code",
   "execution_count": 26,
   "id": "a2257f8b",
   "metadata": {
    "papermill": {
     "duration": 0.02525,
     "end_time": "2022-12-12T05:13:09.969100",
     "exception": false,
     "start_time": "2022-12-12T05:13:09.943850",
     "status": "completed"
    },
    "tags": []
   },
   "outputs": [],
   "source": [
    "# оптимайзер и лоссы для регрессии и классификации\n",
    "optimizer = torch.optim.Adam(model.parameters(), lr = CFG.lr)\n",
    "regression_criterion = nn.MSELoss().to(device)\n",
    "classification_criterion = nn.CrossEntropyLoss().to(device)\n",
    "#scheduler = torch.optim.lr_scheduler.CosineAnnealingLR(optimizer=optimizer, T_max = epochs * len(dataloaders_dict['train']))"
   ]
  },
  {
   "cell_type": "code",
   "execution_count": 27,
   "id": "13916566",
   "metadata": {
    "papermill": {
     "duration": 0.032877,
     "end_time": "2022-12-12T05:13:10.014252",
     "exception": false,
     "start_time": "2022-12-12T05:13:09.981375",
     "status": "completed"
    },
    "tags": []
   },
   "outputs": [],
   "source": [
    "# функция для тренировки, на выходе - обученная модель\n",
    "def train_model(model, dataloaders, regression_criterion,\n",
    "                classification_criterion, optimizer, num_epochs=25,\n",
    "                early_stopping_rounds=5, verbose=2):\n",
    "\n",
    "    val_acc_history = []\n",
    "\n",
    "    best_model_wts = copy.deepcopy(model.state_dict())\n",
    "    best_loss = np.inf\n",
    "    early_steps = 0\n",
    "    stop = False\n",
    "\n",
    "    for epoch in range(num_epochs):\n",
    "        if stop:\n",
    "            break\n",
    "        if epoch % verbose == 0:\n",
    "            print('Epoch {}/{}'.format(epoch, num_epochs - 1))\n",
    "            print('-' * 10)\n",
    "\n",
    "        # Each epoch has a training and validation phase\n",
    "        for phase in ['train', 'val']:\n",
    "            if phase == 'train':\n",
    "                model.train()  # Set model to training mode\n",
    "            else:\n",
    "                model.eval()   # Set model to evaluate mode\n",
    "\n",
    "            running_loss = 0.0\n",
    "\n",
    "            # Iterate over data.\n",
    "            for inputs, labels_1, labels_2 in dataloaders[phase]:\n",
    "                inputs = inputs.to(device)\n",
    "                labels_1 = labels_1.to(device)\n",
    "                labels_2 = labels_2.to(device)\n",
    "                \n",
    "                # zero the parameter gradients\n",
    "                optimizer.zero_grad()\n",
    "\n",
    "                # forward\n",
    "                # track history if only in train\n",
    "                with torch.set_grad_enabled(phase == 'train'):\n",
    "                    # Get model outputs and calculate loss\n",
    "\n",
    "                    outputs_1, outputs_2 = model(inputs)\n",
    "                    loss_1 = regression_criterion(outputs_1, labels_1)\n",
    "                    loss_2 = classification_criterion(outputs_2, labels_2)\n",
    "\n",
    "                    loss = loss_1 + loss_2\n",
    "\n",
    "                    _, preds_2 = torch.max(outputs_2, 1)\n",
    "\n",
    "                    # backward + optimize only if in training phase\n",
    "                    if phase == 'train':\n",
    "                        loss.backward()\n",
    "                        optimizer.step()\n",
    "                        #scheduler.step()\n",
    "\n",
    "                # statistics\n",
    "                running_loss += loss.item() * inputs.size(0)\n",
    "                val_acc_history.append(running_loss)\n",
    "\n",
    "            epoch_loss = running_loss / len(dataloaders[phase].dataset)\n",
    "            if epoch % verbose == 0:\n",
    "                print('{} Loss: {:.4f}'.format(phase, epoch_loss))\n",
    "\n",
    "            # deep copy the model\n",
    "            if phase == 'val' and epoch_loss < best_loss:\n",
    "                best_model_wts = copy.deepcopy(model.state_dict())\n",
    "                best_loss = epoch_loss\n",
    "                early_steps = 0\n",
    "            if phase == 'val' and epoch_loss > best_loss:\n",
    "                early_steps += 1\n",
    "                if early_steps > early_stopping_rounds:\n",
    "                    stop = True\n",
    "                    print(f'Stopped by early_stopping. Epoch: {epoch}')\n",
    "                    break\n",
    "               \n",
    "\n",
    "\n",
    "    # load best model weights\n",
    "    model.load_state_dict(best_model_wts)\n",
    "    return model"
   ]
  },
  {
   "cell_type": "code",
   "execution_count": 28,
   "id": "a1033565",
   "metadata": {
    "papermill": {
     "duration": 984.199429,
     "end_time": "2022-12-12T05:29:34.226522",
     "exception": false,
     "start_time": "2022-12-12T05:13:10.027093",
     "status": "completed"
    },
    "tags": []
   },
   "outputs": [
    {
     "name": "stdout",
     "output_type": "stream",
     "text": [
      "Epoch 0/21\n",
      "----------\n",
      "train Loss: 2.7237\n",
      "val Loss: 2.6977\n",
      "Epoch 2/21\n",
      "----------\n",
      "train Loss: 2.1582\n",
      "val Loss: 1.9798\n",
      "Epoch 4/21\n",
      "----------\n",
      "train Loss: 1.5019\n",
      "val Loss: 1.4722\n",
      "Epoch 6/21\n",
      "----------\n",
      "train Loss: 1.2630\n",
      "val Loss: 1.3178\n",
      "Epoch 8/21\n",
      "----------\n",
      "train Loss: 1.1386\n",
      "val Loss: 1.2033\n",
      "Epoch 10/21\n",
      "----------\n",
      "train Loss: 1.0724\n",
      "val Loss: 1.1923\n",
      "Epoch 12/21\n",
      "----------\n",
      "train Loss: 1.0314\n",
      "val Loss: 1.2028\n",
      "Epoch 14/21\n",
      "----------\n",
      "train Loss: 1.0134\n",
      "val Loss: 1.1782\n",
      "Epoch 16/21\n",
      "----------\n",
      "train Loss: 0.9785\n",
      "val Loss: 1.1664\n",
      "Epoch 18/21\n",
      "----------\n",
      "train Loss: 0.9663\n",
      "val Loss: 1.1779\n",
      "Epoch 20/21\n",
      "----------\n",
      "train Loss: 0.9511\n",
      "val Loss: 1.1637\n"
     ]
    }
   ],
   "source": [
    "model_ft = train_model(model, dataloaders_dict, regression_criterion,\n",
    "                classification_criterion, optimizer, num_epochs=22)"
   ]
  },
  {
   "cell_type": "code",
   "execution_count": 29,
   "id": "c772c730",
   "metadata": {
    "papermill": {
     "duration": 9.161761,
     "end_time": "2022-12-12T05:29:43.404103",
     "exception": false,
     "start_time": "2022-12-12T05:29:34.242342",
     "status": "completed"
    },
    "tags": []
   },
   "outputs": [],
   "source": [
    "# p1, p2 - предсказания; l1, l2  - истинные значения\n",
    "\n",
    "p1, p2, l1, l2 = [], [], [], []\n",
    "\n",
    "with torch.set_grad_enabled(False):\n",
    "    # Get model outputs and calculate loss\n",
    "    for inputs, labels_1, labels_2 in dataloaders_dict['val']:\n",
    "        inputs = inputs.to(device)\n",
    "        labels_1 = labels_1.to(device)\n",
    "        labels_2 = labels_2.to(device)\n",
    "        l1.extend(labels_1.detach().cpu().numpy())\n",
    "        l2.extend(labels_2.detach().cpu().numpy())\n",
    "        \n",
    "        outputs_1, outputs_2 = model_ft(inputs)\n",
    "        _, outputs_2 = torch.max(outputs_2, 1)\n",
    "\n",
    "        p1.extend(outputs_1.detach().cpu().numpy())\n",
    "        p2.extend(outputs_2.detach().cpu().numpy())"
   ]
  },
  {
   "cell_type": "code",
   "execution_count": 30,
   "id": "c14a7033-6f04-420f-9832-7fb2818cda05",
   "metadata": {},
   "outputs": [],
   "source": [
    "# Сохраняем веса модели\n",
    "torch.save(model_ft.state_dict(), 'tab_model.pth')"
   ]
  },
  {
   "cell_type": "markdown",
   "id": "b624f5e6",
   "metadata": {
    "papermill": {
     "duration": 0.01554,
     "end_time": "2022-12-12T05:29:43.435681",
     "exception": false,
     "start_time": "2022-12-12T05:29:43.420141",
     "status": "completed"
    },
    "tags": []
   },
   "source": [
    "**посмотрим на результаты по каждой из задач**"
   ]
  },
  {
   "cell_type": "code",
   "execution_count": 31,
   "id": "48d40ac3",
   "metadata": {
    "papermill": {
     "duration": 0.055079,
     "end_time": "2022-12-12T05:29:43.506852",
     "exception": false,
     "start_time": "2022-12-12T05:29:43.451773",
     "status": "completed"
    },
    "tags": []
   },
   "outputs": [
    {
     "data": {
      "text/plain": [
       "(0.6667799869415982, 0.6752136752136753)"
      ]
     },
     "execution_count": 31,
     "metadata": {},
     "output_type": "execute_result"
    }
   ],
   "source": [
    "# классификация\n",
    "from sklearn.metrics import f1_score\n",
    "f1_score(l2, p2, average='macro'), accuracy_score(l2, p2)"
   ]
  },
  {
   "cell_type": "code",
   "execution_count": 32,
   "id": "138fd0a3",
   "metadata": {
    "papermill": {
     "duration": 0.033273,
     "end_time": "2022-12-12T05:29:43.595424",
     "exception": false,
     "start_time": "2022-12-12T05:29:43.562151",
     "status": "completed"
    },
    "tags": []
   },
   "outputs": [],
   "source": [
    "p1 = target_scaler.inverse_transform(np.array(p1).reshape(-1, 1))\n",
    "l1 = target_scaler.inverse_transform(np.array(l1).reshape(-1, 1))"
   ]
  },
  {
   "cell_type": "code",
   "execution_count": 33,
   "id": "7d5269d3",
   "metadata": {
    "papermill": {
     "duration": 0.026772,
     "end_time": "2022-12-12T05:29:43.638314",
     "exception": false,
     "start_time": "2022-12-12T05:29:43.611542",
     "status": "completed"
    },
    "tags": []
   },
   "outputs": [
    {
     "data": {
      "text/plain": [
       "13.399816574435473"
      ]
     },
     "execution_count": 33,
     "metadata": {},
     "output_type": "execute_result"
    }
   ],
   "source": [
    "# регрессия\n",
    "mean_squared_error(l1, p1) ** 0.5"
   ]
  },
  {
   "cell_type": "markdown",
   "id": "500defa8",
   "metadata": {
    "papermill": {
     "duration": 0.016403,
     "end_time": "2022-12-12T05:29:43.670501",
     "exception": false,
     "start_time": "2022-12-12T05:29:43.654098",
     "status": "completed"
    },
    "tags": []
   },
   "source": [
    "## Чтобы улучшить скор, можно поэкспериментировать с:\n",
    "\n",
    "<div class=\"alert alert-info\">\n",
    "\n",
    "- нормализацией данных, заполнением пропусков \n",
    "- архитектурой сети\n",
    "    * добавить линейных слоев, изменить `hidden_size`\n",
    "    * добавить/изменить `Dropout`, `BatchNorm` слои\n",
    "    * изменить функцию активации (`LeakyReLU` и пр.)\n",
    "- попробовать другие оптимизаторы (`AdamW`, `RAdam`, `SGD` и пр.)\n",
    "- попробовать разные lr sheduler (`LambdaLR`, `StepLR`, `CyclicLR` и пр.)"
   ]
  },
  {
   "cell_type": "markdown",
   "id": "291fd89f-8697-4f84-98d2-16d3d144922c",
   "metadata": {},
   "source": [
    "<div class=\"alert alert-info\">\n",
    "\n",
    "Плюсы использования самописных нейросетей:\n",
    "* можно решать одной сеткой несколько задач\n",
    "* кастомизация без ограничений\n",
    "* любые лоссы и метрики из `PyTorch` или самописные\n",
    "* легко достать эмбеддинги для обучения бустингов ([пример](https://github.com/a-milenkin/Competitive_Data_Science/blob/main/notebooks/9.2%20-%20Embeddings.ipynb))"
   ]
  },
  {
   "cell_type": "markdown",
   "id": "4929c668",
   "metadata": {
    "papermill": {
     "duration": 0.015467,
     "end_time": "2022-12-12T05:29:43.702808",
     "exception": false,
     "start_time": "2022-12-12T05:29:43.687341",
     "status": "completed"
    },
    "tags": []
   },
   "source": [
    "# <center>🕸 `TabNet` - \"SOTA\" для табличек.</center>\n",
    "А теперь решим задачу с помощью [TABNET](https://github.com/dreamquark-ai/tabnet)."
   ]
  },
  {
   "cell_type": "markdown",
   "id": "5949c37d",
   "metadata": {
    "papermill": {
     "duration": 0.015851,
     "end_time": "2022-12-12T05:29:43.734051",
     "exception": false,
     "start_time": "2022-12-12T05:29:43.718200",
     "status": "completed"
    },
    "tags": []
   },
   "source": [
    "<div class=\"alert alert-info\">\n",
    "\n",
    "[Статья на arxiv.org](https://arxiv.org/abs/1908.07442) <br>\n",
    "[Подробное описание архитектуры на русском языке.](https://habr.com/ru/articles/540736/)\n",
    "    \n",
    "`TabNet` - фреймворк, предоставляющий готовые реализации нейронных сетей для задач с табличными данными, реализованный на `PyTorch`, с удобным `sklearn`-подобным интерфейсом. <br>\n",
    "Взаимодействие с фреймворком очень похоже на библиотеки бустингов: \n",
    "* методы `fit`, `predict`\n",
    "* встроенный feature importance\n",
    "* встроенная визуализация\n",
    "* может принимать категориальные признаки на вход"
   ]
  },
  {
   "cell_type": "code",
   "execution_count": 3,
   "id": "334ceca0",
   "metadata": {
    "papermill": {
     "duration": 16.074534,
     "end_time": "2022-12-12T05:29:59.982624",
     "exception": false,
     "start_time": "2022-12-12T05:29:43.908090",
     "status": "completed"
    },
    "tags": []
   },
   "outputs": [
    {
     "name": "stdout",
     "output_type": "stream",
     "text": [
      "\u001b[31mERROR: torchvision 0.15.1+cu117 has requirement torch==2.0.0, but you'll have torch 1.13.1 which is incompatible.\u001b[0m\n"
     ]
    }
   ],
   "source": [
    "!pip install pytorch-tabnet -q"
   ]
  },
  {
   "cell_type": "markdown",
   "id": "e49a3419",
   "metadata": {
    "papermill": {
     "duration": 0.016618,
     "end_time": "2022-12-12T05:30:00.088995",
     "exception": false,
     "start_time": "2022-12-12T05:30:00.072377",
     "status": "completed"
    },
    "tags": []
   },
   "source": [
    "## **Классификация**"
   ]
  },
  {
   "cell_type": "code",
   "execution_count": 40,
   "id": "f48aca47",
   "metadata": {
    "papermill": {
     "duration": 0.045598,
     "end_time": "2022-12-12T05:29:43.796292",
     "exception": false,
     "start_time": "2022-12-12T05:29:43.750694",
     "status": "completed"
    },
    "tags": []
   },
   "outputs": [],
   "source": [
    "y = df['target_class']\n",
    "X_train, X_test, y_train, y_test = train_test_split(X, y, test_size=0.2, random_state=42)"
   ]
  },
  {
   "cell_type": "code",
   "execution_count": null,
   "id": "d4e963d2",
   "metadata": {
    "papermill": {
     "duration": 250.852946,
     "end_time": "2022-12-12T05:34:10.960029",
     "exception": false,
     "start_time": "2022-12-12T05:30:00.107083",
     "status": "completed"
    },
    "tags": []
   },
   "outputs": [],
   "source": [
    "from pytorch_tabnet.tab_model import TabNetClassifier, TabNetRegressor\n",
    "\n",
    "clf = TabNetClassifier(device_name='cpu')\n",
    "clf.fit(X_train.values,\n",
    "        y_train,\n",
    "        patience=100,\n",
    "        eval_set=[(X_test.values, y_test)])"
   ]
  },
  {
   "cell_type": "markdown",
   "id": "a22072e5-4cb3-4e82-9c97-b43a00082893",
   "metadata": {},
   "source": [
    "### Посмотрим `feature importance`"
   ]
  },
  {
   "cell_type": "code",
   "execution_count": 42,
   "id": "c70c8967-a810-4814-89f8-27ab3bc28aa6",
   "metadata": {},
   "outputs": [
    {
     "name": "stdout",
     "output_type": "stream",
     "text": [
      "0.446 mean_rating\n",
      "0.2507 speed_max\n",
      "0.1582 rating_min\n",
      "0.0699 model_Hyundai Solaris\n",
      "0.03772 model_Smart Coupe\n",
      "0.01518 fuel_type_petrol\n",
      "0.006153 model_Audi A3\n",
      "0.002333 riders\n",
      "0.00207 car_type_standart\n",
      "0.001887 model_VW Tiguan\n",
      "0.001779 distance_sum\n",
      "0.001025 model_Nissan Qashqai\n",
      "0.0009217 model_Volkswagen ID.4 \n",
      "0.0008307 model_Skoda Rapid\n",
      "0.0008187 year_to_work\n",
      "0.0007353 model_Renault Kaptur\n",
      "0.000645 model_Smart ForFour\n",
      "0.0005226 model_Kia Rio\n",
      "0.00048 model_VW Polo\n",
      "0.000322 car_type_business\n",
      "0.0003161 model_Mini Cooper\n",
      "0.000274 model_Fiat 500\n",
      "0.0002148 model_Mercedes-Benz GLC\n",
      "0.000178 user_ride_quality_median\n",
      "0.0001267 model_Audi A4\n",
      "0.00010693 year_to_start\n",
      "0.00010663 model_Kia Rio X-line\n",
      "7.35e-05 model_Smart ForTwo\n",
      "3.755e-05 car_type_economy\n",
      "3.56e-05 model_Tesla Model 3\n",
      "2.72e-05 car_type_premium\n",
      "1.86e-05 car_rating\n",
      "1.26e-05 model_Kia Sportage\n",
      "1.097e-05 model_Mercedes-Benz E200\n",
      "7.2e-06 model_BMW 320i\n",
      "1.3e-06 user_uniq\n",
      "9e-07 fuel_type_electro\n",
      "0.0 model_VW Polo VI\n",
      "0.0 model_Renault Sandero\n",
      "0.0 model_MINI CooperSE\n",
      "0.0 model_Kia Rio X\n",
      "0.0 model_Audi Q3\n",
      "0.0 deviation_normal_count\n"
     ]
    }
   ],
   "source": [
    "for i, j in sorted(zip(clf.feature_importances_.astype('float16'), X_train.columns), reverse=True):\n",
    "    print(i, j)"
   ]
  },
  {
   "cell_type": "markdown",
   "id": "608d4896-bcff-4268-8964-20c284074e4c",
   "metadata": {},
   "source": [
    "## Интерпретация\n",
    "[Пример интерпретации TabNet](https://www.kaggle.com/code/carlmcbrideellis/tabnet-and-interpretability-jane-street-example)"
   ]
  },
  {
   "cell_type": "code",
   "execution_count": 43,
   "id": "2ded12f1-ee9d-4f42-b454-8bc8d2961130",
   "metadata": {},
   "outputs": [
    {
     "data": {
      "image/png": "[encoded data removed]",
      "text/plain": [
       "<Figure size 2000x2000 with 3 Axes>"
      ]
     },
     "metadata": {},
     "output_type": "display_data"
    }
   ],
   "source": [
    "import matplotlib.pyplot as plt\n",
    "\n",
    "explain_matrix, masks = clf.explain(X_test.values)\n",
    "\n",
    "fig, axs = plt.subplots(1, 3, figsize=(20,20))\n",
    "for i in range(3):\n",
    "    axs[i].imshow(masks[i][:50])\n",
    "    axs[i].set_title(f\"mask {i}\")"
   ]
  },
  {
   "cell_type": "code",
   "execution_count": 58,
   "id": "716a6fe4-c8db-4f31-a132-fba4903caad8",
   "metadata": {},
   "outputs": [],
   "source": [
    "normalized_explain_mat = np.divide(explain_matrix, explain_matrix.sum(axis=1).reshape(-1, 1)+1e-8)\n",
    "\n",
    "# Add prediction to better understand correlation between features and predictions\n",
    "preds = clf.predict(X_test.values)\n",
    "\n",
    "explain_and_preds = np.hstack([normalized_explain_mat, preds.reshape(-1, 1)])"
   ]
  },
  {
   "cell_type": "code",
   "execution_count": 68,
   "id": "a5c1d45c-ce25-4e12-b30e-cdfd39b2fdc4",
   "metadata": {},
   "outputs": [
    {
     "data": {
      "application/vnd.plotly.v1+json": {
       "config": {
        "plotlyServerURL": "https://plot.ly"
       },
       "data": [
        {
         "coloraxis": "coloraxis",
         "hovertemplate": "Features: %{x}<br>Features: %{y}<br>Correlation: %{z}<extra></extra>",
         "name": "0",
         "type": "heatmap",
         "x": [
          "car_rating",
          "year_to_start",
          "riders",
          "year_to_work",
          "mean_rating",
          "distance_sum",
          "rating_min",
          "speed_max",
          "user_ride_quality_median",
          "deviation_normal_count",
          "user_uniq",
          "car_type_business",
          "car_type_economy",
          "car_type_premium",
          "car_type_standart",
          "fuel_type_electro",
          "fuel_type_petrol",
          "model_Audi A3",
          "model_Audi A4",
          "model_Audi Q3",
          "model_BMW 320i",
          "model_Fiat 500",
          "model_Hyundai Solaris",
          "model_Kia Rio",
          "model_Kia Rio X",
          "model_Kia Rio X-line",
          "model_Kia Sportage",
          "model_MINI CooperSE",
          "model_Mercedes-Benz E200",
          "model_Mercedes-Benz GLC",
          "model_Mini Cooper",
          "model_Nissan Qashqai",
          "model_Renault Kaptur",
          "model_Renault Sandero",
          "model_Skoda Rapid",
          "model_Smart Coupe",
          "model_Smart ForFour",
          "model_Smart ForTwo",
          "model_Tesla Model 3",
          "model_VW Polo",
          "model_VW Polo VI",
          "model_VW Tiguan",
          "model_Volkswagen ID.4 ",
          "prediction"
         ],
         "xaxis": "x",
         "y": [
          "car_rating",
          "year_to_start",
          "riders",
          "year_to_work",
          "mean_rating",
          "distance_sum",
          "rating_min",
          "speed_max",
          "user_ride_quality_median",
          "deviation_normal_count",
          "user_uniq",
          "car_type_business",
          "car_type_economy",
          "car_type_premium",
          "car_type_standart",
          "fuel_type_electro",
          "fuel_type_petrol",
          "model_Audi A3",
          "model_Audi A4",
          "model_Audi Q3",
          "model_BMW 320i",
          "model_Fiat 500",
          "model_Hyundai Solaris",
          "model_Kia Rio",
          "model_Kia Rio X",
          "model_Kia Rio X-line",
          "model_Kia Sportage",
          "model_MINI CooperSE",
          "model_Mercedes-Benz E200",
          "model_Mercedes-Benz GLC",
          "model_Mini Cooper",
          "model_Nissan Qashqai",
          "model_Renault Kaptur",
          "model_Renault Sandero",
          "model_Skoda Rapid",
          "model_Smart Coupe",
          "model_Smart ForFour",
          "model_Smart ForTwo",
          "model_Tesla Model 3",
          "model_VW Polo",
          "model_VW Polo VI",
          "model_VW Tiguan",
          "model_Volkswagen ID.4 ",
          "prediction"
         ],
         "yaxis": "y",
         "z": [
          [
           1,
           -0.0043310922579597975,
           -0.008894694267971171,
           -0.007029927158283301,
           0.01017226053373129,
           -0.009737017296744237,
           0.05216062698925299,
           -0.09502099998974406,
           -0.008838255754264774,
           null,
           -0.004066264249437469,
           -0.007788464498106552,
           -0.0029617683604615057,
           -0.01519500969659342,
           -0.009175893527067065,
           -0.004147771111572673,
           -0.02330341597891932,
           -0.023125319517575082,
           -0.005035543571986584,
           null,
           -0.002961768360461423,
           -0.013415179365003253,
           -0.03746362444083467,
           -0.013872734637686327,
           null,
           -0.007367164460402173,
           -0.010603315119222334,
           null,
           null,
           -0.006581725394208868,
           -0.009923316691067205,
           0.4383361521390095,
           -0.016606578860282415,
           null,
           -0.013834131435510717,
           -0.03662486748933209,
           -0.005008184520897923,
           -0.004822022136834294,
           -0.0032181155944397922,
           0.7168371380932882,
           null,
           -0.00935001678312092,
           -0.014329771494721796,
           -0.009883351680060734
          ],
          [
           -0.0043310922579597975,
           0.9999999999999998,
           -0.009403930275801392,
           -0.0074324021544516635,
           -0.056036669327155245,
           -0.010294477695829876,
           -0.06393459116292623,
           0.015695550946183377,
           0.010856169474205014,
           null,
           -0.00429906462579472,
           -0.0049902416868353484,
           -0.003131334514233593,
           -0.01606494921825806,
           -0.010644823679434957,
           -0.004385237891049939,
           -0.024637575216369667,
           -0.02444928243705738,
           -0.005209073658010695,
           null,
           -0.003131334514233555,
           -0.0141832206465073,
           0.10838402493477424,
           -0.014666971717877054,
           null,
           -0.007788946851771451,
           -0.011210372506289694,
           null,
           null,
           -0.006958540095580868,
           -0.010491443039646544,
           -0.007825520010104801,
           -0.017992453320443653,
           null,
           -0.014626158418313499,
           0.052013203480166185,
           0.15305271014494276,
           -0.005098090906445719,
           -0.0034023580527724443,
           -0.008558217225785033,
           null,
           -0.009885320760563648,
           -0.015150174693442856,
           -0.03366161768989797
          ],
          [
           -0.008894694267971171,
           -0.009403930275801392,
           0.9999999999999999,
           -0.015263804348420642,
           -0.177565826048871,
           -0.01952300713588799,
           0.06358396549510291,
           -0.0660171930475572,
           -0.019190157106456513,
           null,
           -0.008828919636707656,
           -0.016910786640746522,
           -0.006430771153319654,
           -0.0329923269272953,
           0.3141048573583727,
           -0.009005892280758203,
           -0.05030848213956276,
           -0.02263371213639804,
           0.21817721432138015,
           null,
           -0.006430771153319646,
           -0.0210795041840504,
           -0.0502902329023255,
           -0.030121323097594247,
           null,
           -0.015996034438808843,
           -0.023022561084969164,
           null,
           null,
           -0.014290641486073126,
           -0.021546107242575503,
           0.4115894476040468,
           -0.03695081099276226,
           null,
           -0.030037505482992173,
           -0.0476457791488233,
           0.07524433420689437,
           -0.01046986701329696,
           -0.006987367820198844,
           0.007983477567545534,
           null,
           -0.004650748472900871,
           0.3228801623740238,
           0.015063962258155945
          ],
          [
           -0.007029927158283301,
           -0.0074324021544516635,
           -0.01526380434842064,
           1,
           0.12040564566135072,
           -0.01670927886637648,
           0.07483591247135736,
           -0.1630614734063857,
           -0.015166952629297147,
           null,
           -0.006977942137470179,
           -0.01336545076111228,
           -0.005082563988985442,
           -0.026075506149359093,
           0.5606829446967705,
           -0.007117812576993265,
           -0.0399899953203465,
           -0.03968437160139621,
           -0.00864128092041558,
           null,
           -0.005082563988985472,
           -0.02302121545242084,
           -0.06423298578191448,
           -0.023806406483209887,
           null,
           -0.012642475788194203,
           -0.01819589550224907,
           null,
           null,
           -0.011294617405118347,
           0.16869092533317992,
           -0.012701838790346786,
           -0.01965610343352019,
           null,
           -0.023740161179270178,
           -0.07252593150710898,
           0.07476085957727721,
           -0.008274865919273169,
           -0.005522470511550713,
           0.06604068062248364,
           null,
           -0.016045163839516482,
           -0.024590707883082482,
           0.07323807813546593
          ],
          [
           0.01017226053373129,
           -0.056036669327155245,
           -0.177565826048871,
           0.12040564566135072,
           1,
           0.04935207646498383,
           0.6521054443334062,
           -0.808827558952172,
           -0.16264937871947666,
           null,
           -0.02557165485394763,
           -0.1252994054968883,
           -0.06313263618347274,
           -0.0004868922901012055,
           -0.046939669940595195,
           -0.07080114818649196,
           -0.16956591622149028,
           -0.18294122874654795,
           -0.12848330749097187,
           null,
           0.07228521737774762,
           -0.09036840108174911,
           -0.6652521997882187,
           -0.09155591182890026,
           null,
           -0.08921850674849605,
           -0.02578183732016742,
           null,
           null,
           0.08194986628795842,
           0.11726949694258476,
           -0.032251662943835926,
           0.18840475869218765,
           null,
           -0.15266794296164918,
           -0.41802013542360594,
           -0.020907240725279753,
           0.010362706167717667,
           -0.01878861747411958,
           0.01410306836081867,
           null,
           0.037401590281492564,
           -0.21336015067130945,
           0.07888743490749893
          ],
          [
           -0.009737017296744237,
           -0.010294477695829878,
           -0.019523007135887994,
           -0.016709278866376475,
           0.04935207646498383,
           1,
           -0.11723590355588705,
           0.05923622802514359,
           -0.021007455236055697,
           null,
           -0.009665013841312794,
           -0.018512229545137412,
           -0.007039761914780196,
           -0.03611668352758267,
           -0.013351287364510174,
           -0.009858745704854916,
           -0.05538937564554026,
           -0.054966062093250154,
           -0.011968872492366072,
           null,
           -0.007039761914780193,
           -0.031886244054204246,
           -0.08905202338235049,
           -0.03297379709364608,
           null,
           -0.01751085077436007,
           -0.02520278592451598,
           null,
           null,
           -0.015643957975320547,
           -0.0235865126532694,
           -0.017593073330259976,
           -0.04045003402318404,
           null,
           -0.03288204199351939,
           -0.10637776754368955,
           0.5016462732442228,
           0.6557356708273133,
           -0.007649068003268108,
           -0.019240298796132687,
           null,
           0.40368305518863895,
           -0.005437845219223867,
           -0.27335587723355376
          ],
          [
           0.05216062698925299,
           -0.06393459116292623,
           0.0635839654951029,
           0.07483591247135737,
           0.6521054443334062,
           -0.11723590355588706,
           0.9999999999999998,
           -0.8101885991844114,
           -0.16034011030850706,
           null,
           0.017599944233176044,
           -0.14290103103792096,
           -0.05438166760151639,
           0.2536013721686449,
           0.1528242554683354,
           -0.07615811988807,
           -0.4278790464045648,
           -0.41451172907709566,
           -0.007148863427645432,
           null,
           0.029816895236055886,
           0.22913825939058333,
           -0.6217152670650131,
           -0.2547202724770692,
           null,
           -0.12783364677824255,
           0.18078963863055608,
           null,
           null,
           0.11487811746106716,
           0.16476507679687555,
           0.04381863036098575,
           0.25831886672532206,
           null,
           -0.2540114707567523,
           -0.3043976007657388,
           -0.026639491784283383,
           -0.04878577187338789,
           -0.013053045775562301,
           0.07125268172187614,
           null,
           -0.157549564467699,
           0.05328876755460751,
           0.1438323802179416
          ],
          [
           -0.09502099998974406,
           0.015695550946183377,
           -0.0660171930475572,
           -0.16306147340638566,
           -0.808827558952172,
           0.05923622802514359,
           -0.8101885991844114,
           1,
           0.11250796315121502,
           null,
           0.03445814173777488,
           0.12123055775375143,
           0.03026591990062356,
           -0.12629291017836333,
           -0.15296407657648414,
           0.05486986068862436,
           0.46168075078180315,
           0.4511672960186917,
           0.042401845207920785,
           null,
           -0.06869919159492387,
           0.009751507218948947,
           0.4439499734749852,
           0.2563614199700174,
           null,
           0.137807424151909,
           -0.029905735113202735,
           null,
           null,
           -0.11177878078746865,
           -0.16676694481186904,
           -0.1442007877077925,
           -0.26583562874992434,
           null,
           0.25724802142456177,
           0.12148242949212358,
           -0.016750769697996357,
           0.005010038742589871,
           0.0557301464559669,
           -0.128877230469966,
           null,
           0.11034290156893078,
           0.06903963834163608,
           -0.3477816978827498
          ],
          [
           -0.008838255754264772,
           0.010856169474205014,
           -0.019190157106456513,
           -0.015166952629297147,
           -0.16264937871947663,
           -0.021007455236055697,
           -0.16034011030850703,
           0.112507963151215,
           1,
           null,
           -0.008772898475449374,
           0.027995219940602237,
           -0.006389966696758768,
           -0.032782984386742986,
           -0.021722389765536452,
           -0.008948748194675706,
           -0.05027673805078058,
           -0.049892497854284186,
           0.08816419263376533,
           null,
           -0.006389966696758815,
           -0.02894302961628639,
           0.33051915506374574,
           -0.029930197618147227,
           null,
           -0.0158945365815779,
           -0.022876478590146222,
           null,
           null,
           -0.014199964668963193,
           -0.02140939312601412,
           -0.015969169701317405,
           -0.03671635112378302,
           null,
           -0.029846911842127743,
           -0.03627766583886472,
           -0.010805076023830022,
           -0.010403433731260174,
           -0.006943031652747629,
           -0.017464350361742875,
           null,
           -0.020172507970532196,
           -0.030916247146744756,
           0.1740912966647977
          ],
          [
           null,
           null,
           null,
           null,
           null,
           null,
           null,
           null,
           null,
           null,
           null,
           null,
           null,
           null,
           null,
           null,
           null,
           null,
           null,
           null,
           null,
           null,
           null,
           null,
           null,
           null,
           null,
           null,
           null,
           null,
           null,
           null,
           null,
           null,
           null,
           null,
           null,
           null,
           null,
           null,
           null,
           null,
           null,
           null
          ],
          [
           -0.004066264249437469,
           -0.00429906462579472,
           -0.008828919636707656,
           -0.00697794213747018,
           -0.02557165485394763,
           -0.009665013841312792,
           0.01759994423317604,
           0.03445814173777488,
           -0.008772898475449374,
           null,
           1,
           -0.0077308702329143605,
           -0.0029398666271439906,
           -0.01508264538931872,
           -0.009993937646953308,
           -0.004117099105631757,
           -0.023131091495691713,
           -0.022954312024985008,
           -0.004998306651674183,
           null,
           -0.0029398666271439784,
           0.0023326198314731583,
           -0.03708822956406297,
           -0.013770148311735064,
           null,
           -0.00731268563164854,
           -0.010524905550424655,
           null,
           null,
           -0.006533054743162292,
           -0.009849935585814647,
           -0.007347022495737816,
           -0.016892290752322986,
           null,
           -0.013731830573152738,
           0.03647862034836716,
           -0.004971149915745933,
           -0.0047863641683374486,
           -0.0031943182203861362,
           -0.008034918369649794,
           null,
           -0.00928087512544393,
           -0.006153593579867005,
           -0.035896655534209225
          ],
          [
           -0.007788464498106552,
           -0.004990241686835349,
           -0.016910786640746522,
           -0.01336545076111228,
           -0.1252994054968883,
           -0.018512229545137412,
           -0.14290103103792096,
           0.12123055775375141,
           0.027995219940602237,
           null,
           -0.007730870232914361,
           1,
           -0.005630978571509788,
           -0.028889083676371684,
           -0.019142245507126877,
           0.806643519787967,
           0.10894384382479635,
           0.15746844565510648,
           0.024614436435093406,
           null,
           -0.005630978571509757,
           0.09762532988321582,
           0.12103634141359235,
           0.09820998995479477,
           null,
           0.5044144843142802,
           -0.020159253849954883,
           null,
           null,
           -0.012513319796750636,
           -0.01886642601482807,
           -0.014072382010775568,
           -0.03235525257227456,
           null,
           0.08563520152891187,
           -0.07009487543666144,
           -0.009521669586256781,
           -0.009167733603457306,
           -0.006118351520950392,
           -0.015389967948064076,
           null,
           -0.017776455732280323,
           0.10916942653807243,
           0.02911700333192427
          ],
          [
           -0.0029617683604615057,
           -0.003131334514233593,
           -0.006430771153319654,
           -0.005082563988985441,
           -0.06313263618347274,
           -0.007039761914780197,
           -0.05438166760151639,
           0.03026591990062356,
           -0.006389966696758768,
           null,
           -0.0029398666271439906,
           -0.0056309785715097874,
           1,
           -0.0109858334741337,
           -0.007279342045531182,
           -0.0029987952380692204,
           -0.016848126617534792,
           -0.016719364734145224,
           -0.003640645464411382,
           null,
           -0.002141327623126315,
           -0.00969903471417996,
           0.04808996483639357,
           -0.010029842402445885,
           null,
           -0.005326383039866066,
           -0.007666086201949356,
           null,
           null,
           -0.004758518789854129,
           -0.007174454433128582,
           -0.005351393179743536,
           -0.012303935311844663,
           null,
           -0.010001932690037872,
           0.1399824172853169,
           -0.0036208651559237813,
           -0.0034862716945632485,
           -0.0023266639987044447,
           -0.00585243986772655,
           null,
           -0.006759964581184381,
           -0.0103602752816075,
           0.06885721596338962
          ],
          [
           -0.015195009696593422,
           -0.01606494921825806,
           -0.032992326927295305,
           -0.026075506149359093,
           -0.00048689229010120543,
           -0.03611668352758266,
           0.2536013721686449,
           -0.12629291017836333,
           -0.03278298438674298,
           null,
           -0.01508264538931872,
           -0.028889083676371684,
           -0.0109858334741337,
           1,
           -0.03734582165278869,
           -0.015384971805647954,
           -0.08643736314442475,
           -0.0857767652081456,
           -0.018677910086449163,
           null,
           -0.010985833474133634,
           0.02915412910928233,
           -0.10438486378545853,
           -0.05145694531517124,
           null,
           -0.015306580122498742,
           0.30624548705580534,
           null,
           null,
           0.051615424564532594,
           0.07015335356317601,
           -0.02745470319083867,
           0.35310545745395683,
           null,
           -0.05131375776670079,
           0.0626982572114906,
           -0.018576429503672266,
           0.04329527861246761,
           -0.011936680293093662,
           -0.030025265218573845,
           null,
           -0.034681215699028795,
           -0.04892049642117332,
           0.0007261464724973679
          ],
          [
           -0.009175893527067065,
           -0.010644823679434957,
           0.3141048573583726,
           0.5606829446967705,
           -0.046939669940595195,
           -0.013351287364510174,
           0.1528242554683354,
           -0.15296407657648414,
           -0.021722389765536455,
           null,
           -0.009993937646953308,
           -0.019142245507126877,
           -0.007279342045531182,
           -0.03734582165278869,
           1,
           -0.010194262674548272,
           -0.05727441011403754,
           -0.03492764750853484,
           0.17236052249058215,
           null,
           -0.007279342045531146,
           -0.03297141008853091,
           -0.08944780892224383,
           -0.034095975189252635,
           null,
           -0.018106787393931515,
           -0.02606049770797944,
           null,
           null,
           -0.01617635971597037,
           0.05038465207824249,
           -0.007932027215413083,
           -0.03649615282634945,
           null,
           -0.0340010974410661,
           -0.059443865028755996,
           0.18165059559926244,
           -0.011851415847953278,
           -0.007909384294433951,
           0.13707980852741491,
           null,
           -0.022980180085788497,
           0.49843564159555076,
           0.018321825821302665
          ],
          [
           -0.004147771111572673,
           -0.004385237891049938,
           -0.009005892280758201,
           -0.007117812576993265,
           -0.07080114818649194,
           -0.009858745704854914,
           -0.07615811988806999,
           0.05486986068862436,
           -0.008948748194675706,
           null,
           -0.004117099105631757,
           0.806643519787967,
           -0.0029987952380692204,
           -0.015384971805647955,
           -0.010194262674548272,
           1,
           -0.0023710667058021687,
           8.092027722907064e-05,
           -0.005098495981775798,
           null,
           -0.0029987952380691957,
           -0.01358289072658892,
           0.12300605964903444,
           -0.014046166177563641,
           null,
           0.024587112562730253,
           -0.010735873646214884,
           null,
           null,
           -0.0066640075685586424,
           -0.010047374141841548,
           -0.007494291023538627,
           -0.017230890884787776,
           null,
           -0.014007080373148857,
           -0.04531476300024994,
           -0.005070794898457468,
           -0.004882305184578935,
           -0.00325834722559422,
           -0.008195975532600526,
           null,
           -0.009466907061132202,
           -0.014508916731859634,
           0.09643021885471402
          ],
          [
           -0.02330341597891932,
           -0.024637575216369667,
           -0.050308482139562766,
           -0.03998999532034649,
           -0.16956591622149028,
           -0.05538937564554026,
           -0.42787904640456487,
           0.4616807507818032,
           -0.05027673805078059,
           null,
           -0.023131091495691713,
           0.10894384382479635,
           -0.016848126617534792,
           -0.08643736314442477,
           -0.05727441011403754,
           -0.0023710667058021682,
           1,
           0.9799332480907459,
           0.08728021217799413,
           null,
           -0.016848126617534855,
           -0.026504998959958916,
           -0.20674950153332708,
           0.40100065152001946,
           null,
           0.26043048828396237,
           -0.06031734219297534,
           null,
           null,
           -0.03744038334793958,
           -0.05644914649940683,
           -0.04210516359047267,
           -0.09680828743303897,
           null,
           0.174809598419046,
           -0.2545918624185091,
           -0.02848923908381562,
           -0.027430247617771585,
           -0.018306367144977503,
           -0.04604743657535612,
           null,
           -0.05318790920352549,
           -0.053028514186377315,
           -0.4999976270820026
          ],
          [
           -0.023125319517575085,
           -0.02444928243705738,
           -0.02263371213639804,
           -0.03968437160139621,
           -0.18294122874654797,
           -0.05496606209325015,
           -0.4145117290770957,
           0.4511672960186917,
           -0.049892497854284186,
           null,
           -0.022954312024985008,
           0.15746844565510645,
           -0.016719364734145224,
           -0.0857767652081456,
           -0.034927647508534845,
           8.092027722907064e-05,
           0.9799332480907459,
           1,
           0.16376489450010726,
           null,
           -0.01671936473414515,
           -0.011001408122509092,
           -0.20361328595827666,
           0.3805328200921203,
           null,
           0.3620684292310029,
           -0.05985636663419999,
           null,
           null,
           -0.037154245049946195,
           -0.05601773364360352,
           -0.041783374688512565,
           -0.09606842966127656,
           null,
           0.17288595345382912,
           -0.24861556070554205,
           -0.018360978412198168,
           -0.027220611827081378,
           -0.018166460651803436,
           -0.04569551883439209,
           null,
           -0.0527814203684121,
           -0.02474188547183854,
           -0.48412828090991455
          ],
          [
           -0.005035543571986584,
           -0.005209073658010695,
           0.21817721432138018,
           -0.00864128092041558,
           -0.12848330749097187,
           -0.01196887249236607,
           -0.007148863427645432,
           0.042401845207920785,
           0.08816419263376533,
           null,
           -0.004998306651674183,
           0.024614436435093402,
           -0.003640645464411382,
           -0.018677910086449166,
           0.17236052249058215,
           -0.005098495981775797,
           0.08728021217799413,
           0.16376489450010726,
           1,
           null,
           -0.0036406454644113758,
           -0.016490118728209487,
           -0.005785068144817232,
           -0.01705255181732235,
           null,
           -0.009055817543461433,
           -0.013033737415746755,
           null,
           null,
           -0.008090345289762674,
           -0.01219787421107515,
           -0.009098339318889816,
           -0.020918922356252655,
           null,
           -0.017005100242516905,
           -0.018558509990307975,
           0.0774093280295111,
           -0.005927294401585604,
           -0.003955750928821238,
           -0.00995020959430366,
           null,
           -0.011493166261096798,
           0.12366723756443082,
           0.022776979924508427
          ],
          [
           null,
           null,
           null,
           null,
           null,
           null,
           null,
           null,
           null,
           null,
           null,
           null,
           null,
           null,
           null,
           null,
           null,
           null,
           null,
           null,
           null,
           null,
           null,
           null,
           null,
           null,
           null,
           null,
           null,
           null,
           null,
           null,
           null,
           null,
           null,
           null,
           null,
           null,
           null,
           null,
           null,
           null,
           null,
           null
          ],
          [
           -0.0029617683604614233,
           -0.003131334514233555,
           -0.006430771153319645,
           -0.005082563988985471,
           0.07228521737774762,
           -0.007039761914780194,
           0.029816895236055883,
           -0.06869919159492387,
           -0.006389966696758815,
           null,
           -0.0029398666271439784,
           -0.005630978571509757,
           -0.002141327623126315,
           -0.010985833474133634,
           -0.007279342045531146,
           -0.0029987952380691957,
           -0.016848126617534855,
           -0.01671936473414515,
           -0.0036406454644113753,
           null,
           1,
           -0.009699034714179988,
           -0.02708750095135472,
           -0.0100298424024458,
           null,
           -0.005326383039866071,
           -0.007666086201949419,
           null,
           null,
           -0.004758518789854177,
           -0.007174454433128652,
           -0.002886194749383934,
           0.08948139718692076,
           null,
           -0.01000193269003765,
           0.0006063392571424415,
           -0.003620865155923747,
           -0.0034862716945632814,
           -0.0023266639987044547,
           -0.005852439867726719,
           null,
           -0.006759964581184299,
           -0.010360275281607429,
           -0.007145560147144227
          ],
          [
           -0.013415179365003253,
           -0.0141832206465073,
           -0.0210795041840504,
           -0.023021215452420845,
           -0.09036840108174911,
           -0.031886244054204246,
           0.2291382593905833,
           0.009751507218948947,
           -0.02894302961628639,
           null,
           0.002332619831473158,
           0.0976253298832158,
           -0.00969903471417996,
           0.02915412910928233,
           -0.03297141008853091,
           -0.013582890726588918,
           -0.02650499895995892,
           -0.01100140812250909,
           -0.016490118728209487,
           null,
           -0.009699034714179986,
           1,
           -0.1119352152339982,
           0.056306610424950415,
           null,
           0.1795146248233325,
           0.36202771580301385,
           null,
           null,
           0.12506414619199085,
           0.019779055851114308,
           -0.011950221429394796,
           -0.03506281203492236,
           null,
           0.07744414753031315,
           -0.11381047587804678,
           -0.016400524825526896,
           0.009717259406976403,
           -0.010538506414408686,
           -0.026508329144354616,
           null,
           -0.029874053046639253,
           0.06549492827447978,
           -0.054904172758428633
          ],
          [
           -0.03746362444083467,
           0.10838402493477423,
           -0.0502902329023255,
           -0.0642329857819145,
           -0.6652521997882187,
           -0.08905202338235049,
           -0.6217152670650131,
           0.44394997347498527,
           0.3305191550637458,
           null,
           -0.03708822956406297,
           0.12103634141359235,
           0.048089964836393564,
           -0.10438486378545853,
           -0.08944780892224383,
           0.12300605964903444,
           -0.20674950153332708,
           -0.20361328595827666,
           -0.005785068144817232,
           null,
           -0.027087500951354718,
           -0.1119352152339982,
           1,
           -0.055920034418046084,
           null,
           -0.04748943633811295,
           -0.08776240430930762,
           null,
           null,
           -0.059559937787715664,
           -0.08651820919982621,
           -0.06755637474424596,
           -0.13806269131960616,
           null,
           0.07546836321999409,
           0.42542495472471487,
           -0.02696843148597459,
           -0.04109689082851377,
           -0.029431980701007845,
           -0.05447993820582623,
           null,
           -0.08551262546018668,
           -0.01878437077228092,
           0.4785602739535367
          ],
          [
           -0.013872734637686327,
           -0.014666971717877054,
           -0.030121323097594244,
           -0.023806406483209884,
           -0.09155591182890026,
           -0.03297379709364609,
           -0.25472027247706913,
           0.2563614199700174,
           -0.029930197618147227,
           null,
           -0.013770148311735064,
           0.09820998995479475,
           -0.010029842402445885,
           -0.05145694531517124,
           -0.034095975189252635,
           -0.014046166177563641,
           0.40100065152001946,
           0.3805328200921203,
           -0.017052551817322355,
           null,
           -0.010029842402445801,
           0.05630661042495041,
           -0.05592003441804609,
           0.9999999999999999,
           null,
           0.28160248063374516,
           -0.03590746022173828,
           null,
           null,
           -0.02228859937912419,
           -0.033604688283407076,
           -0.02506558531570643,
           -0.057630850494292764,
           null,
           0.6811337871785758,
           -0.1456268543947662,
           -0.016959902110355925,
           -0.016329474897225697,
           -0.010897946198620336,
           -0.027412456136623242,
           null,
           -0.03166324417764968,
           -0.0200726351911388,
           -0.17779571872362115
          ],
          [
           null,
           null,
           null,
           null,
           null,
           null,
           null,
           null,
           null,
           null,
           null,
           null,
           null,
           null,
           null,
           null,
           null,
           null,
           null,
           null,
           null,
           null,
           null,
           null,
           null,
           null,
           null,
           null,
           null,
           null,
           null,
           null,
           null,
           null,
           null,
           null,
           null,
           null,
           null,
           null,
           null,
           null,
           null,
           null
          ],
          [
           -0.007367164460402174,
           -0.007788946851771451,
           -0.015996034438808843,
           -0.012642475788194203,
           -0.08921850674849605,
           -0.01751085077436007,
           -0.12783364677824255,
           0.137807424151909,
           -0.015894536581577898,
           null,
           -0.007312685631648539,
           0.5044144843142802,
           -0.005326383039866066,
           -0.01530658012249874,
           -0.01810678739393152,
           0.024587112562730253,
           0.26043048828396237,
           0.36206842923100296,
           -0.009055817543461431,
           null,
           -0.005326383039866072,
           0.1795146248233325,
           -0.04748943633811296,
           0.28160248063374516,
           null,
           1,
           -0.017632148735903148,
           null,
           null,
           -0.0074438346905648005,
           -0.01681760130438805,
           -0.013311167130336466,
           -0.026354196032123,
           null,
           0.22951222190699122,
           -0.07869047240123837,
           -0.009006615591124228,
           -0.00831867583338846,
           -0.0057873926102316705,
           -0.014557481123688737,
           null,
           -0.016814877044712333,
           0.10697423144672925,
           -0.14723277727686127
          ],
          [
           -0.010603315119222334,
           -0.011210372506289694,
           -0.023022561084969164,
           -0.01819589550224907,
           -0.025781837320167422,
           -0.025202785924515976,
           0.18078963863055608,
           -0.029905735113202735,
           -0.022876478590146222,
           null,
           -0.010524905550424653,
           -0.020159253849954883,
           -0.007666086201949355,
           0.3062454870558054,
           -0.02606049770797944,
           -0.010735873646214882,
           -0.06031734219297534,
           -0.059856366634199985,
           -0.013033737415746757,
           null,
           -0.007666086201949419,
           0.3620277158030139,
           -0.08776240430930762,
           -0.03590746022173828,
           null,
           -0.017632148735903148,
           1,
           null,
           null,
           -0.017035793515500667,
           0.10260400312335206,
           -0.019158320741476685,
           0.0464756987548131,
           null,
           -0.03580754171376146,
           -0.03029896518403628,
           -0.012962922679912243,
           0.06284963935294736,
           -0.008329601964877972,
           -0.020952099077774202,
           null,
           -0.024201094051092897,
           -0.0230199164969679,
           0.015129352527898036
          ],
          [
           null,
           null,
           null,
           null,
           null,
           null,
           null,
           null,
           null,
           null,
           null,
           null,
           null,
           null,
           null,
           null,
           null,
           null,
           null,
           null,
           null,
           null,
           null,
           null,
           null,
           null,
           null,
           null,
           null,
           null,
           null,
           null,
           null,
           null,
           null,
           null,
           null,
           null,
           null,
           null,
           null,
           null,
           null,
           null
          ],
          [
           null,
           null,
           null,
           null,
           null,
           null,
           null,
           null,
           null,
           null,
           null,
           null,
           null,
           null,
           null,
           null,
           null,
           null,
           null,
           null,
           null,
           null,
           null,
           null,
           null,
           null,
           null,
           null,
           null,
           null,
           null,
           null,
           null,
           null,
           null,
           null,
           null,
           null,
           null,
           null,
           null,
           null,
           null,
           null
          ],
          [
           -0.006581725394208868,
           -0.006958540095580869,
           -0.014290641486073124,
           -0.011294617405118347,
           0.0819498662879584,
           -0.015643957975320547,
           0.11487811746106717,
           -0.11177878078746865,
           -0.014199964668963193,
           null,
           -0.006533054743162292,
           -0.012513319796750636,
           -0.004758518789854129,
           0.05161542456453259,
           -0.01617635971597037,
           -0.0066640075685586424,
           -0.03744038334793958,
           -0.03715424504994619,
           -0.008090345289762674,
           null,
           -0.004758518789854177,
           0.12506414619199085,
           -0.059559937787715664,
           -0.022288599379124193,
           null,
           -0.007443834690564801,
           -0.017035793515500663,
           null,
           null,
           1,
           -0.011036487232959117,
           -0.011892017233929263,
           0.006180882666090825,
           null,
           -0.0222265776270677,
           -0.048910362895314974,
           -0.008046388928956108,
           -0.007747291533509042,
           -0.005170378524024269,
           -0.013005457350991062,
           null,
           -0.015022184429372712,
           -0.019144113633181754,
           0.06856869322170324
          ],
          [
           -0.009923316691067205,
           -0.010491443039646544,
           -0.021546107242575503,
           0.16869092533317992,
           0.11726949694258476,
           -0.0235865126532694,
           0.16476507679687555,
           -0.16676694481186904,
           -0.02140939312601412,
           null,
           -0.009849935585814647,
           -0.01886642601482807,
           -0.007174454433128583,
           0.07015335356317601,
           0.05038465207824249,
           -0.010047374141841548,
           -0.05644914649940683,
           -0.056017733643603525,
           -0.012197874211075148,
           null,
           -0.007174454433128653,
           0.019779055851114308,
           -0.08651820919982622,
           -0.033604688283407076,
           null,
           -0.016817601304388047,
           0.10260400312335208,
           null,
           null,
           -0.011036487232959117,
           1,
           -0.017929683485692294,
           0.010177814745383002,
           null,
           -0.03351117762312734,
           -0.04979176169054031,
           0.03626093981662354,
           0.001185232703601035,
           -0.007795418440236002,
           0.027565544367640936,
           null,
           -0.022649060019345114,
           -0.03099653146580795,
           0.05255051671759246
          ],
          [
           0.4383361521390095,
           -0.007825520010104801,
           0.41158944760404675,
           -0.012701838790346786,
           -0.032251662943835926,
           -0.017593073330259976,
           0.04381863036098575,
           -0.1442007877077925,
           -0.015969169701317405,
           null,
           -0.007347022495737816,
           -0.014072382010775568,
           -0.005351393179743537,
           -0.02745470319083867,
           -0.007932027215413083,
           -0.007494291023538627,
           -0.04210516359047268,
           -0.04178337468851257,
           -0.009098339318889816,
           null,
           -0.0028861947493839346,
           -0.011950221429394798,
           -0.06755637474424596,
           -0.025065585315706428,
           null,
           -0.013311167130336466,
           -0.019158320741476685,
           null,
           null,
           -0.011892017233929261,
           -0.01792968348569229,
           1,
           -0.017996757979424224,
           null,
           -0.02499583613626458,
           -0.07031295597275787,
           -0.009048906337784964,
           -0.008712543735731644,
           -0.005814567429921604,
           0.5046421074382238,
           null,
           0.0070022945494027395,
           -0.021877443987105775,
           -0.04152867664668803
          ],
          [
           -0.01660657886028241,
           -0.017992453320443656,
           -0.03695081099276226,
           -0.01965610343352019,
           0.18840475869218765,
           -0.040450034023184034,
           0.25831886672532206,
           -0.2658356287499244,
           -0.03671635112378302,
           null,
           -0.016892290752322986,
           -0.03235525257227456,
           -0.012303935311844661,
           0.3531054574539568,
           -0.036496152826349444,
           -0.017230890884787776,
           -0.09680828743303896,
           -0.09606842966127654,
           -0.020918922356252655,
           null,
           0.08948139718692076,
           -0.03506281203492236,
           -0.13806269131960616,
           -0.057630850494292764,
           null,
           -0.026354196032123002,
           0.0464756987548131,
           null,
           null,
           0.006180882666090825,
           0.010177814745383002,
           -0.017996757979424224,
           1,
           null,
           -0.05747048302304094,
           -0.015196694000501864,
           -0.018986819204430194,
           -0.01137456919923172,
           -0.013368866596257729,
           -0.007211906635974582,
           null,
           -0.03884233595035761,
           -0.059529497261934676,
           0.03156432790199533
          ],
          [
           null,
           null,
           null,
           null,
           null,
           null,
           null,
           null,
           null,
           null,
           null,
           null,
           null,
           null,
           null,
           null,
           null,
           null,
           null,
           null,
           null,
           null,
           null,
           null,
           null,
           null,
           null,
           null,
           null,
           null,
           null,
           null,
           null,
           null,
           null,
           null,
           null,
           null,
           null,
           null,
           null,
           null,
           null,
           null
          ],
          [
           -0.013834131435510717,
           -0.014626158418313499,
           -0.030037505482992177,
           -0.023740161179270178,
           -0.15266794296164918,
           -0.032882041993519386,
           -0.2540114707567523,
           0.25724802142456177,
           -0.02984691184212774,
           null,
           -0.013731830573152738,
           0.08563520152891185,
           -0.010001932690037872,
           -0.05131375776670078,
           -0.0340010974410661,
           -0.014007080373148857,
           0.174809598419046,
           0.17288595345382915,
           -0.017005100242516905,
           null,
           -0.01000193269003765,
           0.07744414753031315,
           0.07546836321999409,
           0.6811337871785759,
           null,
           0.22951222190699122,
           -0.03580754171376146,
           null,
           null,
           -0.0222265776270677,
           -0.03351117762312734,
           -0.02499583613626458,
           -0.05747048302304094,
           null,
           1,
           -0.08153267289327784,
           -0.016912708348841253,
           -0.016284035404772024,
           -0.010867620842344668,
           -0.027336176396974547,
           null,
           -0.03157513590999714,
           0.292213370483863,
           0.0366487500972611
          ],
          [
           -0.03662486748933209,
           0.05201320348016618,
           -0.0476457791488233,
           -0.07252593150710897,
           -0.41802013542360594,
           -0.10637776754368956,
           -0.3043976007657388,
           0.12148242949212357,
           -0.03627766583886472,
           null,
           0.03647862034836716,
           -0.07009487543666144,
           0.1399824172853169,
           0.06269825721149058,
           -0.059443865028756,
           -0.04531476300024994,
           -0.2545918624185091,
           -0.24861556070554208,
           -0.018558509990307975,
           null,
           0.0006063392571424415,
           -0.11381047587804678,
           0.4254249547247149,
           -0.1456268543947662,
           null,
           -0.07869047240123836,
           -0.030298965184036283,
           null,
           null,
           -0.04891036289531497,
           -0.0497917616905403,
           -0.07031295597275787,
           -0.015196694000501863,
           null,
           -0.08153267289327784,
           1,
           -0.035731147122362215,
           -0.024990173487816413,
           -0.03515819497912386,
           -0.047775456964848806,
           null,
           -0.10214975300670412,
           -0.04967486766314754,
           0.10254366680206137
          ],
          [
           -0.005008184520897922,
           0.15305271014494276,
           0.07524433420689436,
           0.07476085957727721,
           -0.020907240725279753,
           0.5016462732442228,
           -0.026639491784283386,
           -0.016750769697996357,
           -0.01080507602383002,
           null,
           -0.004971149915745933,
           -0.009521669586256781,
           -0.0036208651559237813,
           -0.018576429503672266,
           0.18165059559926244,
           -0.005070794898457468,
           -0.02848923908381562,
           -0.018360978412198165,
           0.07740932802951112,
           null,
           -0.003620865155923747,
           -0.016400524825526896,
           -0.026968431485974595,
           -0.016959902110355925,
           null,
           -0.009006615591124227,
           -0.012962922679912243,
           null,
           null,
           -0.008046388928956108,
           0.036260939816623546,
           -0.009048906337784964,
           -0.01898681920443019,
           null,
           -0.016912708348841253,
           -0.035731147122362215,
           1,
           0.8832863849703441,
           -0.003934258593344746,
           -0.007469232890362959,
           null,
           -0.011430721736804135,
           0.06739105980174273,
           -0.07753752587211066
          ],
          [
           -0.004822022136834294,
           -0.005098090906445719,
           -0.01046986701329696,
           -0.008274865919273167,
           0.010362706167717667,
           0.6557356708273132,
           -0.04878577187338789,
           0.005010038742589871,
           -0.010403433731260174,
           null,
           -0.0047863641683374486,
           -0.009167733603457308,
           -0.0034862716945632485,
           0.043295278612467604,
           -0.011851415847953278,
           -0.004882305184578935,
           -0.027430247617771582,
           -0.027220611827081374,
           -0.005927294401585604,
           null,
           -0.003486271694563281,
           0.009717259406976401,
           -0.041096890828513775,
           -0.0163294748972257,
           null,
           -0.00831867583338846,
           0.06284963935294736,
           null,
           null,
           -0.007747291533509042,
           0.001185232703601035,
           -0.008712543735731644,
           -0.01137456919923172,
           null,
           -0.016284035404772027,
           -0.02499017348781641,
           0.8832863849703441,
           1,
           -0.003788015786953716,
           -0.009528292277479766,
           null,
           -0.011005823173020575,
           -0.014442329983044618,
           -0.10530888355553984
          ],
          [
           -0.0032181155944397922,
           -0.0034023580527724447,
           -0.006987367820198844,
           -0.005522470511550712,
           -0.018788617474119584,
           -0.007649068003268108,
           -0.013053045775562303,
           0.0557301464559669,
           -0.006943031652747629,
           null,
           -0.0031943182203861362,
           -0.0061183515209503915,
           -0.0023266639987044447,
           -0.011936680293093662,
           -0.007909384294433951,
           -0.003258347225594221,
           -0.018306367144977503,
           -0.018166460651803436,
           -0.003955750928821239,
           null,
           -0.002326663998704455,
           -0.010538506414408684,
           -0.029431980701007842,
           -0.010897946198620338,
           null,
           -0.00578739261023167,
           -0.008329601964877972,
           null,
           null,
           -0.005170378524024269,
           -0.007795418440236002,
           -0.005814567429921605,
           -0.013368866596257729,
           null,
           -0.010867620842344668,
           -0.03515819497912386,
           -0.003934258593344746,
           -0.003788015786953716,
           1,
           -0.006358980754631954,
           null,
           -0.007345053626401923,
           0.09343558969376754,
           -0.08518869790872825
          ],
          [
           0.7168371380932882,
           -0.008558217225785031,
           0.007983477567545534,
           0.06604068062248364,
           0.01410306836081867,
           -0.019240298796132687,
           0.07125268172187614,
           -0.128877230469966,
           -0.017464350361742875,
           null,
           -0.008034918369649792,
           -0.015389967948064076,
           -0.00585243986772655,
           -0.030025265218573845,
           0.13707980852741491,
           -0.008195975532600526,
           -0.04604743657535612,
           -0.04569551883439209,
           -0.00995020959430366,
           null,
           -0.0058524398677267195,
           -0.026508329144354616,
           -0.05447993820582623,
           -0.02741245613662324,
           null,
           -0.014557481123688739,
           -0.0209520990777742,
           null,
           null,
           -0.01300545735099106,
           0.027565544367640936,
           0.5046421074382239,
           -0.007211906635974581,
           null,
           -0.027336176396974547,
           -0.047775456964848806,
           -0.007469232890362959,
           -0.009528292277479766,
           -0.006358980754631954,
           0.9999999999999999,
           null,
           -0.018475587664433205,
           0.07220741971078744,
           -0.0037790309346061083
          ],
          [
           null,
           null,
           null,
           null,
           null,
           null,
           null,
           null,
           null,
           null,
           null,
           null,
           null,
           null,
           null,
           null,
           null,
           null,
           null,
           null,
           null,
           null,
           null,
           null,
           null,
           null,
           null,
           null,
           null,
           null,
           null,
           null,
           null,
           null,
           null,
           null,
           null,
           null,
           null,
           null,
           null,
           null,
           null,
           null
          ],
          [
           -0.009350016783120921,
           -0.009885320760563648,
           -0.004650748472900871,
           -0.016045163839516482,
           0.037401590281492564,
           0.403683055188639,
           -0.157549564467699,
           0.11034290156893078,
           -0.020172507970532196,
           null,
           -0.009280875125443932,
           -0.017776455732280323,
           -0.006759964581184381,
           -0.03468121569902879,
           -0.0229801800857885,
           -0.0094669070611322,
           -0.05318790920352548,
           -0.0527814203684121,
           -0.0114931662610968,
           null,
           -0.006759964581184299,
           -0.029874053046639253,
           -0.08551262546018668,
           -0.03166324417764969,
           null,
           -0.016814877044712337,
           -0.024201094051092897,
           null,
           null,
           -0.015022184429372712,
           -0.022649060019345118,
           0.0070022945494027395,
           -0.038842335950357604,
           null,
           -0.03157513590999714,
           -0.1021497530067041,
           -0.011430721736804135,
           -0.011005823173020575,
           -0.007345053626401923,
           -0.018475587664433205,
           null,
           1,
           -0.03270638887697878,
           -0.26032418364567705
          ],
          [
           -0.014329771494721798,
           -0.015150174693442858,
           0.3228801623740238,
           -0.024590707883082482,
           -0.21336015067130942,
           -0.005437845219223867,
           0.05328876755460751,
           0.06903963834163608,
           -0.030916247146744753,
           null,
           -0.006153593579867005,
           0.10916942653807243,
           -0.010360275281607498,
           -0.04892049642117331,
           0.49843564159555076,
           -0.014508916731859634,
           -0.053028514186377315,
           -0.02474188547183854,
           0.12366723756443083,
           null,
           -0.010360275281607429,
           0.06549492827447978,
           -0.01878437077228092,
           -0.0200726351911388,
           null,
           0.10697423144672924,
           -0.0230199164969679,
           null,
           null,
           -0.019144113633181754,
           -0.03099653146580795,
           -0.02187744398710578,
           -0.05952949726193467,
           null,
           0.292213370483863,
           -0.04967486766314754,
           0.06739105980174273,
           -0.01444232998304462,
           0.09343558969376756,
           0.07220741971078744,
           null,
           -0.03270638887697878,
           1,
           -0.051261287153265056
          ],
          [
           -0.009883351680060734,
           -0.03366161768989797,
           0.015063962258155945,
           0.07323807813546594,
           0.07888743490749893,
           -0.27335587723355376,
           0.1438323802179416,
           -0.3477816978827498,
           0.17409129666479767,
           null,
           -0.03589665553420922,
           0.02911700333192427,
           0.06885721596338962,
           0.0007261464724973679,
           0.018321825821302665,
           0.09643021885471402,
           -0.4999976270820026,
           -0.4841282809099146,
           0.02277697992450843,
           null,
           -0.007145560147144227,
           -0.054904172758428633,
           0.4785602739535367,
           -0.17779571872362118,
           null,
           -0.14723277727686127,
           0.015129352527898038,
           null,
           null,
           0.06856869322170325,
           0.05255051671759247,
           -0.04152867664668803,
           0.03156432790199533,
           null,
           0.0366487500972611,
           0.10254366680206138,
           -0.07753752587211066,
           -0.10530888355553984,
           -0.08518869790872825,
           -0.0037790309346061087,
           null,
           -0.26032418364567705,
           -0.051261287153265056,
           1
          ]
         ]
        }
       ],
       "layout": {
        "coloraxis": {
         "colorbar": {
          "title": {
           "text": "Correlation"
          }
         },
         "colorscale": [
          [
           0,
           "rgb(0,0,131)"
          ],
          [
           0.2,
           "rgb(0,60,170)"
          ],
          [
           0.4,
           "rgb(5,255,255)"
          ],
          [
           0.6,
           "rgb(255,255,0)"
          ],
          [
           0.8,
           "rgb(250,0,0)"
          ],
          [
           1,
           "rgb(128,0,0)"
          ]
         ]
        },
        "height": 1000,
        "template": {
         "data": {
          "bar": [
           {
            "error_x": {
             "color": "#2a3f5f"
            },
            "error_y": {
             "color": "#2a3f5f"
            },
            "marker": {
             "line": {
              "color": "#E5ECF6",
              "width": 0.5
             },
             "pattern": {
              "fillmode": "overlay",
              "size": 10,
              "solidity": 0.2
             }
            },
            "type": "bar"
           }
          ],
          "barpolar": [
           {
            "marker": {
             "line": {
              "color": "#E5ECF6",
              "width": 0.5
             },
             "pattern": {
              "fillmode": "overlay",
              "size": 10,
              "solidity": 0.2
             }
            },
            "type": "barpolar"
           }
          ],
          "carpet": [
           {
            "aaxis": {
             "endlinecolor": "#2a3f5f",
             "gridcolor": "white",
             "linecolor": "white",
             "minorgridcolor": "white",
             "startlinecolor": "#2a3f5f"
            },
            "baxis": {
             "endlinecolor": "#2a3f5f",
             "gridcolor": "white",
             "linecolor": "white",
             "minorgridcolor": "white",
             "startlinecolor": "#2a3f5f"
            },
            "type": "carpet"
           }
          ],
          "choropleth": [
           {
            "colorbar": {
             "outlinewidth": 0,
             "ticks": ""
            },
            "type": "choropleth"
           }
          ],
          "contour": [
           {
            "colorbar": {
             "outlinewidth": 0,
             "ticks": ""
            },
            "colorscale": [
             [
              0,
              "#0d0887"
             ],
             [
              0.1111111111111111,
              "#46039f"
             ],
             [
              0.2222222222222222,
              "#7201a8"
             ],
             [
              0.3333333333333333,
              "#9c179e"
             ],
             [
              0.4444444444444444,
              "#bd3786"
             ],
             [
              0.5555555555555556,
              "#d8576b"
             ],
             [
              0.6666666666666666,
              "#ed7953"
             ],
             [
              0.7777777777777778,
              "#fb9f3a"
             ],
             [
              0.8888888888888888,
              "#fdca26"
             ],
             [
              1,
              "#f0f921"
             ]
            ],
            "type": "contour"
           }
          ],
          "contourcarpet": [
           {
            "colorbar": {
             "outlinewidth": 0,
             "ticks": ""
            },
            "type": "contourcarpet"
           }
          ],
          "heatmap": [
           {
            "colorbar": {
             "outlinewidth": 0,
             "ticks": ""
            },
            "colorscale": [
             [
              0,
              "#0d0887"
             ],
             [
              0.1111111111111111,
              "#46039f"
             ],
             [
              0.2222222222222222,
              "#7201a8"
             ],
             [
              0.3333333333333333,
              "#9c179e"
             ],
             [
              0.4444444444444444,
              "#bd3786"
             ],
             [
              0.5555555555555556,
              "#d8576b"
             ],
             [
              0.6666666666666666,
              "#ed7953"
             ],
             [
              0.7777777777777778,
              "#fb9f3a"
             ],
             [
              0.8888888888888888,
              "#fdca26"
             ],
             [
              1,
              "#f0f921"
             ]
            ],
            "type": "heatmap"
           }
          ],
          "heatmapgl": [
           {
            "colorbar": {
             "outlinewidth": 0,
             "ticks": ""
            },
            "colorscale": [
             [
              0,
              "#0d0887"
             ],
             [
              0.1111111111111111,
              "#46039f"
             ],
             [
              0.2222222222222222,
              "#7201a8"
             ],
             [
              0.3333333333333333,
              "#9c179e"
             ],
             [
              0.4444444444444444,
              "#bd3786"
             ],
             [
              0.5555555555555556,
              "#d8576b"
             ],
             [
              0.6666666666666666,
              "#ed7953"
             ],
             [
              0.7777777777777778,
              "#fb9f3a"
             ],
             [
              0.8888888888888888,
              "#fdca26"
             ],
             [
              1,
              "#f0f921"
             ]
            ],
            "type": "heatmapgl"
           }
          ],
          "histogram": [
           {
            "marker": {
             "pattern": {
              "fillmode": "overlay",
              "size": 10,
              "solidity": 0.2
             }
            },
            "type": "histogram"
           }
          ],
          "histogram2d": [
           {
            "colorbar": {
             "outlinewidth": 0,
             "ticks": ""
            },
            "colorscale": [
             [
              0,
              "#0d0887"
             ],
             [
              0.1111111111111111,
              "#46039f"
             ],
             [
              0.2222222222222222,
              "#7201a8"
             ],
             [
              0.3333333333333333,
              "#9c179e"
             ],
             [
              0.4444444444444444,
              "#bd3786"
             ],
             [
              0.5555555555555556,
              "#d8576b"
             ],
             [
              0.6666666666666666,
              "#ed7953"
             ],
             [
              0.7777777777777778,
              "#fb9f3a"
             ],
             [
              0.8888888888888888,
              "#fdca26"
             ],
             [
              1,
              "#f0f921"
             ]
            ],
            "type": "histogram2d"
           }
          ],
          "histogram2dcontour": [
           {
            "colorbar": {
             "outlinewidth": 0,
             "ticks": ""
            },
            "colorscale": [
             [
              0,
              "#0d0887"
             ],
             [
              0.1111111111111111,
              "#46039f"
             ],
             [
              0.2222222222222222,
              "#7201a8"
             ],
             [
              0.3333333333333333,
              "#9c179e"
             ],
             [
              0.4444444444444444,
              "#bd3786"
             ],
             [
              0.5555555555555556,
              "#d8576b"
             ],
             [
              0.6666666666666666,
              "#ed7953"
             ],
             [
              0.7777777777777778,
              "#fb9f3a"
             ],
             [
              0.8888888888888888,
              "#fdca26"
             ],
             [
              1,
              "#f0f921"
             ]
            ],
            "type": "histogram2dcontour"
           }
          ],
          "mesh3d": [
           {
            "colorbar": {
             "outlinewidth": 0,
             "ticks": ""
            },
            "type": "mesh3d"
           }
          ],
          "parcoords": [
           {
            "line": {
             "colorbar": {
              "outlinewidth": 0,
              "ticks": ""
             }
            },
            "type": "parcoords"
           }
          ],
          "pie": [
           {
            "automargin": true,
            "type": "pie"
           }
          ],
          "scatter": [
           {
            "fillpattern": {
             "fillmode": "overlay",
             "size": 10,
             "solidity": 0.2
            },
            "type": "scatter"
           }
          ],
          "scatter3d": [
           {
            "line": {
             "colorbar": {
              "outlinewidth": 0,
              "ticks": ""
             }
            },
            "marker": {
             "colorbar": {
              "outlinewidth": 0,
              "ticks": ""
             }
            },
            "type": "scatter3d"
           }
          ],
          "scattercarpet": [
           {
            "marker": {
             "colorbar": {
              "outlinewidth": 0,
              "ticks": ""
             }
            },
            "type": "scattercarpet"
           }
          ],
          "scattergeo": [
           {
            "marker": {
             "colorbar": {
              "outlinewidth": 0,
              "ticks": ""
             }
            },
            "type": "scattergeo"
           }
          ],
          "scattergl": [
           {
            "marker": {
             "colorbar": {
              "outlinewidth": 0,
              "ticks": ""
             }
            },
            "type": "scattergl"
           }
          ],
          "scattermapbox": [
           {
            "marker": {
             "colorbar": {
              "outlinewidth": 0,
              "ticks": ""
             }
            },
            "type": "scattermapbox"
           }
          ],
          "scatterpolar": [
           {
            "marker": {
             "colorbar": {
              "outlinewidth": 0,
              "ticks": ""
             }
            },
            "type": "scatterpolar"
           }
          ],
          "scatterpolargl": [
           {
            "marker": {
             "colorbar": {
              "outlinewidth": 0,
              "ticks": ""
             }
            },
            "type": "scatterpolargl"
           }
          ],
          "scatterternary": [
           {
            "marker": {
             "colorbar": {
              "outlinewidth": 0,
              "ticks": ""
             }
            },
            "type": "scatterternary"
           }
          ],
          "surface": [
           {
            "colorbar": {
             "outlinewidth": 0,
             "ticks": ""
            },
            "colorscale": [
             [
              0,
              "#0d0887"
             ],
             [
              0.1111111111111111,
              "#46039f"
             ],
             [
              0.2222222222222222,
              "#7201a8"
             ],
             [
              0.3333333333333333,
              "#9c179e"
             ],
             [
              0.4444444444444444,
              "#bd3786"
             ],
             [
              0.5555555555555556,
              "#d8576b"
             ],
             [
              0.6666666666666666,
              "#ed7953"
             ],
             [
              0.7777777777777778,
              "#fb9f3a"
             ],
             [
              0.8888888888888888,
              "#fdca26"
             ],
             [
              1,
              "#f0f921"
             ]
            ],
            "type": "surface"
           }
          ],
          "table": [
           {
            "cells": {
             "fill": {
              "color": "#EBF0F8"
             },
             "line": {
              "color": "white"
             }
            },
            "header": {
             "fill": {
              "color": "#C8D4E3"
             },
             "line": {
              "color": "white"
             }
            },
            "type": "table"
           }
          ]
         },
         "layout": {
          "annotationdefaults": {
           "arrowcolor": "#2a3f5f",
           "arrowhead": 0,
           "arrowwidth": 1
          },
          "autotypenumbers": "strict",
          "coloraxis": {
           "colorbar": {
            "outlinewidth": 0,
            "ticks": ""
           }
          },
          "colorscale": {
           "diverging": [
            [
             0,
             "#8e0152"
            ],
            [
             0.1,
             "#c51b7d"
            ],
            [
             0.2,
             "#de77ae"
            ],
            [
             0.3,
             "#f1b6da"
            ],
            [
             0.4,
             "#fde0ef"
            ],
            [
             0.5,
             "#f7f7f7"
            ],
            [
             0.6,
             "#e6f5d0"
            ],
            [
             0.7,
             "#b8e186"
            ],
            [
             0.8,
             "#7fbc41"
            ],
            [
             0.9,
             "#4d9221"
            ],
            [
             1,
             "#276419"
            ]
           ],
           "sequential": [
            [
             0,
             "#0d0887"
            ],
            [
             0.1111111111111111,
             "#46039f"
            ],
            [
             0.2222222222222222,
             "#7201a8"
            ],
            [
             0.3333333333333333,
             "#9c179e"
            ],
            [
             0.4444444444444444,
             "#bd3786"
            ],
            [
             0.5555555555555556,
             "#d8576b"
            ],
            [
             0.6666666666666666,
             "#ed7953"
            ],
            [
             0.7777777777777778,
             "#fb9f3a"
            ],
            [
             0.8888888888888888,
             "#fdca26"
            ],
            [
             1,
             "#f0f921"
            ]
           ],
           "sequentialminus": [
            [
             0,
             "#0d0887"
            ],
            [
             0.1111111111111111,
             "#46039f"
            ],
            [
             0.2222222222222222,
             "#7201a8"
            ],
            [
             0.3333333333333333,
             "#9c179e"
            ],
            [
             0.4444444444444444,
             "#bd3786"
            ],
            [
             0.5555555555555556,
             "#d8576b"
            ],
            [
             0.6666666666666666,
             "#ed7953"
            ],
            [
             0.7777777777777778,
             "#fb9f3a"
            ],
            [
             0.8888888888888888,
             "#fdca26"
            ],
            [
             1,
             "#f0f921"
            ]
           ]
          },
          "colorway": [
           "#636efa",
           "#EF553B",
           "#00cc96",
           "#ab63fa",
           "#FFA15A",
           "#19d3f3",
           "#FF6692",
           "#B6E880",
           "#FF97FF",
           "#FECB52"
          ],
          "font": {
           "color": "#2a3f5f"
          },
          "geo": {
           "bgcolor": "white",
           "lakecolor": "white",
           "landcolor": "#E5ECF6",
           "showlakes": true,
           "showland": true,
           "subunitcolor": "white"
          },
          "hoverlabel": {
           "align": "left"
          },
          "hovermode": "closest",
          "mapbox": {
           "style": "light"
          },
          "paper_bgcolor": "white",
          "plot_bgcolor": "#E5ECF6",
          "polar": {
           "angularaxis": {
            "gridcolor": "white",
            "linecolor": "white",
            "ticks": ""
           },
           "bgcolor": "#E5ECF6",
           "radialaxis": {
            "gridcolor": "white",
            "linecolor": "white",
            "ticks": ""
           }
          },
          "scene": {
           "xaxis": {
            "backgroundcolor": "#E5ECF6",
            "gridcolor": "white",
            "gridwidth": 2,
            "linecolor": "white",
            "showbackground": true,
            "ticks": "",
            "zerolinecolor": "white"
           },
           "yaxis": {
            "backgroundcolor": "#E5ECF6",
            "gridcolor": "white",
            "gridwidth": 2,
            "linecolor": "white",
            "showbackground": true,
            "ticks": "",
            "zerolinecolor": "white"
           },
           "zaxis": {
            "backgroundcolor": "#E5ECF6",
            "gridcolor": "white",
            "gridwidth": 2,
            "linecolor": "white",
            "showbackground": true,
            "ticks": "",
            "zerolinecolor": "white"
           }
          },
          "shapedefaults": {
           "line": {
            "color": "#2a3f5f"
           }
          },
          "ternary": {
           "aaxis": {
            "gridcolor": "white",
            "linecolor": "white",
            "ticks": ""
           },
           "baxis": {
            "gridcolor": "white",
            "linecolor": "white",
            "ticks": ""
           },
           "bgcolor": "#E5ECF6",
           "caxis": {
            "gridcolor": "white",
            "linecolor": "white",
            "ticks": ""
           }
          },
          "title": {
           "x": 0.05
          },
          "xaxis": {
           "automargin": true,
           "gridcolor": "white",
           "linecolor": "white",
           "ticks": "",
           "title": {
            "standoff": 15
           },
           "zerolinecolor": "white",
           "zerolinewidth": 2
          },
          "yaxis": {
           "automargin": true,
           "gridcolor": "white",
           "linecolor": "white",
           "ticks": "",
           "title": {
            "standoff": 15
           },
           "zerolinecolor": "white",
           "zerolinewidth": 2
          }
         }
        },
        "title": {
         "text": "Correlation between attention mechanism for each feature and predictions"
        },
        "width": 1000,
        "xaxis": {
         "anchor": "y",
         "autorange": true,
         "constrain": "domain",
         "domain": [
          1.1102230246251565e-16,
          0.9999999999999999
         ],
         "range": [
          -0.5,
          43.5
         ],
         "scaleanchor": "y",
         "title": {
          "text": "Features"
         },
         "type": "category"
        },
        "yaxis": {
         "anchor": "x",
         "autorange": true,
         "constrain": "domain",
         "domain": [
          0.024928774928774988,
          0.975071225071225
         ],
         "range": [
          43.5,
          -0.5
         ],
         "title": {
          "text": "Features"
         },
         "type": "category"
        }
       }
      },
      "image/png": "[encoded data removed]",
      "text/html": [
       "<div>                            <div id=\"5e153a21-837d-4844-b76a-557ff1b37e83\" class=\"plotly-graph-div\" style=\"height:1000px; width:1000px;\"></div>            <script type=\"text/javascript\">                require([\"plotly\"], function(Plotly) {                    window.PLOTLYENV=window.PLOTLYENV || {};                                    if (document.getElementById(\"5e153a21-837d-4844-b76a-557ff1b37e83\")) {                    Plotly.newPlot(                        \"5e153a21-837d-4844-b76a-557ff1b37e83\",                        [{\"coloraxis\":\"coloraxis\",\"name\":\"0\",\"x\":[\"car_rating\",\"year_to_start\",\"riders\",\"year_to_work\",\"mean_rating\",\"distance_sum\",\"rating_min\",\"speed_max\",\"user_ride_quality_median\",\"deviation_normal_count\",\"user_uniq\",\"car_type_business\",\"car_type_economy\",\"car_type_premium\",\"car_type_standart\",\"fuel_type_electro\",\"fuel_type_petrol\",\"model_Audi A3\",\"model_Audi A4\",\"model_Audi Q3\",\"model_BMW 320i\",\"model_Fiat 500\",\"model_Hyundai Solaris\",\"model_Kia Rio\",\"model_Kia Rio X\",\"model_Kia Rio X-line\",\"model_Kia Sportage\",\"model_MINI CooperSE\",\"model_Mercedes-Benz E200\",\"model_Mercedes-Benz GLC\",\"model_Mini Cooper\",\"model_Nissan Qashqai\",\"model_Renault Kaptur\",\"model_Renault Sandero\",\"model_Skoda Rapid\",\"model_Smart Coupe\",\"model_Smart ForFour\",\"model_Smart ForTwo\",\"model_Tesla Model 3\",\"model_VW Polo\",\"model_VW Polo VI\",\"model_VW Tiguan\",\"model_Volkswagen ID.4 \",\"prediction\"],\"y\":[\"car_rating\",\"year_to_start\",\"riders\",\"year_to_work\",\"mean_rating\",\"distance_sum\",\"rating_min\",\"speed_max\",\"user_ride_quality_median\",\"deviation_normal_count\",\"user_uniq\",\"car_type_business\",\"car_type_economy\",\"car_type_premium\",\"car_type_standart\",\"fuel_type_electro\",\"fuel_type_petrol\",\"model_Audi A3\",\"model_Audi A4\",\"model_Audi Q3\",\"model_BMW 320i\",\"model_Fiat 500\",\"model_Hyundai Solaris\",\"model_Kia Rio\",\"model_Kia Rio X\",\"model_Kia Rio X-line\",\"model_Kia Sportage\",\"model_MINI CooperSE\",\"model_Mercedes-Benz E200\",\"model_Mercedes-Benz GLC\",\"model_Mini Cooper\",\"model_Nissan Qashqai\",\"model_Renault Kaptur\",\"model_Renault Sandero\",\"model_Skoda Rapid\",\"model_Smart Coupe\",\"model_Smart ForFour\",\"model_Smart ForTwo\",\"model_Tesla Model 3\",\"model_VW Polo\",\"model_VW Polo VI\",\"model_VW Tiguan\",\"model_Volkswagen ID.4 \",\"prediction\"],\"z\":[[1.0,-0.0043310922579597975,-0.008894694267971171,-0.007029927158283301,0.01017226053373129,-0.009737017296744237,0.05216062698925299,-0.09502099998974406,-0.008838255754264774,null,-0.004066264249437469,-0.007788464498106552,-0.0029617683604615057,-0.01519500969659342,-0.009175893527067065,-0.004147771111572673,-0.02330341597891932,-0.023125319517575082,-0.005035543571986584,null,-0.002961768360461423,-0.013415179365003253,-0.03746362444083467,-0.013872734637686327,null,-0.007367164460402173,-0.010603315119222334,null,null,-0.006581725394208868,-0.009923316691067205,0.4383361521390095,-0.016606578860282415,null,-0.013834131435510717,-0.03662486748933209,-0.005008184520897923,-0.004822022136834294,-0.0032181155944397922,0.7168371380932882,null,-0.00935001678312092,-0.014329771494721796,-0.009883351680060734],[-0.0043310922579597975,0.9999999999999998,-0.009403930275801392,-0.0074324021544516635,-0.056036669327155245,-0.010294477695829876,-0.06393459116292623,0.015695550946183377,0.010856169474205014,null,-0.00429906462579472,-0.0049902416868353484,-0.003131334514233593,-0.01606494921825806,-0.010644823679434957,-0.004385237891049939,-0.024637575216369667,-0.02444928243705738,-0.005209073658010695,null,-0.003131334514233555,-0.0141832206465073,0.10838402493477424,-0.014666971717877054,null,-0.007788946851771451,-0.011210372506289694,null,null,-0.006958540095580868,-0.010491443039646544,-0.007825520010104801,-0.017992453320443653,null,-0.014626158418313499,0.052013203480166185,0.15305271014494276,-0.005098090906445719,-0.0034023580527724443,-0.008558217225785033,null,-0.009885320760563648,-0.015150174693442856,-0.03366161768989797],[-0.008894694267971171,-0.009403930275801392,0.9999999999999999,-0.015263804348420642,-0.177565826048871,-0.01952300713588799,0.06358396549510291,-0.0660171930475572,-0.019190157106456513,null,-0.008828919636707656,-0.016910786640746522,-0.006430771153319654,-0.0329923269272953,0.3141048573583727,-0.009005892280758203,-0.05030848213956276,-0.02263371213639804,0.21817721432138015,null,-0.006430771153319646,-0.0210795041840504,-0.0502902329023255,-0.030121323097594247,null,-0.015996034438808843,-0.023022561084969164,null,null,-0.014290641486073126,-0.021546107242575503,0.4115894476040468,-0.03695081099276226,null,-0.030037505482992173,-0.0476457791488233,0.07524433420689437,-0.01046986701329696,-0.006987367820198844,0.007983477567545534,null,-0.004650748472900871,0.3228801623740238,0.015063962258155945],[-0.007029927158283301,-0.0074324021544516635,-0.01526380434842064,1.0,0.12040564566135072,-0.01670927886637648,0.07483591247135736,-0.1630614734063857,-0.015166952629297147,null,-0.006977942137470179,-0.01336545076111228,-0.005082563988985442,-0.026075506149359093,0.5606829446967705,-0.007117812576993265,-0.0399899953203465,-0.03968437160139621,-0.00864128092041558,null,-0.005082563988985472,-0.02302121545242084,-0.06423298578191448,-0.023806406483209887,null,-0.012642475788194203,-0.01819589550224907,null,null,-0.011294617405118347,0.16869092533317992,-0.012701838790346786,-0.01965610343352019,null,-0.023740161179270178,-0.07252593150710898,0.07476085957727721,-0.008274865919273169,-0.005522470511550713,0.06604068062248364,null,-0.016045163839516482,-0.024590707883082482,0.07323807813546593],[0.01017226053373129,-0.056036669327155245,-0.177565826048871,0.12040564566135072,1.0,0.04935207646498383,0.6521054443334062,-0.808827558952172,-0.16264937871947666,null,-0.02557165485394763,-0.1252994054968883,-0.06313263618347274,-0.0004868922901012055,-0.046939669940595195,-0.07080114818649196,-0.16956591622149028,-0.18294122874654795,-0.12848330749097187,null,0.07228521737774762,-0.09036840108174911,-0.6652521997882187,-0.09155591182890026,null,-0.08921850674849605,-0.02578183732016742,null,null,0.08194986628795842,0.11726949694258476,-0.032251662943835926,0.18840475869218765,null,-0.15266794296164918,-0.41802013542360594,-0.020907240725279753,0.010362706167717667,-0.01878861747411958,0.01410306836081867,null,0.037401590281492564,-0.21336015067130945,0.07888743490749893],[-0.009737017296744237,-0.010294477695829878,-0.019523007135887994,-0.016709278866376475,0.04935207646498383,1.0,-0.11723590355588705,0.05923622802514359,-0.021007455236055697,null,-0.009665013841312794,-0.018512229545137412,-0.007039761914780196,-0.03611668352758267,-0.013351287364510174,-0.009858745704854916,-0.05538937564554026,-0.054966062093250154,-0.011968872492366072,null,-0.007039761914780193,-0.031886244054204246,-0.08905202338235049,-0.03297379709364608,null,-0.01751085077436007,-0.02520278592451598,null,null,-0.015643957975320547,-0.0235865126532694,-0.017593073330259976,-0.04045003402318404,null,-0.03288204199351939,-0.10637776754368955,0.5016462732442228,0.6557356708273133,-0.007649068003268108,-0.019240298796132687,null,0.40368305518863895,-0.005437845219223867,-0.27335587723355376],[0.05216062698925299,-0.06393459116292623,0.0635839654951029,0.07483591247135737,0.6521054443334062,-0.11723590355588706,0.9999999999999998,-0.8101885991844114,-0.16034011030850706,null,0.017599944233176044,-0.14290103103792096,-0.05438166760151639,0.2536013721686449,0.1528242554683354,-0.07615811988807,-0.4278790464045648,-0.41451172907709566,-0.007148863427645432,null,0.029816895236055886,0.22913825939058333,-0.6217152670650131,-0.2547202724770692,null,-0.12783364677824255,0.18078963863055608,null,null,0.11487811746106716,0.16476507679687555,0.04381863036098575,0.25831886672532206,null,-0.2540114707567523,-0.3043976007657388,-0.026639491784283383,-0.04878577187338789,-0.013053045775562301,0.07125268172187614,null,-0.157549564467699,0.05328876755460751,0.1438323802179416],[-0.09502099998974406,0.015695550946183377,-0.0660171930475572,-0.16306147340638566,-0.808827558952172,0.05923622802514359,-0.8101885991844114,1.0,0.11250796315121502,null,0.03445814173777488,0.12123055775375143,0.03026591990062356,-0.12629291017836333,-0.15296407657648414,0.05486986068862436,0.46168075078180315,0.4511672960186917,0.042401845207920785,null,-0.06869919159492387,0.009751507218948947,0.4439499734749852,0.2563614199700174,null,0.137807424151909,-0.029905735113202735,null,null,-0.11177878078746865,-0.16676694481186904,-0.1442007877077925,-0.26583562874992434,null,0.25724802142456177,0.12148242949212358,-0.016750769697996357,0.005010038742589871,0.0557301464559669,-0.128877230469966,null,0.11034290156893078,0.06903963834163608,-0.3477816978827498],[-0.008838255754264772,0.010856169474205014,-0.019190157106456513,-0.015166952629297147,-0.16264937871947663,-0.021007455236055697,-0.16034011030850703,0.112507963151215,1.0,null,-0.008772898475449374,0.027995219940602237,-0.006389966696758768,-0.032782984386742986,-0.021722389765536452,-0.008948748194675706,-0.05027673805078058,-0.049892497854284186,0.08816419263376533,null,-0.006389966696758815,-0.02894302961628639,0.33051915506374574,-0.029930197618147227,null,-0.0158945365815779,-0.022876478590146222,null,null,-0.014199964668963193,-0.02140939312601412,-0.015969169701317405,-0.03671635112378302,null,-0.029846911842127743,-0.03627766583886472,-0.010805076023830022,-0.010403433731260174,-0.006943031652747629,-0.017464350361742875,null,-0.020172507970532196,-0.030916247146744756,0.1740912966647977],[null,null,null,null,null,null,null,null,null,null,null,null,null,null,null,null,null,null,null,null,null,null,null,null,null,null,null,null,null,null,null,null,null,null,null,null,null,null,null,null,null,null,null,null],[-0.004066264249437469,-0.00429906462579472,-0.008828919636707656,-0.00697794213747018,-0.02557165485394763,-0.009665013841312792,0.01759994423317604,0.03445814173777488,-0.008772898475449374,null,1.0,-0.0077308702329143605,-0.0029398666271439906,-0.01508264538931872,-0.009993937646953308,-0.004117099105631757,-0.023131091495691713,-0.022954312024985008,-0.004998306651674183,null,-0.0029398666271439784,0.0023326198314731583,-0.03708822956406297,-0.013770148311735064,null,-0.00731268563164854,-0.010524905550424655,null,null,-0.006533054743162292,-0.009849935585814647,-0.007347022495737816,-0.016892290752322986,null,-0.013731830573152738,0.03647862034836716,-0.004971149915745933,-0.0047863641683374486,-0.0031943182203861362,-0.008034918369649794,null,-0.00928087512544393,-0.006153593579867005,-0.035896655534209225],[-0.007788464498106552,-0.004990241686835349,-0.016910786640746522,-0.01336545076111228,-0.1252994054968883,-0.018512229545137412,-0.14290103103792096,0.12123055775375141,0.027995219940602237,null,-0.007730870232914361,1.0,-0.005630978571509788,-0.028889083676371684,-0.019142245507126877,0.806643519787967,0.10894384382479635,0.15746844565510648,0.024614436435093406,null,-0.005630978571509757,0.09762532988321582,0.12103634141359235,0.09820998995479477,null,0.5044144843142802,-0.020159253849954883,null,null,-0.012513319796750636,-0.01886642601482807,-0.014072382010775568,-0.03235525257227456,null,0.08563520152891187,-0.07009487543666144,-0.009521669586256781,-0.009167733603457306,-0.006118351520950392,-0.015389967948064076,null,-0.017776455732280323,0.10916942653807243,0.02911700333192427],[-0.0029617683604615057,-0.003131334514233593,-0.006430771153319654,-0.005082563988985441,-0.06313263618347274,-0.007039761914780197,-0.05438166760151639,0.03026591990062356,-0.006389966696758768,null,-0.0029398666271439906,-0.0056309785715097874,1.0,-0.0109858334741337,-0.007279342045531182,-0.0029987952380692204,-0.016848126617534792,-0.016719364734145224,-0.003640645464411382,null,-0.002141327623126315,-0.00969903471417996,0.04808996483639357,-0.010029842402445885,null,-0.005326383039866066,-0.007666086201949356,null,null,-0.004758518789854129,-0.007174454433128582,-0.005351393179743536,-0.012303935311844663,null,-0.010001932690037872,0.1399824172853169,-0.0036208651559237813,-0.0034862716945632485,-0.0023266639987044447,-0.00585243986772655,null,-0.006759964581184381,-0.0103602752816075,0.06885721596338962],[-0.015195009696593422,-0.01606494921825806,-0.032992326927295305,-0.026075506149359093,-0.00048689229010120543,-0.03611668352758266,0.2536013721686449,-0.12629291017836333,-0.03278298438674298,null,-0.01508264538931872,-0.028889083676371684,-0.0109858334741337,1.0,-0.03734582165278869,-0.015384971805647954,-0.08643736314442475,-0.0857767652081456,-0.018677910086449163,null,-0.010985833474133634,0.02915412910928233,-0.10438486378545853,-0.05145694531517124,null,-0.015306580122498742,0.30624548705580534,null,null,0.051615424564532594,0.07015335356317601,-0.02745470319083867,0.35310545745395683,null,-0.05131375776670079,0.0626982572114906,-0.018576429503672266,0.04329527861246761,-0.011936680293093662,-0.030025265218573845,null,-0.034681215699028795,-0.04892049642117332,0.0007261464724973679],[-0.009175893527067065,-0.010644823679434957,0.3141048573583726,0.5606829446967705,-0.046939669940595195,-0.013351287364510174,0.1528242554683354,-0.15296407657648414,-0.021722389765536455,null,-0.009993937646953308,-0.019142245507126877,-0.007279342045531182,-0.03734582165278869,1.0,-0.010194262674548272,-0.05727441011403754,-0.03492764750853484,0.17236052249058215,null,-0.007279342045531146,-0.03297141008853091,-0.08944780892224383,-0.034095975189252635,null,-0.018106787393931515,-0.02606049770797944,null,null,-0.01617635971597037,0.05038465207824249,-0.007932027215413083,-0.03649615282634945,null,-0.0340010974410661,-0.059443865028755996,0.18165059559926244,-0.011851415847953278,-0.007909384294433951,0.13707980852741491,null,-0.022980180085788497,0.49843564159555076,0.018321825821302665],[-0.004147771111572673,-0.004385237891049938,-0.009005892280758201,-0.007117812576993265,-0.07080114818649194,-0.009858745704854914,-0.07615811988806999,0.05486986068862436,-0.008948748194675706,null,-0.004117099105631757,0.806643519787967,-0.0029987952380692204,-0.015384971805647955,-0.010194262674548272,1.0,-0.0023710667058021687,8.092027722907064e-05,-0.005098495981775798,null,-0.0029987952380691957,-0.01358289072658892,0.12300605964903444,-0.014046166177563641,null,0.024587112562730253,-0.010735873646214884,null,null,-0.0066640075685586424,-0.010047374141841548,-0.007494291023538627,-0.017230890884787776,null,-0.014007080373148857,-0.04531476300024994,-0.005070794898457468,-0.004882305184578935,-0.00325834722559422,-0.008195975532600526,null,-0.009466907061132202,-0.014508916731859634,0.09643021885471402],[-0.02330341597891932,-0.024637575216369667,-0.050308482139562766,-0.03998999532034649,-0.16956591622149028,-0.05538937564554026,-0.42787904640456487,0.4616807507818032,-0.05027673805078059,null,-0.023131091495691713,0.10894384382479635,-0.016848126617534792,-0.08643736314442477,-0.05727441011403754,-0.0023710667058021682,1.0,0.9799332480907459,0.08728021217799413,null,-0.016848126617534855,-0.026504998959958916,-0.20674950153332708,0.40100065152001946,null,0.26043048828396237,-0.06031734219297534,null,null,-0.03744038334793958,-0.05644914649940683,-0.04210516359047267,-0.09680828743303897,null,0.174809598419046,-0.2545918624185091,-0.02848923908381562,-0.027430247617771585,-0.018306367144977503,-0.04604743657535612,null,-0.05318790920352549,-0.053028514186377315,-0.4999976270820026],[-0.023125319517575085,-0.02444928243705738,-0.02263371213639804,-0.03968437160139621,-0.18294122874654797,-0.05496606209325015,-0.4145117290770957,0.4511672960186917,-0.049892497854284186,null,-0.022954312024985008,0.15746844565510645,-0.016719364734145224,-0.0857767652081456,-0.034927647508534845,8.092027722907064e-05,0.9799332480907459,1.0,0.16376489450010726,null,-0.01671936473414515,-0.011001408122509092,-0.20361328595827666,0.3805328200921203,null,0.3620684292310029,-0.05985636663419999,null,null,-0.037154245049946195,-0.05601773364360352,-0.041783374688512565,-0.09606842966127656,null,0.17288595345382912,-0.24861556070554205,-0.018360978412198168,-0.027220611827081378,-0.018166460651803436,-0.04569551883439209,null,-0.0527814203684121,-0.02474188547183854,-0.48412828090991455],[-0.005035543571986584,-0.005209073658010695,0.21817721432138018,-0.00864128092041558,-0.12848330749097187,-0.01196887249236607,-0.007148863427645432,0.042401845207920785,0.08816419263376533,null,-0.004998306651674183,0.024614436435093402,-0.003640645464411382,-0.018677910086449166,0.17236052249058215,-0.005098495981775797,0.08728021217799413,0.16376489450010726,1.0,null,-0.0036406454644113758,-0.016490118728209487,-0.005785068144817232,-0.01705255181732235,null,-0.009055817543461433,-0.013033737415746755,null,null,-0.008090345289762674,-0.01219787421107515,-0.009098339318889816,-0.020918922356252655,null,-0.017005100242516905,-0.018558509990307975,0.0774093280295111,-0.005927294401585604,-0.003955750928821238,-0.00995020959430366,null,-0.011493166261096798,0.12366723756443082,0.022776979924508427],[null,null,null,null,null,null,null,null,null,null,null,null,null,null,null,null,null,null,null,null,null,null,null,null,null,null,null,null,null,null,null,null,null,null,null,null,null,null,null,null,null,null,null,null],[-0.0029617683604614233,-0.003131334514233555,-0.006430771153319645,-0.005082563988985471,0.07228521737774762,-0.007039761914780194,0.029816895236055883,-0.06869919159492387,-0.006389966696758815,null,-0.0029398666271439784,-0.005630978571509757,-0.002141327623126315,-0.010985833474133634,-0.007279342045531146,-0.0029987952380691957,-0.016848126617534855,-0.01671936473414515,-0.0036406454644113753,null,1.0,-0.009699034714179988,-0.02708750095135472,-0.0100298424024458,null,-0.005326383039866071,-0.007666086201949419,null,null,-0.004758518789854177,-0.007174454433128652,-0.002886194749383934,0.08948139718692076,null,-0.01000193269003765,0.0006063392571424415,-0.003620865155923747,-0.0034862716945632814,-0.0023266639987044547,-0.005852439867726719,null,-0.006759964581184299,-0.010360275281607429,-0.007145560147144227],[-0.013415179365003253,-0.0141832206465073,-0.0210795041840504,-0.023021215452420845,-0.09036840108174911,-0.031886244054204246,0.2291382593905833,0.009751507218948947,-0.02894302961628639,null,0.002332619831473158,0.0976253298832158,-0.00969903471417996,0.02915412910928233,-0.03297141008853091,-0.013582890726588918,-0.02650499895995892,-0.01100140812250909,-0.016490118728209487,null,-0.009699034714179986,1.0,-0.1119352152339982,0.056306610424950415,null,0.1795146248233325,0.36202771580301385,null,null,0.12506414619199085,0.019779055851114308,-0.011950221429394796,-0.03506281203492236,null,0.07744414753031315,-0.11381047587804678,-0.016400524825526896,0.009717259406976403,-0.010538506414408686,-0.026508329144354616,null,-0.029874053046639253,0.06549492827447978,-0.054904172758428633],[-0.03746362444083467,0.10838402493477423,-0.0502902329023255,-0.0642329857819145,-0.6652521997882187,-0.08905202338235049,-0.6217152670650131,0.44394997347498527,0.3305191550637458,null,-0.03708822956406297,0.12103634141359235,0.048089964836393564,-0.10438486378545853,-0.08944780892224383,0.12300605964903444,-0.20674950153332708,-0.20361328595827666,-0.005785068144817232,null,-0.027087500951354718,-0.1119352152339982,1.0,-0.055920034418046084,null,-0.04748943633811295,-0.08776240430930762,null,null,-0.059559937787715664,-0.08651820919982621,-0.06755637474424596,-0.13806269131960616,null,0.07546836321999409,0.42542495472471487,-0.02696843148597459,-0.04109689082851377,-0.029431980701007845,-0.05447993820582623,null,-0.08551262546018668,-0.01878437077228092,0.4785602739535367],[-0.013872734637686327,-0.014666971717877054,-0.030121323097594244,-0.023806406483209884,-0.09155591182890026,-0.03297379709364609,-0.25472027247706913,0.2563614199700174,-0.029930197618147227,null,-0.013770148311735064,0.09820998995479475,-0.010029842402445885,-0.05145694531517124,-0.034095975189252635,-0.014046166177563641,0.40100065152001946,0.3805328200921203,-0.017052551817322355,null,-0.010029842402445801,0.05630661042495041,-0.05592003441804609,0.9999999999999999,null,0.28160248063374516,-0.03590746022173828,null,null,-0.02228859937912419,-0.033604688283407076,-0.02506558531570643,-0.057630850494292764,null,0.6811337871785758,-0.1456268543947662,-0.016959902110355925,-0.016329474897225697,-0.010897946198620336,-0.027412456136623242,null,-0.03166324417764968,-0.0200726351911388,-0.17779571872362115],[null,null,null,null,null,null,null,null,null,null,null,null,null,null,null,null,null,null,null,null,null,null,null,null,null,null,null,null,null,null,null,null,null,null,null,null,null,null,null,null,null,null,null,null],[-0.007367164460402174,-0.007788946851771451,-0.015996034438808843,-0.012642475788194203,-0.08921850674849605,-0.01751085077436007,-0.12783364677824255,0.137807424151909,-0.015894536581577898,null,-0.007312685631648539,0.5044144843142802,-0.005326383039866066,-0.01530658012249874,-0.01810678739393152,0.024587112562730253,0.26043048828396237,0.36206842923100296,-0.009055817543461431,null,-0.005326383039866072,0.1795146248233325,-0.04748943633811296,0.28160248063374516,null,1.0,-0.017632148735903148,null,null,-0.0074438346905648005,-0.01681760130438805,-0.013311167130336466,-0.026354196032123,null,0.22951222190699122,-0.07869047240123837,-0.009006615591124228,-0.00831867583338846,-0.0057873926102316705,-0.014557481123688737,null,-0.016814877044712333,0.10697423144672925,-0.14723277727686127],[-0.010603315119222334,-0.011210372506289694,-0.023022561084969164,-0.01819589550224907,-0.025781837320167422,-0.025202785924515976,0.18078963863055608,-0.029905735113202735,-0.022876478590146222,null,-0.010524905550424653,-0.020159253849954883,-0.007666086201949355,0.3062454870558054,-0.02606049770797944,-0.010735873646214882,-0.06031734219297534,-0.059856366634199985,-0.013033737415746757,null,-0.007666086201949419,0.3620277158030139,-0.08776240430930762,-0.03590746022173828,null,-0.017632148735903148,1.0,null,null,-0.017035793515500667,0.10260400312335206,-0.019158320741476685,0.0464756987548131,null,-0.03580754171376146,-0.03029896518403628,-0.012962922679912243,0.06284963935294736,-0.008329601964877972,-0.020952099077774202,null,-0.024201094051092897,-0.0230199164969679,0.015129352527898036],[null,null,null,null,null,null,null,null,null,null,null,null,null,null,null,null,null,null,null,null,null,null,null,null,null,null,null,null,null,null,null,null,null,null,null,null,null,null,null,null,null,null,null,null],[null,null,null,null,null,null,null,null,null,null,null,null,null,null,null,null,null,null,null,null,null,null,null,null,null,null,null,null,null,null,null,null,null,null,null,null,null,null,null,null,null,null,null,null],[-0.006581725394208868,-0.006958540095580869,-0.014290641486073124,-0.011294617405118347,0.0819498662879584,-0.015643957975320547,0.11487811746106717,-0.11177878078746865,-0.014199964668963193,null,-0.006533054743162292,-0.012513319796750636,-0.004758518789854129,0.05161542456453259,-0.01617635971597037,-0.0066640075685586424,-0.03744038334793958,-0.03715424504994619,-0.008090345289762674,null,-0.004758518789854177,0.12506414619199085,-0.059559937787715664,-0.022288599379124193,null,-0.007443834690564801,-0.017035793515500663,null,null,1.0,-0.011036487232959117,-0.011892017233929263,0.006180882666090825,null,-0.0222265776270677,-0.048910362895314974,-0.008046388928956108,-0.007747291533509042,-0.005170378524024269,-0.013005457350991062,null,-0.015022184429372712,-0.019144113633181754,0.06856869322170324],[-0.009923316691067205,-0.010491443039646544,-0.021546107242575503,0.16869092533317992,0.11726949694258476,-0.0235865126532694,0.16476507679687555,-0.16676694481186904,-0.02140939312601412,null,-0.009849935585814647,-0.01886642601482807,-0.007174454433128583,0.07015335356317601,0.05038465207824249,-0.010047374141841548,-0.05644914649940683,-0.056017733643603525,-0.012197874211075148,null,-0.007174454433128653,0.019779055851114308,-0.08651820919982622,-0.033604688283407076,null,-0.016817601304388047,0.10260400312335208,null,null,-0.011036487232959117,1.0,-0.017929683485692294,0.010177814745383002,null,-0.03351117762312734,-0.04979176169054031,0.03626093981662354,0.001185232703601035,-0.007795418440236002,0.027565544367640936,null,-0.022649060019345114,-0.03099653146580795,0.05255051671759246],[0.4383361521390095,-0.007825520010104801,0.41158944760404675,-0.012701838790346786,-0.032251662943835926,-0.017593073330259976,0.04381863036098575,-0.1442007877077925,-0.015969169701317405,null,-0.007347022495737816,-0.014072382010775568,-0.005351393179743537,-0.02745470319083867,-0.007932027215413083,-0.007494291023538627,-0.04210516359047268,-0.04178337468851257,-0.009098339318889816,null,-0.0028861947493839346,-0.011950221429394798,-0.06755637474424596,-0.025065585315706428,null,-0.013311167130336466,-0.019158320741476685,null,null,-0.011892017233929261,-0.01792968348569229,1.0,-0.017996757979424224,null,-0.02499583613626458,-0.07031295597275787,-0.009048906337784964,-0.008712543735731644,-0.005814567429921604,0.5046421074382238,null,0.0070022945494027395,-0.021877443987105775,-0.04152867664668803],[-0.01660657886028241,-0.017992453320443656,-0.03695081099276226,-0.01965610343352019,0.18840475869218765,-0.040450034023184034,0.25831886672532206,-0.2658356287499244,-0.03671635112378302,null,-0.016892290752322986,-0.03235525257227456,-0.012303935311844661,0.3531054574539568,-0.036496152826349444,-0.017230890884787776,-0.09680828743303896,-0.09606842966127654,-0.020918922356252655,null,0.08948139718692076,-0.03506281203492236,-0.13806269131960616,-0.057630850494292764,null,-0.026354196032123002,0.0464756987548131,null,null,0.006180882666090825,0.010177814745383002,-0.017996757979424224,1.0,null,-0.05747048302304094,-0.015196694000501864,-0.018986819204430194,-0.01137456919923172,-0.013368866596257729,-0.007211906635974582,null,-0.03884233595035761,-0.059529497261934676,0.03156432790199533],[null,null,null,null,null,null,null,null,null,null,null,null,null,null,null,null,null,null,null,null,null,null,null,null,null,null,null,null,null,null,null,null,null,null,null,null,null,null,null,null,null,null,null,null],[-0.013834131435510717,-0.014626158418313499,-0.030037505482992177,-0.023740161179270178,-0.15266794296164918,-0.032882041993519386,-0.2540114707567523,0.25724802142456177,-0.02984691184212774,null,-0.013731830573152738,0.08563520152891185,-0.010001932690037872,-0.05131375776670078,-0.0340010974410661,-0.014007080373148857,0.174809598419046,0.17288595345382915,-0.017005100242516905,null,-0.01000193269003765,0.07744414753031315,0.07546836321999409,0.6811337871785759,null,0.22951222190699122,-0.03580754171376146,null,null,-0.0222265776270677,-0.03351117762312734,-0.02499583613626458,-0.05747048302304094,null,1.0,-0.08153267289327784,-0.016912708348841253,-0.016284035404772024,-0.010867620842344668,-0.027336176396974547,null,-0.03157513590999714,0.292213370483863,0.0366487500972611],[-0.03662486748933209,0.05201320348016618,-0.0476457791488233,-0.07252593150710897,-0.41802013542360594,-0.10637776754368956,-0.3043976007657388,0.12148242949212357,-0.03627766583886472,null,0.03647862034836716,-0.07009487543666144,0.1399824172853169,0.06269825721149058,-0.059443865028756,-0.04531476300024994,-0.2545918624185091,-0.24861556070554208,-0.018558509990307975,null,0.0006063392571424415,-0.11381047587804678,0.4254249547247149,-0.1456268543947662,null,-0.07869047240123836,-0.030298965184036283,null,null,-0.04891036289531497,-0.0497917616905403,-0.07031295597275787,-0.015196694000501863,null,-0.08153267289327784,1.0,-0.035731147122362215,-0.024990173487816413,-0.03515819497912386,-0.047775456964848806,null,-0.10214975300670412,-0.04967486766314754,0.10254366680206137],[-0.005008184520897922,0.15305271014494276,0.07524433420689436,0.07476085957727721,-0.020907240725279753,0.5016462732442228,-0.026639491784283386,-0.016750769697996357,-0.01080507602383002,null,-0.004971149915745933,-0.009521669586256781,-0.0036208651559237813,-0.018576429503672266,0.18165059559926244,-0.005070794898457468,-0.02848923908381562,-0.018360978412198165,0.07740932802951112,null,-0.003620865155923747,-0.016400524825526896,-0.026968431485974595,-0.016959902110355925,null,-0.009006615591124227,-0.012962922679912243,null,null,-0.008046388928956108,0.036260939816623546,-0.009048906337784964,-0.01898681920443019,null,-0.016912708348841253,-0.035731147122362215,1.0,0.8832863849703441,-0.003934258593344746,-0.007469232890362959,null,-0.011430721736804135,0.06739105980174273,-0.07753752587211066],[-0.004822022136834294,-0.005098090906445719,-0.01046986701329696,-0.008274865919273167,0.010362706167717667,0.6557356708273132,-0.04878577187338789,0.005010038742589871,-0.010403433731260174,null,-0.0047863641683374486,-0.009167733603457308,-0.0034862716945632485,0.043295278612467604,-0.011851415847953278,-0.004882305184578935,-0.027430247617771582,-0.027220611827081374,-0.005927294401585604,null,-0.003486271694563281,0.009717259406976401,-0.041096890828513775,-0.0163294748972257,null,-0.00831867583338846,0.06284963935294736,null,null,-0.007747291533509042,0.001185232703601035,-0.008712543735731644,-0.01137456919923172,null,-0.016284035404772027,-0.02499017348781641,0.8832863849703441,1.0,-0.003788015786953716,-0.009528292277479766,null,-0.011005823173020575,-0.014442329983044618,-0.10530888355553984],[-0.0032181155944397922,-0.0034023580527724447,-0.006987367820198844,-0.005522470511550712,-0.018788617474119584,-0.007649068003268108,-0.013053045775562303,0.0557301464559669,-0.006943031652747629,null,-0.0031943182203861362,-0.0061183515209503915,-0.0023266639987044447,-0.011936680293093662,-0.007909384294433951,-0.003258347225594221,-0.018306367144977503,-0.018166460651803436,-0.003955750928821239,null,-0.002326663998704455,-0.010538506414408684,-0.029431980701007842,-0.010897946198620338,null,-0.00578739261023167,-0.008329601964877972,null,null,-0.005170378524024269,-0.007795418440236002,-0.005814567429921605,-0.013368866596257729,null,-0.010867620842344668,-0.03515819497912386,-0.003934258593344746,-0.003788015786953716,1.0,-0.006358980754631954,null,-0.007345053626401923,0.09343558969376754,-0.08518869790872825],[0.7168371380932882,-0.008558217225785031,0.007983477567545534,0.06604068062248364,0.01410306836081867,-0.019240298796132687,0.07125268172187614,-0.128877230469966,-0.017464350361742875,null,-0.008034918369649792,-0.015389967948064076,-0.00585243986772655,-0.030025265218573845,0.13707980852741491,-0.008195975532600526,-0.04604743657535612,-0.04569551883439209,-0.00995020959430366,null,-0.0058524398677267195,-0.026508329144354616,-0.05447993820582623,-0.02741245613662324,null,-0.014557481123688739,-0.0209520990777742,null,null,-0.01300545735099106,0.027565544367640936,0.5046421074382239,-0.007211906635974581,null,-0.027336176396974547,-0.047775456964848806,-0.007469232890362959,-0.009528292277479766,-0.006358980754631954,0.9999999999999999,null,-0.018475587664433205,0.07220741971078744,-0.0037790309346061083],[null,null,null,null,null,null,null,null,null,null,null,null,null,null,null,null,null,null,null,null,null,null,null,null,null,null,null,null,null,null,null,null,null,null,null,null,null,null,null,null,null,null,null,null],[-0.009350016783120921,-0.009885320760563648,-0.004650748472900871,-0.016045163839516482,0.037401590281492564,0.403683055188639,-0.157549564467699,0.11034290156893078,-0.020172507970532196,null,-0.009280875125443932,-0.017776455732280323,-0.006759964581184381,-0.03468121569902879,-0.0229801800857885,-0.0094669070611322,-0.05318790920352548,-0.0527814203684121,-0.0114931662610968,null,-0.006759964581184299,-0.029874053046639253,-0.08551262546018668,-0.03166324417764969,null,-0.016814877044712337,-0.024201094051092897,null,null,-0.015022184429372712,-0.022649060019345118,0.0070022945494027395,-0.038842335950357604,null,-0.03157513590999714,-0.1021497530067041,-0.011430721736804135,-0.011005823173020575,-0.007345053626401923,-0.018475587664433205,null,1.0,-0.03270638887697878,-0.26032418364567705],[-0.014329771494721798,-0.015150174693442858,0.3228801623740238,-0.024590707883082482,-0.21336015067130942,-0.005437845219223867,0.05328876755460751,0.06903963834163608,-0.030916247146744753,null,-0.006153593579867005,0.10916942653807243,-0.010360275281607498,-0.04892049642117331,0.49843564159555076,-0.014508916731859634,-0.053028514186377315,-0.02474188547183854,0.12366723756443083,null,-0.010360275281607429,0.06549492827447978,-0.01878437077228092,-0.0200726351911388,null,0.10697423144672924,-0.0230199164969679,null,null,-0.019144113633181754,-0.03099653146580795,-0.02187744398710578,-0.05952949726193467,null,0.292213370483863,-0.04967486766314754,0.06739105980174273,-0.01444232998304462,0.09343558969376756,0.07220741971078744,null,-0.03270638887697878,1.0,-0.051261287153265056],[-0.009883351680060734,-0.03366161768989797,0.015063962258155945,0.07323807813546594,0.07888743490749893,-0.27335587723355376,0.1438323802179416,-0.3477816978827498,0.17409129666479767,null,-0.03589665553420922,0.02911700333192427,0.06885721596338962,0.0007261464724973679,0.018321825821302665,0.09643021885471402,-0.4999976270820026,-0.4841282809099146,0.02277697992450843,null,-0.007145560147144227,-0.054904172758428633,0.4785602739535367,-0.17779571872362118,null,-0.14723277727686127,0.015129352527898038,null,null,0.06856869322170325,0.05255051671759247,-0.04152867664668803,0.03156432790199533,null,0.0366487500972611,0.10254366680206138,-0.07753752587211066,-0.10530888355553984,-0.08518869790872825,-0.0037790309346061087,null,-0.26032418364567705,-0.051261287153265056,1.0]],\"type\":\"heatmap\",\"xaxis\":\"x\",\"yaxis\":\"y\",\"hovertemplate\":\"Features: %{x}<br>Features: %{y}<br>Correlation: %{z}<extra></extra>\"}],                        {\"template\":{\"data\":{\"histogram2dcontour\":[{\"type\":\"histogram2dcontour\",\"colorbar\":{\"outlinewidth\":0,\"ticks\":\"\"},\"colorscale\":[[0.0,\"#0d0887\"],[0.1111111111111111,\"#46039f\"],[0.2222222222222222,\"#7201a8\"],[0.3333333333333333,\"#9c179e\"],[0.4444444444444444,\"#bd3786\"],[0.5555555555555556,\"#d8576b\"],[0.6666666666666666,\"#ed7953\"],[0.7777777777777778,\"#fb9f3a\"],[0.8888888888888888,\"#fdca26\"],[1.0,\"#f0f921\"]]}],\"choropleth\":[{\"type\":\"choropleth\",\"colorbar\":{\"outlinewidth\":0,\"ticks\":\"\"}}],\"histogram2d\":[{\"type\":\"histogram2d\",\"colorbar\":{\"outlinewidth\":0,\"ticks\":\"\"},\"colorscale\":[[0.0,\"#0d0887\"],[0.1111111111111111,\"#46039f\"],[0.2222222222222222,\"#7201a8\"],[0.3333333333333333,\"#9c179e\"],[0.4444444444444444,\"#bd3786\"],[0.5555555555555556,\"#d8576b\"],[0.6666666666666666,\"#ed7953\"],[0.7777777777777778,\"#fb9f3a\"],[0.8888888888888888,\"#fdca26\"],[1.0,\"#f0f921\"]]}],\"heatmap\":[{\"type\":\"heatmap\",\"colorbar\":{\"outlinewidth\":0,\"ticks\":\"\"},\"colorscale\":[[0.0,\"#0d0887\"],[0.1111111111111111,\"#46039f\"],[0.2222222222222222,\"#7201a8\"],[0.3333333333333333,\"#9c179e\"],[0.4444444444444444,\"#bd3786\"],[0.5555555555555556,\"#d8576b\"],[0.6666666666666666,\"#ed7953\"],[0.7777777777777778,\"#fb9f3a\"],[0.8888888888888888,\"#fdca26\"],[1.0,\"#f0f921\"]]}],\"heatmapgl\":[{\"type\":\"heatmapgl\",\"colorbar\":{\"outlinewidth\":0,\"ticks\":\"\"},\"colorscale\":[[0.0,\"#0d0887\"],[0.1111111111111111,\"#46039f\"],[0.2222222222222222,\"#7201a8\"],[0.3333333333333333,\"#9c179e\"],[0.4444444444444444,\"#bd3786\"],[0.5555555555555556,\"#d8576b\"],[0.6666666666666666,\"#ed7953\"],[0.7777777777777778,\"#fb9f3a\"],[0.8888888888888888,\"#fdca26\"],[1.0,\"#f0f921\"]]}],\"contourcarpet\":[{\"type\":\"contourcarpet\",\"colorbar\":{\"outlinewidth\":0,\"ticks\":\"\"}}],\"contour\":[{\"type\":\"contour\",\"colorbar\":{\"outlinewidth\":0,\"ticks\":\"\"},\"colorscale\":[[0.0,\"#0d0887\"],[0.1111111111111111,\"#46039f\"],[0.2222222222222222,\"#7201a8\"],[0.3333333333333333,\"#9c179e\"],[0.4444444444444444,\"#bd3786\"],[0.5555555555555556,\"#d8576b\"],[0.6666666666666666,\"#ed7953\"],[0.7777777777777778,\"#fb9f3a\"],[0.8888888888888888,\"#fdca26\"],[1.0,\"#f0f921\"]]}],\"surface\":[{\"type\":\"surface\",\"colorbar\":{\"outlinewidth\":0,\"ticks\":\"\"},\"colorscale\":[[0.0,\"#0d0887\"],[0.1111111111111111,\"#46039f\"],[0.2222222222222222,\"#7201a8\"],[0.3333333333333333,\"#9c179e\"],[0.4444444444444444,\"#bd3786\"],[0.5555555555555556,\"#d8576b\"],[0.6666666666666666,\"#ed7953\"],[0.7777777777777778,\"#fb9f3a\"],[0.8888888888888888,\"#fdca26\"],[1.0,\"#f0f921\"]]}],\"mesh3d\":[{\"type\":\"mesh3d\",\"colorbar\":{\"outlinewidth\":0,\"ticks\":\"\"}}],\"scatter\":[{\"fillpattern\":{\"fillmode\":\"overlay\",\"size\":10,\"solidity\":0.2},\"type\":\"scatter\"}],\"parcoords\":[{\"type\":\"parcoords\",\"line\":{\"colorbar\":{\"outlinewidth\":0,\"ticks\":\"\"}}}],\"scatterpolargl\":[{\"type\":\"scatterpolargl\",\"marker\":{\"colorbar\":{\"outlinewidth\":0,\"ticks\":\"\"}}}],\"bar\":[{\"error_x\":{\"color\":\"#2a3f5f\"},\"error_y\":{\"color\":\"#2a3f5f\"},\"marker\":{\"line\":{\"color\":\"#E5ECF6\",\"width\":0.5},\"pattern\":{\"fillmode\":\"overlay\",\"size\":10,\"solidity\":0.2}},\"type\":\"bar\"}],\"scattergeo\":[{\"type\":\"scattergeo\",\"marker\":{\"colorbar\":{\"outlinewidth\":0,\"ticks\":\"\"}}}],\"scatterpolar\":[{\"type\":\"scatterpolar\",\"marker\":{\"colorbar\":{\"outlinewidth\":0,\"ticks\":\"\"}}}],\"histogram\":[{\"marker\":{\"pattern\":{\"fillmode\":\"overlay\",\"size\":10,\"solidity\":0.2}},\"type\":\"histogram\"}],\"scattergl\":[{\"type\":\"scattergl\",\"marker\":{\"colorbar\":{\"outlinewidth\":0,\"ticks\":\"\"}}}],\"scatter3d\":[{\"type\":\"scatter3d\",\"line\":{\"colorbar\":{\"outlinewidth\":0,\"ticks\":\"\"}},\"marker\":{\"colorbar\":{\"outlinewidth\":0,\"ticks\":\"\"}}}],\"scattermapbox\":[{\"type\":\"scattermapbox\",\"marker\":{\"colorbar\":{\"outlinewidth\":0,\"ticks\":\"\"}}}],\"scatterternary\":[{\"type\":\"scatterternary\",\"marker\":{\"colorbar\":{\"outlinewidth\":0,\"ticks\":\"\"}}}],\"scattercarpet\":[{\"type\":\"scattercarpet\",\"marker\":{\"colorbar\":{\"outlinewidth\":0,\"ticks\":\"\"}}}],\"carpet\":[{\"aaxis\":{\"endlinecolor\":\"#2a3f5f\",\"gridcolor\":\"white\",\"linecolor\":\"white\",\"minorgridcolor\":\"white\",\"startlinecolor\":\"#2a3f5f\"},\"baxis\":{\"endlinecolor\":\"#2a3f5f\",\"gridcolor\":\"white\",\"linecolor\":\"white\",\"minorgridcolor\":\"white\",\"startlinecolor\":\"#2a3f5f\"},\"type\":\"carpet\"}],\"table\":[{\"cells\":{\"fill\":{\"color\":\"#EBF0F8\"},\"line\":{\"color\":\"white\"}},\"header\":{\"fill\":{\"color\":\"#C8D4E3\"},\"line\":{\"color\":\"white\"}},\"type\":\"table\"}],\"barpolar\":[{\"marker\":{\"line\":{\"color\":\"#E5ECF6\",\"width\":0.5},\"pattern\":{\"fillmode\":\"overlay\",\"size\":10,\"solidity\":0.2}},\"type\":\"barpolar\"}],\"pie\":[{\"automargin\":true,\"type\":\"pie\"}]},\"layout\":{\"autotypenumbers\":\"strict\",\"colorway\":[\"#636efa\",\"#EF553B\",\"#00cc96\",\"#ab63fa\",\"#FFA15A\",\"#19d3f3\",\"#FF6692\",\"#B6E880\",\"#FF97FF\",\"#FECB52\"],\"font\":{\"color\":\"#2a3f5f\"},\"hovermode\":\"closest\",\"hoverlabel\":{\"align\":\"left\"},\"paper_bgcolor\":\"white\",\"plot_bgcolor\":\"#E5ECF6\",\"polar\":{\"bgcolor\":\"#E5ECF6\",\"angularaxis\":{\"gridcolor\":\"white\",\"linecolor\":\"white\",\"ticks\":\"\"},\"radialaxis\":{\"gridcolor\":\"white\",\"linecolor\":\"white\",\"ticks\":\"\"}},\"ternary\":{\"bgcolor\":\"#E5ECF6\",\"aaxis\":{\"gridcolor\":\"white\",\"linecolor\":\"white\",\"ticks\":\"\"},\"baxis\":{\"gridcolor\":\"white\",\"linecolor\":\"white\",\"ticks\":\"\"},\"caxis\":{\"gridcolor\":\"white\",\"linecolor\":\"white\",\"ticks\":\"\"}},\"coloraxis\":{\"colorbar\":{\"outlinewidth\":0,\"ticks\":\"\"}},\"colorscale\":{\"sequential\":[[0.0,\"#0d0887\"],[0.1111111111111111,\"#46039f\"],[0.2222222222222222,\"#7201a8\"],[0.3333333333333333,\"#9c179e\"],[0.4444444444444444,\"#bd3786\"],[0.5555555555555556,\"#d8576b\"],[0.6666666666666666,\"#ed7953\"],[0.7777777777777778,\"#fb9f3a\"],[0.8888888888888888,\"#fdca26\"],[1.0,\"#f0f921\"]],\"sequentialminus\":[[0.0,\"#0d0887\"],[0.1111111111111111,\"#46039f\"],[0.2222222222222222,\"#7201a8\"],[0.3333333333333333,\"#9c179e\"],[0.4444444444444444,\"#bd3786\"],[0.5555555555555556,\"#d8576b\"],[0.6666666666666666,\"#ed7953\"],[0.7777777777777778,\"#fb9f3a\"],[0.8888888888888888,\"#fdca26\"],[1.0,\"#f0f921\"]],\"diverging\":[[0,\"#8e0152\"],[0.1,\"#c51b7d\"],[0.2,\"#de77ae\"],[0.3,\"#f1b6da\"],[0.4,\"#fde0ef\"],[0.5,\"#f7f7f7\"],[0.6,\"#e6f5d0\"],[0.7,\"#b8e186\"],[0.8,\"#7fbc41\"],[0.9,\"#4d9221\"],[1,\"#276419\"]]},\"xaxis\":{\"gridcolor\":\"white\",\"linecolor\":\"white\",\"ticks\":\"\",\"title\":{\"standoff\":15},\"zerolinecolor\":\"white\",\"automargin\":true,\"zerolinewidth\":2},\"yaxis\":{\"gridcolor\":\"white\",\"linecolor\":\"white\",\"ticks\":\"\",\"title\":{\"standoff\":15},\"zerolinecolor\":\"white\",\"automargin\":true,\"zerolinewidth\":2},\"scene\":{\"xaxis\":{\"backgroundcolor\":\"#E5ECF6\",\"gridcolor\":\"white\",\"linecolor\":\"white\",\"showbackground\":true,\"ticks\":\"\",\"zerolinecolor\":\"white\",\"gridwidth\":2},\"yaxis\":{\"backgroundcolor\":\"#E5ECF6\",\"gridcolor\":\"white\",\"linecolor\":\"white\",\"showbackground\":true,\"ticks\":\"\",\"zerolinecolor\":\"white\",\"gridwidth\":2},\"zaxis\":{\"backgroundcolor\":\"#E5ECF6\",\"gridcolor\":\"white\",\"linecolor\":\"white\",\"showbackground\":true,\"ticks\":\"\",\"zerolinecolor\":\"white\",\"gridwidth\":2}},\"shapedefaults\":{\"line\":{\"color\":\"#2a3f5f\"}},\"annotationdefaults\":{\"arrowcolor\":\"#2a3f5f\",\"arrowhead\":0,\"arrowwidth\":1},\"geo\":{\"bgcolor\":\"white\",\"landcolor\":\"#E5ECF6\",\"subunitcolor\":\"white\",\"showland\":true,\"showlakes\":true,\"lakecolor\":\"white\"},\"title\":{\"x\":0.05},\"mapbox\":{\"style\":\"light\"}}},\"xaxis\":{\"anchor\":\"y\",\"domain\":[0.0,1.0],\"scaleanchor\":\"y\",\"constrain\":\"domain\",\"title\":{\"text\":\"Features\"}},\"yaxis\":{\"anchor\":\"x\",\"domain\":[0.0,1.0],\"autorange\":\"reversed\",\"constrain\":\"domain\",\"title\":{\"text\":\"Features\"}},\"coloraxis\":{\"colorbar\":{\"title\":{\"text\":\"Correlation\"}},\"colorscale\":[[0.0,\"rgb(0,0,131)\"],[0.2,\"rgb(0,60,170)\"],[0.4,\"rgb(5,255,255)\"],[0.6,\"rgb(255,255,0)\"],[0.8,\"rgb(250,0,0)\"],[1.0,\"rgb(128,0,0)\"]]},\"title\":{\"text\":\"Correlation between attention mechanism for each feature and predictions\"},\"height\":1000,\"width\":1000},                        {\"responsive\": true}                    ).then(function(){\n",
       "                            \n",
       "var gd = document.getElementById('5e153a21-837d-4844-b76a-557ff1b37e83');\n",
       "var x = new MutationObserver(function (mutations, observer) {{\n",
       "        var display = window.getComputedStyle(gd).display;\n",
       "        if (!display || display === 'none') {{\n",
       "            console.log([gd, 'removed!']);\n",
       "            Plotly.purge(gd);\n",
       "            observer.disconnect();\n",
       "        }}\n",
       "}});\n",
       "\n",
       "// Listen for the removal of the full notebook cells\n",
       "var notebookContainer = gd.closest('#notebook-container');\n",
       "if (notebookContainer) {{\n",
       "    x.observe(notebookContainer, {childList: true});\n",
       "}}\n",
       "\n",
       "// Listen for the clearing of the current output cell\n",
       "var outputEl = gd.closest('.output');\n",
       "if (outputEl) {{\n",
       "    x.observe(outputEl, {childList: true});\n",
       "}}\n",
       "\n",
       "                        })                };                });            </script>        </div>"
      ]
     },
     "metadata": {},
     "output_type": "display_data"
    }
   ],
   "source": [
    "correlation_importance = np.corrcoef(explain_and_preds.T)\n",
    "px.imshow(correlation_importance,\n",
    "          labels=dict(x=\"Features\", y=\"Features\", color=\"Correlation\"),\n",
    "          x=list(X_test.columns)+[\"prediction\"], y=list(X_test.columns)+[\"prediction\"],\n",
    "          title=\"Correlation between attention mechanism for each feature and predictions\",\n",
    "          width=1000,\n",
    "          height=1000,\n",
    "          color_continuous_scale='Jet')"
   ]
  },
  {
   "cell_type": "markdown",
   "id": "08d61a78-e386-46d3-a4e0-cab9de6e42ab",
   "metadata": {},
   "source": [
    "### Инференс"
   ]
  },
  {
   "cell_type": "code",
   "execution_count": 44,
   "id": "a69232db",
   "metadata": {
    "papermill": {
     "duration": 0.562027,
     "end_time": "2022-12-12T05:34:11.544248",
     "exception": false,
     "start_time": "2022-12-12T05:34:10.982221",
     "status": "completed"
    },
    "tags": []
   },
   "outputs": [],
   "source": [
    "preds = clf.predict(X_test.values)"
   ]
  },
  {
   "cell_type": "code",
   "execution_count": 45,
   "id": "7b292591",
   "metadata": {
    "papermill": {
     "duration": 0.038659,
     "end_time": "2022-12-12T05:34:11.603516",
     "exception": false,
     "start_time": "2022-12-12T05:34:11.564857",
     "status": "completed"
    },
    "tags": []
   },
   "outputs": [
    {
     "data": {
      "text/plain": [
       "array([4, 6, 3, 6, 6])"
      ]
     },
     "execution_count": 45,
     "metadata": {},
     "output_type": "execute_result"
    }
   ],
   "source": [
    "preds[:5]"
   ]
  },
  {
   "cell_type": "code",
   "execution_count": 47,
   "id": "48bc4df7",
   "metadata": {
    "papermill": {
     "duration": 0.140483,
     "end_time": "2022-12-12T05:34:11.765915",
     "exception": false,
     "start_time": "2022-12-12T05:34:11.625432",
     "status": "completed"
    },
    "tags": []
   },
   "outputs": [
    {
     "data": {
      "text/plain": [
       "(0.5642267504275466, 0.6047008547008547)"
      ]
     },
     "execution_count": 47,
     "metadata": {},
     "output_type": "execute_result"
    }
   ],
   "source": [
    "f1_score(y_test, preds, average='macro'), accuracy_score(y_test, preds)"
   ]
  },
  {
   "cell_type": "markdown",
   "id": "da476d79",
   "metadata": {
    "papermill": {
     "duration": 0.021449,
     "end_time": "2022-12-12T05:34:11.964043",
     "exception": false,
     "start_time": "2022-12-12T05:34:11.942594",
     "status": "completed"
    },
    "tags": []
   },
   "source": [
    "## **Регрессия**"
   ]
  },
  {
   "cell_type": "code",
   "execution_count": 48,
   "id": "550b29e0",
   "metadata": {
    "papermill": {
     "duration": 0.031633,
     "end_time": "2022-12-12T05:34:11.820467",
     "exception": false,
     "start_time": "2022-12-12T05:34:11.788834",
     "status": "completed"
    },
    "tags": []
   },
   "outputs": [],
   "source": [
    "y = df['target_reg']"
   ]
  },
  {
   "cell_type": "code",
   "execution_count": 49,
   "id": "ac570e93",
   "metadata": {
    "papermill": {
     "duration": 0.079668,
     "end_time": "2022-12-12T05:34:11.921922",
     "exception": false,
     "start_time": "2022-12-12T05:34:11.842254",
     "status": "completed"
    },
    "tags": []
   },
   "outputs": [],
   "source": [
    "X_train, X_test, y_train, y_test = train_test_split(X, y, test_size=0.2, random_state=42)"
   ]
  },
  {
   "cell_type": "code",
   "execution_count": 50,
   "id": "b10c484e",
   "metadata": {
    "papermill": {
     "duration": 459.816751,
     "end_time": "2022-12-12T05:41:51.803545",
     "exception": false,
     "start_time": "2022-12-12T05:34:11.986794",
     "status": "completed"
    },
    "tags": []
   },
   "outputs": [
    {
     "name": "stderr",
     "output_type": "stream",
     "text": [
      "/opt/conda/lib/python3.9/site-packages/pytorch_tabnet/abstract_model.py:75: UserWarning:\n",
      "\n",
      "Device used : cpu\n",
      "\n"
     ]
    },
    {
     "name": "stdout",
     "output_type": "stream",
     "text": [
      "epoch 0  | loss: 1.76506 | val_0_mse: 0.7045  |  0:00:00s\n",
      "epoch 1  | loss: 1.2924  | val_0_mse: 0.68811 |  0:00:00s\n",
      "epoch 2  | loss: 1.10533 | val_0_mse: 0.67619 |  0:00:00s\n",
      "epoch 3  | loss: 0.94004 | val_0_mse: 0.67994 |  0:00:00s\n",
      "epoch 4  | loss: 0.89023 | val_0_mse: 0.67594 |  0:00:00s\n",
      "epoch 5  | loss: 0.80719 | val_0_mse: 0.67334 |  0:00:00s\n",
      "epoch 6  | loss: 0.73245 | val_0_mse: 0.66269 |  0:00:00s\n",
      "epoch 7  | loss: 0.75244 | val_0_mse: 0.65668 |  0:00:00s\n",
      "epoch 8  | loss: 0.65909 | val_0_mse: 0.67951 |  0:00:00s\n",
      "epoch 9  | loss: 0.62468 | val_0_mse: 1.07484 |  0:00:00s\n",
      "epoch 10 | loss: 0.57264 | val_0_mse: 1.53159 |  0:00:00s\n",
      "epoch 11 | loss: 0.58079 | val_0_mse: 1.77093 |  0:00:00s\n",
      "epoch 12 | loss: 0.6089  | val_0_mse: 1.82843 |  0:00:00s\n",
      "epoch 13 | loss: 0.64123 | val_0_mse: 1.9527  |  0:00:00s\n",
      "epoch 14 | loss: 0.62013 | val_0_mse: 1.80956 |  0:00:01s\n",
      "epoch 15 | loss: 0.59087 | val_0_mse: 1.843   |  0:00:01s\n",
      "epoch 16 | loss: 0.57148 | val_0_mse: 1.88329 |  0:00:01s\n",
      "epoch 17 | loss: 0.59433 | val_0_mse: 1.71849 |  0:00:01s\n",
      "\n",
      "Early stopping occurred at epoch 17 with best_epoch = 7 and best_val_0_mse = 0.65668\n"
     ]
    },
    {
     "name": "stderr",
     "output_type": "stream",
     "text": [
      "/opt/conda/lib/python3.9/site-packages/pytorch_tabnet/callbacks.py:172: UserWarning:\n",
      "\n",
      "Best weights from best epoch are automatically used!\n",
      "\n"
     ]
    }
   ],
   "source": [
    "reg = TabNetRegressor(device_name='cpu')\n",
    "reg.fit(\n",
    "  X_train.values, y_train.values.reshape(-1,1),\n",
    "  eval_set=[(X_test.values, y_test.values.reshape(-1,1))]\n",
    ")"
   ]
  },
  {
   "cell_type": "code",
   "execution_count": 51,
   "id": "54f46b59",
   "metadata": {
    "papermill": {
     "duration": 0.568666,
     "end_time": "2022-12-12T05:41:52.405436",
     "exception": false,
     "start_time": "2022-12-12T05:41:51.836770",
     "status": "completed"
    },
    "tags": []
   },
   "outputs": [
    {
     "data": {
      "text/plain": [
       "array([[41.067886],\n",
       "       [41.123016],\n",
       "       [40.908028],\n",
       "       [40.900574],\n",
       "       [41.344833]], dtype=float32)"
      ]
     },
     "execution_count": 51,
     "metadata": {},
     "output_type": "execute_result"
    }
   ],
   "source": [
    "preds = reg.predict(X_test.values)\n",
    "preds = target_scaler.inverse_transform(np.array(preds).reshape(-1, 1))\n",
    "preds[:5]"
   ]
  },
  {
   "cell_type": "code",
   "execution_count": 52,
   "id": "7be82a71",
   "metadata": {
    "papermill": {
     "duration": 0.046726,
     "end_time": "2022-12-12T05:41:52.565091",
     "exception": false,
     "start_time": "2022-12-12T05:41:52.518365",
     "status": "completed"
    },
    "tags": []
   },
   "outputs": [
    {
     "data": {
      "text/plain": [
       "40.50636571221867"
      ]
     },
     "execution_count": 52,
     "metadata": {},
     "output_type": "execute_result"
    }
   ],
   "source": [
    "mean_squared_error(y_test, preds) ** 0.5"
   ]
  },
  {
   "cell_type": "markdown",
   "id": "dfd274c8-4881-403e-b803-01f318889d39",
   "metadata": {},
   "source": [
    "<div class=\"alert alert-info\">\n",
    "\n",
    "Посмотрим на итоговую таблицу точности по всем моделям - пока точность не впечатляет. <br>\n",
    "Но для примера использованы дефолтные гиперпараметры и малое число эпох. Немного потюнив гиперпараметры, можно легко выбить точность более 0.7 для классификации даже из `sklearn - модели` и значительно снизить `RMSE` для регрессии. Попробуйте сделать это сами!"
   ]
  },
  {
   "cell_type": "markdown",
   "id": "2403c08d-085e-4199-86b2-200f41f93b26",
   "metadata": {},
   "source": [
    "<center> <img src='../images/nn1.png'> </center>"
   ]
  },
  {
   "cell_type": "markdown",
   "id": "3850d615-f9ae-4fad-81f3-9e6d64e32122",
   "metadata": {},
   "source": [
    "## <center>🧠 Мысли и выводы</center>\n"
   ]
  },
  {
   "cell_type": "markdown",
   "id": "12e32dfa-5464-40c4-94d8-0c3595ad65e0",
   "metadata": {},
   "source": [
    "<div class=\"alert alert-info\">\n",
    "\n",
    "* Нейронные сети могут использоваться как самостоятельные модели для решения задач на табличных данных, так и разнообразить ансамбль.\n",
    "* Обязательно делать нормализацию, и не забывать об обратном преобразовании для предсказаний.\n",
    "* Рабочий кейс: сначала попробовать готовое, что быстро заводится - посмотреть дает нейросеть адекватный результат для конкретной задачи или нет. Потом уже пробовать запускать что-то самописное, кастомное.\n",
    "    \n",
    "В следующих уроках рассмотрим более продвинутые инструменты для создания пайплайнов обучения нейросетей и получние эмбеддингов из них."
   ]
  },
  {
   "cell_type": "markdown",
   "id": "8842ac99-d19c-486a-ad2f-a1ea3ed3f147",
   "metadata": {},
   "source": [
    "## <center>🧸 Дополнительные материалы</center>"
   ]
  },
  {
   "cell_type": "markdown",
   "id": "c9ab6781-3cc3-43f6-9795-b481c23c2560",
   "metadata": {},
   "source": [
    "* [Pytorch-lifestream](https://dllllb.github.io/pytorch-lifestream/) - библиотека для обработки последовательных данных (банковские транзакции, кликстрим и.т.п.)\n",
    "* [Pytorch для табличек](https://pytorch-tabular.readthedocs.io/en/stable/tabular_model/)"
   ]
  }
 ],
 "metadata": {
  "kernelspec": {
   "display_name": "Python 3 (ipykernel)",
   "language": "python",
   "name": "python3"
  },
  "language_info": {
   "codemirror_mode": {
    "name": "ipython",
    "version": 3
   },
   "file_extension": ".py",
   "mimetype": "text/x-python",
   "name": "python",
   "nbconvert_exporter": "python",
   "pygments_lexer": "ipython3",
   "version": "3.11.4"
  },
  "papermill": {
   "default_parameters": {},
   "duration": 1751.13839,
   "end_time": "2022-12-12T05:41:53.780976",
   "environment_variables": {},
   "exception": null,
   "input_path": "__notebook__.ipynb",
   "output_path": "__notebook__.ipynb",
   "parameters": {},
   "start_time": "2022-12-12T05:12:42.642586",
   "version": "2.3.4"
  }
 },
 "nbformat": 4,
 "nbformat_minor": 5
}
