{
 "cells": [
  {
   "cell_type": "markdown",
   "id": "819166a6-2da7-4370-b471-5a8cf38adcb8",
   "metadata": {},
   "source": [
    "# <center>[⏱ Оптимизация памяти и ускорение вычислений](https://stepik.org/lesson/825508/)</center>"
   ]
  },
  {
   "cell_type": "markdown",
   "id": "8076ac87-62a0-4fb1-9176-211665c6d183",
   "metadata": {},
   "source": [
    "### Оглавление ноутбука\n",
    "\n",
    "<img src='../images/speed_up.png' align=\"right\" width=\"550\" height=\"550\" />\n",
    "<br>\n",
    "\n",
    "<p><font size=\"3\" face=\"Arial\" font-size=\"large\"><ul type=\"square\">\n",
    "    \n",
    "<li><a href=\"#c1\">👁 Считывание и сохранение больших датафреймов</a></li>\n",
    "<li><a href=\"#c2\">🗜 Оптимизация памяти</a></li>\n",
    "<li><a href=\"#c3\">🥌 Ускорение при помощи `Numpy`</a></li>\n",
    "<li><a href=\"#c4\">🍢 Векторизация в `pandas`</a></li>\n",
    "<li><a href=\"#c5\">⚡️ `Numba Jit` - преврати python в ракету</a></li>\n",
    "<li><a href=\"#c6\">🧵 Multiprocessing - задействуй все ядра</a></li>\n",
    "<li><a href=\"#c7\">👻 Выводы</a>\n",
    "\n",
    "</li></ul></font></p>\n",
    "\n",
    "    "
   ]
  },
  {
   "cell_type": "markdown",
   "id": "14516664-8f9f-439a-aa66-3d427a6b47ad",
   "metadata": {},
   "source": [
    "### 🤔 Зачем ускорять и оптимизировать код?\n",
    "\n",
    "<div class=\"alert alert-info\">\n",
    "    \n",
    "Когда речь заходит о работе с действительно большими данными, скорость работы программы и количество памяти, которое ей требуется, могут стать одним из главных ботлнеков в вашей программе.\n",
    "    \n",
    "Особенно, если вы ограничены в ресурсах (как например часто бывает на Kaggle) и вам нужно, чтобы ваше решение отработало не только четко, но еще и быстро.\n",
    "\n",
    "В этом уроке мы рассмотрим подходы и методы, с помощью которых можно сэкономить память и ускорить ваши вычисления."
   ]
  },
  {
   "cell_type": "markdown",
   "id": "4b875f96-8161-47fd-8a9b-fb8b53d1c4de",
   "metadata": {},
   "source": [
    "## Импортируем библиотеки"
   ]
  },
  {
   "cell_type": "code",
   "execution_count": 21,
   "id": "f1f7d85a",
   "metadata": {},
   "outputs": [],
   "source": [
    "import pandas as pd\n",
    "import numpy as np\n",
    "import matplotlib.pyplot as plt"
   ]
  },
  {
   "cell_type": "markdown",
   "id": "96e5a0b7-076a-4bc8-912e-19271aa0a0de",
   "metadata": {
    "tags": []
   },
   "source": [
    "# <center> 👁 Считывание и сохранение больших датафреймов </center>\n",
    "\n",
    "<p id=\"c1\"></p>   "
   ]
  },
  {
   "cell_type": "markdown",
   "id": "81b494c0-7f44-496c-ae9f-e0868657f15a",
   "metadata": {},
   "source": [
    "### Скачаем файлы с гугл-диска"
   ]
  },
  {
   "cell_type": "markdown",
   "id": "a2d7f384-77a4-4d45-9a94-dea82cfdd53a",
   "metadata": {},
   "source": [
    "<div class=\"alert alert-info\">\n",
    "Для начала скачаем большой файл с гугл диска, чтобы на нем замерять скорости в дальнейшем"
   ]
  },
  {
   "cell_type": "code",
   "execution_count": 2,
   "id": "c1f486ef-c929-4b78-aadf-542e3e1241b2",
   "metadata": {},
   "outputs": [],
   "source": [
    "!pip install gdown -q"
   ]
  },
  {
   "cell_type": "code",
   "execution_count": 3,
   "id": "b9106a31-69a5-418d-bc75-9002f0e09c2b",
   "metadata": {},
   "outputs": [
    {
     "name": "stdout",
     "output_type": "stream",
     "text": [
      "Downloading...\n",
      "From (original): https://drive.google.com/uc?id=1Sjb6EYfz23ZuqBGYZfkmhWnBbHQBf6Ke\n",
      "From (redirected): https://drive.google.com/uc?id=1Sjb6EYfz23ZuqBGYZfkmhWnBbHQBf6Ke&confirm=t&uuid=6b7ab0df-10c0-4685-8c08-134e213b853b\n",
      "To: /app/storage_local/Course/Competitive_Data_Science/data/blending/text_classification_train.csv\n",
      "100%|████████████████████████████████████████| 235M/235M [00:09<00:00, 23.9MB/s]\n"
     ]
    }
   ],
   "source": [
    "# для начала скачаем большой файл с гугл диска, чтобы на нем замерять скорости\n",
    "!gdown 1Sjb6EYfz23ZuqBGYZfkmhWnBbHQBf6Ke -O '../data/blending/'"
   ]
  },
  {
   "cell_type": "markdown",
   "id": "312188a4-53f8-44ab-8cb3-45e5d36ede58",
   "metadata": {
    "tags": []
   },
   "source": [
    "### Работа с `pickle` против `csv`"
   ]
  },
  {
   "cell_type": "markdown",
   "id": "2a9dcb00-0cd5-46ae-875d-3e8af85ca489",
   "metadata": {},
   "source": [
    "<div class=\"alert alert-info\">\n",
    "\n",
    "`Pickle` - это отличная альтернатива привычным нам `.csv` файлам при работе с большими файлами. Мало того, что он считывает и сохраняет всё в разы быстрее, так еще и место на диске такой файл занимает меньше. Также, при использовании `to_pickle()`, сохраняются индексы и все типы колонок, так что при его последующем считывании, датафрейм будет точно таким же и его не нужно будет повторно оптимизировать при каждом открытии, как при использовании `CSV` формата."
   ]
  },
  {
   "cell_type": "code",
   "execution_count": 15,
   "id": "a1fddb2f-ea96-4357-8b9a-8b261c74b87a",
   "metadata": {},
   "outputs": [
    {
     "name": "stdout",
     "output_type": "stream",
     "text": [
      "CPU times: user 632 ms, sys: 56.6 ms, total: 688 ms\n",
      "Wall time: 687 ms\n"
     ]
    }
   ],
   "source": [
    "%%time\n",
    "\n",
    "data = pd.read_csv('../data/blending/text_classification_train.csv')"
   ]
  },
  {
   "cell_type": "code",
   "execution_count": 16,
   "id": "d8351a2a-ee31-4bcc-bc99-06358011364f",
   "metadata": {},
   "outputs": [
    {
     "data": {
      "text/plain": [
       "(1368, 2623)"
      ]
     },
     "execution_count": 16,
     "metadata": {},
     "output_type": "execute_result"
    }
   ],
   "source": [
    "data.shape"
   ]
  },
  {
   "cell_type": "code",
   "execution_count": 17,
   "id": "119088ac-d4bc-4eee-aa27-c1f44501bdcb",
   "metadata": {},
   "outputs": [
    {
     "name": "stdout",
     "output_type": "stream",
     "text": [
      "CPU times: user 3.37 s, sys: 92.1 ms, total: 3.46 s\n",
      "Wall time: 3.82 s\n"
     ]
    }
   ],
   "source": [
    "%%time\n",
    "\n",
    "data.to_csv('../data/blending/text_classification_train.csv')"
   ]
  },
  {
   "cell_type": "code",
   "execution_count": 18,
   "id": "4a416d50-1add-4197-ac5e-ce494c8c9a5d",
   "metadata": {},
   "outputs": [
    {
     "name": "stdout",
     "output_type": "stream",
     "text": [
      "CPU times: user 5.7 ms, sys: 92.5 ms, total: 98.2 ms\n",
      "Wall time: 290 ms\n"
     ]
    }
   ],
   "source": [
    "%%time\n",
    "\n",
    "pd.to_pickle(data, '../data/blending/text_classification_train.pickle')"
   ]
  },
  {
   "cell_type": "code",
   "execution_count": 19,
   "id": "e7a99dac-5fdf-4c2e-8952-8aa12f91d109",
   "metadata": {},
   "outputs": [
    {
     "name": "stdout",
     "output_type": "stream",
     "text": [
      "CPU times: user 6.5 ms, sys: 19.7 ms, total: 26.2 ms\n",
      "Wall time: 25.5 ms\n"
     ]
    }
   ],
   "source": [
    "%%time\n",
    "\n",
    "data = pd.read_pickle('../data/blending/text_classification_train.pickle')"
   ]
  },
  {
   "cell_type": "code",
   "execution_count": 20,
   "id": "2038f301-ef7d-4538-80ac-d083dcccf130",
   "metadata": {},
   "outputs": [
    {
     "name": "stdout",
     "output_type": "stream",
     "text": [
      "<class 'pandas.core.frame.DataFrame'>\n",
      "RangeIndex: 1368 entries, 0 to 1367\n",
      "Columns: 2623 entries, Unnamed: 0.4 to labse_text_feature_767\n",
      "dtypes: float64(2616), int64(5), object(2)\n",
      "memory usage: 27.4+ MB\n"
     ]
    }
   ],
   "source": [
    "data.info()"
   ]
  },
  {
   "cell_type": "markdown",
   "id": "13f9fca9-6b39-4b53-983f-a873eaeff2cd",
   "metadata": {},
   "source": []
  },
  {
   "cell_type": "markdown",
   "id": "0ee11181-1394-4672-bb56-b8de49d398ae",
   "metadata": {
    "tags": []
   },
   "source": [
    "### Считывание по батчам"
   ]
  },
  {
   "cell_type": "markdown",
   "id": "b3514e08-945c-4bd2-8954-f19173d79657",
   "metadata": {},
   "source": [
    "<div class=\"alert alert-info\">\n",
    "\n",
    "Если ваш датасет не умещается в память без оптимизации типов или он не нужен вам целиком, то можно считывать по батчам и сразу указывать необходимые типы, индексы и тд. В параметр `chunksize` - передается число сэмплов, которое будет считываться за 1 итерацию."
   ]
  },
  {
   "cell_type": "code",
   "execution_count": 22,
   "id": "529fee35-8548-4a24-9b13-fec8ba55802c",
   "metadata": {},
   "outputs": [
    {
     "data": {
      "text/html": [
       "<div>\n",
       "<style scoped>\n",
       "    .dataframe tbody tr th:only-of-type {\n",
       "        vertical-align: middle;\n",
       "    }\n",
       "\n",
       "    .dataframe tbody tr th {\n",
       "        vertical-align: top;\n",
       "    }\n",
       "\n",
       "    .dataframe thead th {\n",
       "        text-align: right;\n",
       "    }\n",
       "</style>\n",
       "<table border=\"1\" class=\"dataframe\">\n",
       "  <thead>\n",
       "    <tr style=\"text-align: right;\">\n",
       "      <th></th>\n",
       "      <th>model</th>\n",
       "      <th>car_type</th>\n",
       "      <th>fuel_type</th>\n",
       "      <th>car_rating</th>\n",
       "      <th>year_to_start</th>\n",
       "      <th>riders</th>\n",
       "      <th>year_to_work</th>\n",
       "      <th>target_reg</th>\n",
       "      <th>target_class</th>\n",
       "    </tr>\n",
       "    <tr>\n",
       "      <th>car_id</th>\n",
       "      <th></th>\n",
       "      <th></th>\n",
       "      <th></th>\n",
       "      <th></th>\n",
       "      <th></th>\n",
       "      <th></th>\n",
       "      <th></th>\n",
       "      <th></th>\n",
       "      <th></th>\n",
       "    </tr>\n",
       "  </thead>\n",
       "  <tbody>\n",
       "    <tr>\n",
       "      <th>y13744087j</th>\n",
       "      <td>Kia Rio X-line</td>\n",
       "      <td>economy</td>\n",
       "      <td>petrol</td>\n",
       "      <td>3.78</td>\n",
       "      <td>2015</td>\n",
       "      <td>76163</td>\n",
       "      <td>2021</td>\n",
       "      <td>108.53</td>\n",
       "      <td>another_bug</td>\n",
       "    </tr>\n",
       "    <tr>\n",
       "      <th>O41613818T</th>\n",
       "      <td>VW Polo VI</td>\n",
       "      <td>economy</td>\n",
       "      <td>petrol</td>\n",
       "      <td>3.90</td>\n",
       "      <td>2015</td>\n",
       "      <td>78218</td>\n",
       "      <td>2021</td>\n",
       "      <td>35.20</td>\n",
       "      <td>electro_bug</td>\n",
       "    </tr>\n",
       "    <tr>\n",
       "      <th>d-2109686j</th>\n",
       "      <td>Renault Sandero</td>\n",
       "      <td>standart</td>\n",
       "      <td>petrol</td>\n",
       "      <td>6.30</td>\n",
       "      <td>2012</td>\n",
       "      <td>23340</td>\n",
       "      <td>2017</td>\n",
       "      <td>38.62</td>\n",
       "      <td>gear_stick</td>\n",
       "    </tr>\n",
       "    <tr>\n",
       "      <th>u29695600e</th>\n",
       "      <td>Mercedes-Benz GLC</td>\n",
       "      <td>business</td>\n",
       "      <td>petrol</td>\n",
       "      <td>4.04</td>\n",
       "      <td>2011</td>\n",
       "      <td>1263</td>\n",
       "      <td>2020</td>\n",
       "      <td>30.34</td>\n",
       "      <td>engine_fuel</td>\n",
       "    </tr>\n",
       "    <tr>\n",
       "      <th>N-8915870N</th>\n",
       "      <td>Renault Sandero</td>\n",
       "      <td>standart</td>\n",
       "      <td>petrol</td>\n",
       "      <td>4.70</td>\n",
       "      <td>2012</td>\n",
       "      <td>26428</td>\n",
       "      <td>2017</td>\n",
       "      <td>30.45</td>\n",
       "      <td>engine_fuel</td>\n",
       "    </tr>\n",
       "  </tbody>\n",
       "</table>\n",
       "</div>"
      ],
      "text/plain": [
       "                        model  car_type fuel_type  car_rating  year_to_start  \\\n",
       "car_id                                                                         \n",
       "y13744087j     Kia Rio X-line   economy    petrol        3.78           2015   \n",
       "O41613818T         VW Polo VI   economy    petrol        3.90           2015   \n",
       "d-2109686j    Renault Sandero  standart    petrol        6.30           2012   \n",
       "u29695600e  Mercedes-Benz GLC  business    petrol        4.04           2011   \n",
       "N-8915870N    Renault Sandero  standart    petrol        4.70           2012   \n",
       "\n",
       "            riders  year_to_work  target_reg target_class  \n",
       "car_id                                                     \n",
       "y13744087j   76163          2021      108.53  another_bug  \n",
       "O41613818T   78218          2021       35.20  electro_bug  \n",
       "d-2109686j   23340          2017       38.62   gear_stick  \n",
       "u29695600e    1263          2020       30.34  engine_fuel  \n",
       "N-8915870N   26428          2017       30.45  engine_fuel  "
      ]
     },
     "execution_count": 22,
     "metadata": {},
     "output_type": "execute_result"
    }
   ],
   "source": [
    "import gc\n",
    "\n",
    "chunksize = 1000\n",
    "tmp_lst = []\n",
    "with pd.read_csv('../data/car_train.csv',\n",
    "                 index_col='car_id',\n",
    "                 dtype={'model': 'category',\n",
    "                        'car_type': 'category',\n",
    "                        'fuel_type': 'category',\n",
    "                        'target_class': 'category'}, chunksize=chunksize) as reader:\n",
    "    for chunk in reader:\n",
    "        # chunk = feature(chunk)\n",
    "        tmp_lst.append(chunk)\n",
    "        \n",
    "data = pd.concat(tmp_lst)\n",
    "\n",
    "del tmp_lst\n",
    "gc.collect()\n",
    "\n",
    "data.head()"
   ]
  },
  {
   "cell_type": "markdown",
   "id": "dfef92b6-4847-4663-9886-7cee0f0332ef",
   "metadata": {},
   "source": [
    "**Важно:** Пока на какой-то объект в памяти есть ссылки, которые явно не удалили или не переназначили - этот объект будет занимать оперативную память, хотя он может больше не использоваться. Поэтому все временные объекты, которые больше не будут использоваться, лучше явно удалять, используя `del` и после этого запускать сборщик мусора `gc` - `garbage collector`, как в примере выше.\n",
    "```python\n",
    "import gc\n",
    "gc.collect()\n",
    "```"
   ]
  },
  {
   "cell_type": "markdown",
   "id": "2ef30edd-0204-449a-ac34-40ead2241ae6",
   "metadata": {
    "tags": []
   },
   "source": [
    "### Используем генератор"
   ]
  },
  {
   "cell_type": "markdown",
   "id": "0601941a-9756-4bdc-b166-a4823b290684",
   "metadata": {},
   "source": [
    "<div class=\"alert alert-info\">\n",
    "Это особенно актуально, когда мы работаем с картинками - чтобы не хранить их всех в оперативной памяти, они считываются только перед тем, как модель хочет посчитать по ним ошибку и скорректировать веса. Однако, при работе с большими текстами тоже бывает полезно."
   ]
  },
  {
   "cell_type": "code",
   "execution_count": 22,
   "id": "c342c156-f566-4830-992c-bb4672963efa",
   "metadata": {},
   "outputs": [],
   "source": [
    "def read_file(filename):\n",
    "    with open(filename, 'r') as f:\n",
    "        for line in f:\n",
    "            yield line.strip()"
   ]
  },
  {
   "cell_type": "code",
   "execution_count": 23,
   "id": "df28facc-3cd7-4e0d-be40-cf15b373b603",
   "metadata": {},
   "outputs": [
    {
     "data": {
      "text/plain": [
       "'car_type,fuel_type,car_rating,year_to_start,riders,car_id,model,target_class,year_to_work,target_reg'"
      ]
     },
     "execution_count": 23,
     "metadata": {},
     "output_type": "execute_result"
    }
   ],
   "source": [
    "it = read_file('../data/car_info.csv')\n",
    "next(it)"
   ]
  },
  {
   "cell_type": "code",
   "execution_count": 24,
   "id": "d657415c-93cf-423b-b7fd-fd80bedd4c7a",
   "metadata": {},
   "outputs": [
    {
     "data": {
      "text/plain": [
       "'economy,petrol,4.8,2013,42269,P17494612l,Skoda Rapid,engine_overheat,2019,46.65071890960271'"
      ]
     },
     "execution_count": 24,
     "metadata": {},
     "output_type": "execute_result"
    }
   ],
   "source": [
    "next(it)"
   ]
  },
  {
   "cell_type": "markdown",
   "id": "8dd1ce94-b62c-46c3-90d2-6b8db52228cc",
   "metadata": {
    "tags": []
   },
   "source": [
    "# <center> 🗜 Оптимизация памяти </center>\n",
    "\n",
    "<p id=\"c2\"></p>   "
   ]
  },
  {
   "cell_type": "markdown",
   "id": "177af09b-3b79-4955-8875-4f07ca3e7e2b",
   "metadata": {},
   "source": [
    "<div class=\"alert alert-info\">\n",
    "\n",
    "Самый эффективный способ оптимизации памяти, если вы не хотите удалять часть данных, это установка правильных типов. Если колонка имеет тип `int`, то не нужно ставить ей тип `float`, а если в ней всего несколько уникальных значений, то не нужно делать ее типом `string`. .Например, если в нашем датасете есть бинарная колонка, в которой хранятся только 0 и 1, `pandas` хранит её как максимально возможный тип для целых чисел - `int64`, хотя достаточно будет `int8`. При правильной постановке типов, размер нового датасета обычно в несколько раз меньше (а то и на порядок), чем без них. Также можно вынести какую-то колонку как индекс, чтобы не хранить лишний индекс, но это уже косметика."
   ]
  },
  {
   "cell_type": "markdown",
   "id": "aa2beb3b-0598-4510-9b00-5a43ef446e6e",
   "metadata": {
    "tags": []
   },
   "source": [
    "### Оптимизируем числовые типы"
   ]
  },
  {
   "cell_type": "code",
   "execution_count": 3,
   "id": "b56ada90-2656-4e44-a555-6a5b285321bc",
   "metadata": {},
   "outputs": [],
   "source": [
    "import pandas as pd\n",
    "\n",
    "def reduce_mem_usage(df):\n",
    "    \"\"\" iterate through all the columns of a dataframe and modify the data type\n",
    "        to reduce memory usage.\n",
    "    \"\"\"\n",
    "    start_mem = df.memory_usage().sum() / 1024**2\n",
    "    print('Memory usage of dataframe is {:.2f} MB'.format(start_mem))\n",
    "\n",
    "    for col in df.columns:\n",
    "        col_type = df[col].dtype.name\n",
    "\n",
    "        if col_type not in ['object', 'category', 'datetime64[ns, UTC]']:\n",
    "            c_min = df[col].min()\n",
    "            c_max = df[col].max()\n",
    "            if str(col_type)[:3] == 'int':\n",
    "                if c_min > np.iinfo(np.int8).min and c_max < np.iinfo(np.int8).max:\n",
    "                    df[col] = df[col].astype(np.int8)\n",
    "                elif c_min > np.iinfo(np.int16).min and c_max < np.iinfo(np.int16).max:\n",
    "                    df[col] = df[col].astype(np.int16)\n",
    "                elif c_min > np.iinfo(np.int32).min and c_max < np.iinfo(np.int32).max:\n",
    "                    df[col] = df[col].astype(np.int32)\n",
    "                elif c_min > np.iinfo(np.int64).min and c_max < np.iinfo(np.int64).max:\n",
    "                    df[col] = df[col].astype(np.int64)\n",
    "            else:\n",
    "                if c_min > np.finfo(np.float16).min and c_max < np.finfo(np.float16).max:\n",
    "                    df[col] = df[col].astype(np.float16)\n",
    "                elif c_min > np.finfo(np.float32).min and c_max < np.finfo(np.float32).max:\n",
    "                    df[col] = df[col].astype(np.float32)\n",
    "                else:\n",
    "                    df[col] = df[col].astype(np.float64)\n",
    "\n",
    "    end_mem = df.memory_usage().sum() / 1024**2\n",
    "    print('Memory usage after optimization is: {:.2f} MB'.format(end_mem))\n",
    "    print('Decreased by {:.1f}%'.format(100 * (start_mem - end_mem) / start_mem))\n",
    "\n",
    "    return df"
   ]
  },
  {
   "cell_type": "code",
   "execution_count": 4,
   "id": "e01d22cb-bcde-465a-b47c-3da85a3b2eff",
   "metadata": {},
   "outputs": [
    {
     "data": {
      "text/html": [
       "<div>\n",
       "<style scoped>\n",
       "    .dataframe tbody tr th:only-of-type {\n",
       "        vertical-align: middle;\n",
       "    }\n",
       "\n",
       "    .dataframe tbody tr th {\n",
       "        vertical-align: top;\n",
       "    }\n",
       "\n",
       "    .dataframe thead th {\n",
       "        text-align: right;\n",
       "    }\n",
       "</style>\n",
       "<table border=\"1\" class=\"dataframe\">\n",
       "  <thead>\n",
       "    <tr style=\"text-align: right;\">\n",
       "      <th></th>\n",
       "      <th>car_id</th>\n",
       "      <th>model</th>\n",
       "      <th>car_type</th>\n",
       "      <th>fuel_type</th>\n",
       "      <th>car_rating</th>\n",
       "      <th>year_to_start</th>\n",
       "      <th>riders</th>\n",
       "      <th>year_to_work</th>\n",
       "      <th>target_reg</th>\n",
       "      <th>target_class</th>\n",
       "    </tr>\n",
       "  </thead>\n",
       "  <tbody>\n",
       "    <tr>\n",
       "      <th>0</th>\n",
       "      <td>y13744087j</td>\n",
       "      <td>Kia Rio X-line</td>\n",
       "      <td>economy</td>\n",
       "      <td>petrol</td>\n",
       "      <td>3.78</td>\n",
       "      <td>2015</td>\n",
       "      <td>76163</td>\n",
       "      <td>2021</td>\n",
       "      <td>108.53</td>\n",
       "      <td>another_bug</td>\n",
       "    </tr>\n",
       "    <tr>\n",
       "      <th>1</th>\n",
       "      <td>O41613818T</td>\n",
       "      <td>VW Polo VI</td>\n",
       "      <td>economy</td>\n",
       "      <td>petrol</td>\n",
       "      <td>3.90</td>\n",
       "      <td>2015</td>\n",
       "      <td>78218</td>\n",
       "      <td>2021</td>\n",
       "      <td>35.20</td>\n",
       "      <td>electro_bug</td>\n",
       "    </tr>\n",
       "    <tr>\n",
       "      <th>2</th>\n",
       "      <td>d-2109686j</td>\n",
       "      <td>Renault Sandero</td>\n",
       "      <td>standart</td>\n",
       "      <td>petrol</td>\n",
       "      <td>6.30</td>\n",
       "      <td>2012</td>\n",
       "      <td>23340</td>\n",
       "      <td>2017</td>\n",
       "      <td>38.62</td>\n",
       "      <td>gear_stick</td>\n",
       "    </tr>\n",
       "    <tr>\n",
       "      <th>3</th>\n",
       "      <td>u29695600e</td>\n",
       "      <td>Mercedes-Benz GLC</td>\n",
       "      <td>business</td>\n",
       "      <td>petrol</td>\n",
       "      <td>4.04</td>\n",
       "      <td>2011</td>\n",
       "      <td>1263</td>\n",
       "      <td>2020</td>\n",
       "      <td>30.34</td>\n",
       "      <td>engine_fuel</td>\n",
       "    </tr>\n",
       "    <tr>\n",
       "      <th>4</th>\n",
       "      <td>N-8915870N</td>\n",
       "      <td>Renault Sandero</td>\n",
       "      <td>standart</td>\n",
       "      <td>petrol</td>\n",
       "      <td>4.70</td>\n",
       "      <td>2012</td>\n",
       "      <td>26428</td>\n",
       "      <td>2017</td>\n",
       "      <td>30.45</td>\n",
       "      <td>engine_fuel</td>\n",
       "    </tr>\n",
       "  </tbody>\n",
       "</table>\n",
       "</div>"
      ],
      "text/plain": [
       "       car_id              model  car_type fuel_type  car_rating  \\\n",
       "0  y13744087j     Kia Rio X-line   economy    petrol        3.78   \n",
       "1  O41613818T         VW Polo VI   economy    petrol        3.90   \n",
       "2  d-2109686j    Renault Sandero  standart    petrol        6.30   \n",
       "3  u29695600e  Mercedes-Benz GLC  business    petrol        4.04   \n",
       "4  N-8915870N    Renault Sandero  standart    petrol        4.70   \n",
       "\n",
       "   year_to_start  riders  year_to_work  target_reg target_class  \n",
       "0           2015   76163          2021      108.53  another_bug  \n",
       "1           2015   78218          2021       35.20  electro_bug  \n",
       "2           2012   23340          2017       38.62   gear_stick  \n",
       "3           2011    1263          2020       30.34  engine_fuel  \n",
       "4           2012   26428          2017       30.45  engine_fuel  "
      ]
     },
     "execution_count": 4,
     "metadata": {},
     "output_type": "execute_result"
    }
   ],
   "source": [
    "df_cars = pd.read_csv('../data/car_train.csv')\n",
    "df_cars.head()"
   ]
  },
  {
   "cell_type": "code",
   "execution_count": 40,
   "id": "4fa604a5-6eb0-4f2f-883e-07215c938008",
   "metadata": {},
   "outputs": [
    {
     "name": "stdout",
     "output_type": "stream",
     "text": [
      "<class 'pandas.core.frame.DataFrame'>\n",
      "RangeIndex: 2337 entries, 0 to 2336\n",
      "Data columns (total 10 columns):\n",
      " #   Column         Non-Null Count  Dtype  \n",
      "---  ------         --------------  -----  \n",
      " 0   car_id         2337 non-null   object \n",
      " 1   model          2337 non-null   object \n",
      " 2   car_type       2337 non-null   object \n",
      " 3   fuel_type      2337 non-null   object \n",
      " 4   car_rating     2337 non-null   float64\n",
      " 5   year_to_start  2337 non-null   int64  \n",
      " 6   riders         2337 non-null   int64  \n",
      " 7   year_to_work   2337 non-null   int64  \n",
      " 8   target_reg     2337 non-null   float64\n",
      " 9   target_class   2337 non-null   object \n",
      "dtypes: float64(2), int64(3), object(5)\n",
      "memory usage: 182.7+ KB\n"
     ]
    }
   ],
   "source": [
    "df_cars.info()"
   ]
  },
  {
   "cell_type": "code",
   "execution_count": 41,
   "id": "b92488a8-74d6-4721-a77c-df52f17b82c6",
   "metadata": {},
   "outputs": [
    {
     "name": "stdout",
     "output_type": "stream",
     "text": [
      "Memory usage of dataframe is 0.18 MB\n",
      "Memory usage after optimization is: 0.12 MB\n",
      "Decreased by 35.0%\n",
      "<class 'pandas.core.frame.DataFrame'>\n",
      "RangeIndex: 2337 entries, 0 to 2336\n",
      "Data columns (total 10 columns):\n",
      " #   Column         Non-Null Count  Dtype  \n",
      "---  ------         --------------  -----  \n",
      " 0   car_id         2337 non-null   object \n",
      " 1   model          2337 non-null   object \n",
      " 2   car_type       2337 non-null   object \n",
      " 3   fuel_type      2337 non-null   object \n",
      " 4   car_rating     2337 non-null   float16\n",
      " 5   year_to_start  2337 non-null   int16  \n",
      " 6   riders         2337 non-null   int32  \n",
      " 7   year_to_work   2337 non-null   int16  \n",
      " 8   target_reg     2337 non-null   float16\n",
      " 9   target_class   2337 non-null   object \n",
      "dtypes: float16(2), int16(2), int32(1), object(5)\n",
      "memory usage: 118.8+ KB\n"
     ]
    }
   ],
   "source": [
    "df_cars = reduce_mem_usage(df_cars)\n",
    "df_cars.info()"
   ]
  },
  {
   "cell_type": "markdown",
   "id": "f9638224-e0c0-4cbb-9c5b-efdea1ce1e32",
   "metadata": {
    "tags": []
   },
   "source": [
    "### Оптимизируем категориальные фичи"
   ]
  },
  {
   "cell_type": "code",
   "execution_count": 5,
   "id": "80f2bffc-e290-4031-a464-cd5073ea451e",
   "metadata": {},
   "outputs": [],
   "source": [
    "def convert_columns_to_catg(df, column_list):\n",
    "    for col in column_list:\n",
    "        print(\"converting\", col.ljust(30), \"size: \", round(df[col].memory_usage(deep=True)*1e-6,2), end=\"\\t\")\n",
    "        df[col] = df[col].astype(\"category\")\n",
    "        print(\"->\\t\", round(df[col].memory_usage(deep=True)*1e-6,2))"
   ]
  },
  {
   "cell_type": "code",
   "execution_count": 6,
   "id": "7b07fecd-8180-420b-9296-d4149bc491ed",
   "metadata": {},
   "outputs": [
    {
     "name": "stdout",
     "output_type": "stream",
     "text": [
      "507 µs ± 16.6 µs per loop (mean ± std. dev. of 7 runs, 1,000 loops each)\n"
     ]
    }
   ],
   "source": [
    "%%timeit\n",
    "df_cars.groupby('model')['car_type'].count()"
   ]
  },
  {
   "cell_type": "code",
   "execution_count": 7,
   "id": "10c9fc58-7f9b-4260-b230-bc83e9675599",
   "metadata": {},
   "outputs": [
    {
     "name": "stdout",
     "output_type": "stream",
     "text": [
      "converting model                          size:  0.16\t->\t 0.01\n",
      "converting car_type                       size:  0.15\t->\t 0.0\n",
      "converting fuel_type                      size:  0.15\t->\t 0.0\n",
      "converting target_class                   size:  0.16\t->\t 0.0\n"
     ]
    }
   ],
   "source": [
    "convert_columns_to_catg(df_cars, ['model', 'car_type', 'fuel_type', 'target_class'])"
   ]
  },
  {
   "cell_type": "code",
   "execution_count": 45,
   "id": "06b77267-5b21-41da-802f-5b12b5a1ca8b",
   "metadata": {},
   "outputs": [
    {
     "name": "stderr",
     "output_type": "stream",
     "text": [
      "<magic-timeit>:1: FutureWarning: The default of observed=False is deprecated and will be changed to True in a future version of pandas. Pass observed=False to retain current behavior or observed=True to adopt the future default and silence this warning.\n"
     ]
    },
    {
     "name": "stdout",
     "output_type": "stream",
     "text": [
      "288 µs ± 4.13 µs per loop (mean ± std. dev. of 7 runs, 1,000 loops each)\n"
     ]
    }
   ],
   "source": [
    "%%timeit\n",
    "df_cars.groupby('model')['car_type'].count()\n",
    "# При правильной типизации не только уменьшается память, но и возрастает скорость"
   ]
  },
  {
   "cell_type": "code",
   "execution_count": 46,
   "id": "70f8e424-426e-4e16-86c1-e7d04646e241",
   "metadata": {},
   "outputs": [
    {
     "name": "stdout",
     "output_type": "stream",
     "text": [
      "<class 'pandas.core.frame.DataFrame'>\n",
      "RangeIndex: 2337 entries, 0 to 2336\n",
      "Data columns (total 10 columns):\n",
      " #   Column         Non-Null Count  Dtype   \n",
      "---  ------         --------------  -----   \n",
      " 0   car_id         2337 non-null   object  \n",
      " 1   model          2337 non-null   category\n",
      " 2   car_type       2337 non-null   category\n",
      " 3   fuel_type      2337 non-null   category\n",
      " 4   car_rating     2337 non-null   float16 \n",
      " 5   year_to_start  2337 non-null   int16   \n",
      " 6   riders         2337 non-null   int32   \n",
      " 7   year_to_work   2337 non-null   int16   \n",
      " 8   target_reg     2337 non-null   float16 \n",
      " 9   target_class   2337 non-null   category\n",
      "dtypes: category(4), float16(2), int16(2), int32(1), object(1)\n",
      "memory usage: 56.8+ KB\n"
     ]
    }
   ],
   "source": [
    "df_cars.info()"
   ]
  },
  {
   "cell_type": "code",
   "execution_count": 47,
   "id": "c68403ef-05a9-4ace-b208-e73bcf6e9564",
   "metadata": {},
   "outputs": [
    {
     "data": {
      "text/plain": [
       "56.83203125"
      ]
     },
     "execution_count": 47,
     "metadata": {},
     "output_type": "execute_result"
    }
   ],
   "source": [
    "df_cars.memory_usage().sum() / 1024"
   ]
  },
  {
   "cell_type": "code",
   "execution_count": 48,
   "id": "f6482b93-acc2-4ae7-8df2-a5e807d57f09",
   "metadata": {},
   "outputs": [
    {
     "name": "stdout",
     "output_type": "stream",
     "text": [
      "converting car_id                         size:  0.16\t->\t 0.23\n"
     ]
    }
   ],
   "source": [
    "convert_columns_to_catg(df_cars, ['car_id'])"
   ]
  },
  {
   "cell_type": "code",
   "execution_count": 49,
   "id": "879fc8c5-3de8-4d47-8a4c-305dea5f16e6",
   "metadata": {},
   "outputs": [
    {
     "name": "stdout",
     "output_type": "stream",
     "text": [
      "<class 'pandas.core.frame.DataFrame'>\n",
      "RangeIndex: 2337 entries, 0 to 2336\n",
      "Data columns (total 10 columns):\n",
      " #   Column         Non-Null Count  Dtype   \n",
      "---  ------         --------------  -----   \n",
      " 0   car_id         2337 non-null   category\n",
      " 1   model          2337 non-null   category\n",
      " 2   car_type       2337 non-null   category\n",
      " 3   fuel_type      2337 non-null   category\n",
      " 4   car_rating     2337 non-null   float16 \n",
      " 5   year_to_start  2337 non-null   int16   \n",
      " 6   riders         2337 non-null   int32   \n",
      " 7   year_to_work   2337 non-null   int16   \n",
      " 8   target_reg     2337 non-null   float16 \n",
      " 9   target_class   2337 non-null   category\n",
      "dtypes: category(5), float16(2), int16(2), int32(1)\n",
      "memory usage: 125.9 KB\n"
     ]
    }
   ],
   "source": [
    "df_cars.info()"
   ]
  },
  {
   "cell_type": "markdown",
   "id": "98a38bad",
   "metadata": {
    "tags": []
   },
   "source": [
    "## <center>🥌 Ускорение при помощи `Numpy`</center>\n",
    "\n",
    "<p id=\"c3\"></p>   "
   ]
  },
  {
   "cell_type": "code",
   "execution_count": 2,
   "id": "32f4a3d1-05f1-4475-8b0d-fbd61b32d993",
   "metadata": {},
   "outputs": [],
   "source": [
    "import numpy as np"
   ]
  },
  {
   "cell_type": "markdown",
   "id": "07491f4d-ff65-4e28-9758-3669c2326281",
   "metadata": {},
   "source": [
    "<div class=\"alert alert-info\">\n",
    "\n",
    "Первое правило быстрого кода - используйте `numpy` везде, где можно. Он исполняется на чистом `C`, так что работает в сотни раз быстрее обычных циклов и list-ов. В общем, если можете написать код при помощи `numpy` - пишите."
   ]
  },
  {
   "cell_type": "markdown",
   "id": "6d41963f-898b-4167-9ca4-e50b9a1830ef",
   "metadata": {
    "tags": []
   },
   "source": [
    "### Инициализация"
   ]
  },
  {
   "cell_type": "markdown",
   "id": "13f14764-bb3b-4c44-b9f9-712f2d344232",
   "metadata": {},
   "source": [
    "<div class=\"alert alert-info\">\n",
    "\n",
    "Демонстрация скорости работы `numpy` на примере инициализации."
   ]
  },
  {
   "cell_type": "code",
   "execution_count": 9,
   "id": "32fbd0b4",
   "metadata": {},
   "outputs": [
    {
     "name": "stdout",
     "output_type": "stream",
     "text": [
      "37.7 ms ± 735 µs per loop (mean ± std. dev. of 7 runs, 10 loops each)\n"
     ]
    }
   ],
   "source": [
    "%%timeit\n",
    "\n",
    "a = list(range(1_000_000))"
   ]
  },
  {
   "cell_type": "code",
   "execution_count": 10,
   "id": "441fbfa5",
   "metadata": {},
   "outputs": [
    {
     "name": "stdout",
     "output_type": "stream",
     "text": [
      "868 µs ± 2.31 µs per loop (mean ± std. dev. of 7 runs, 1,000 loops each)\n"
     ]
    }
   ],
   "source": [
    "%%timeit\n",
    "\n",
    "b = np.arange(1_000_000)"
   ]
  },
  {
   "cell_type": "code",
   "execution_count": 4,
   "id": "24cc1750-752a-480c-a907-d82f60385705",
   "metadata": {},
   "outputs": [],
   "source": [
    "a = list(range(1_000_000))"
   ]
  },
  {
   "cell_type": "code",
   "execution_count": 5,
   "id": "259b7894-850b-4b36-b27f-28bb175b6e9e",
   "metadata": {},
   "outputs": [],
   "source": [
    "b = np.arange(1_000_000)"
   ]
  },
  {
   "cell_type": "code",
   "execution_count": 6,
   "id": "9c2a30b8-ab92-47c6-a12d-275d7222d7cf",
   "metadata": {},
   "outputs": [
    {
     "name": "stdout",
     "output_type": "stream",
     "text": [
      "563 µs ± 745 ns per loop (mean ± std. dev. of 7 runs, 1,000 loops each)\n"
     ]
    }
   ],
   "source": [
    "%%timeit\n",
    "100000 in a"
   ]
  },
  {
   "cell_type": "code",
   "execution_count": 7,
   "id": "39e4ff13-56c0-4a85-8593-7fd70a664eb8",
   "metadata": {},
   "outputs": [
    {
     "name": "stdout",
     "output_type": "stream",
     "text": [
      "528 µs ± 7.67 µs per loop (mean ± std. dev. of 7 runs, 1,000 loops each)\n"
     ]
    }
   ],
   "source": [
    "%%timeit\n",
    "100000 in b"
   ]
  },
  {
   "cell_type": "markdown",
   "id": "62c7f0d4-e6e6-439d-84f2-ccf109e40b40",
   "metadata": {
    "tags": []
   },
   "source": [
    "### Поэлементные функции"
   ]
  },
  {
   "cell_type": "markdown",
   "id": "9e37c71e-aa92-4757-b254-330b1feb2cca",
   "metadata": {},
   "source": [
    "<div class=\"alert alert-info\">\n",
    "\n",
    "Просто еще раз напомним, что `numpy` сильно быстрее поэлементных функций"
   ]
  },
  {
   "cell_type": "code",
   "execution_count": 8,
   "id": "8087e44e-8250-4257-a4fa-8e39585eedf4",
   "metadata": {},
   "outputs": [
    {
     "name": "stdout",
     "output_type": "stream",
     "text": [
      "64.4 ms ± 325 µs per loop (mean ± std. dev. of 7 runs, 10 loops each)\n"
     ]
    }
   ],
   "source": [
    "%%timeit\n",
    "[el * el for el in a]"
   ]
  },
  {
   "cell_type": "code",
   "execution_count": 9,
   "id": "af30b4f2-e8ed-4170-b29a-cb8e279ac16f",
   "metadata": {},
   "outputs": [
    {
     "name": "stdout",
     "output_type": "stream",
     "text": [
      "63 ms ± 1.68 ms per loop (mean ± std. dev. of 7 runs, 10 loops each)\n"
     ]
    }
   ],
   "source": [
    "%%timeit\n",
    "[el + 10 for el in a]"
   ]
  },
  {
   "cell_type": "code",
   "execution_count": 10,
   "id": "b29d58c4-5940-4e2b-a350-123c27724fd1",
   "metadata": {},
   "outputs": [
    {
     "name": "stdout",
     "output_type": "stream",
     "text": [
      "1.08 ms ± 3.49 µs per loop (mean ± std. dev. of 7 runs, 1,000 loops each)\n"
     ]
    }
   ],
   "source": [
    "%%timeit\n",
    "b * b"
   ]
  },
  {
   "cell_type": "code",
   "execution_count": 11,
   "id": "6a2b279d-13b7-414d-af57-f4ae756ec18f",
   "metadata": {},
   "outputs": [
    {
     "name": "stdout",
     "output_type": "stream",
     "text": [
      "975 µs ± 3.41 µs per loop (mean ± std. dev. of 7 runs, 1,000 loops each)\n"
     ]
    }
   ],
   "source": [
    "%%timeit\n",
    "b + 10"
   ]
  },
  {
   "cell_type": "markdown",
   "id": "bfbf7665",
   "metadata": {
    "tags": []
   },
   "source": [
    "### Aггрегирующие функции"
   ]
  },
  {
   "cell_type": "markdown",
   "id": "cb318c96-29b9-4739-8d7c-3e683fb26cd3",
   "metadata": {},
   "source": [
    "<div class=\"alert alert-info\">\n",
    "\n",
    "Методы и функции `numpy` работают быстрее, чем их обычные аналоги в питоне."
   ]
  },
  {
   "cell_type": "code",
   "execution_count": 12,
   "id": "13ff08cc",
   "metadata": {},
   "outputs": [
    {
     "name": "stdout",
     "output_type": "stream",
     "text": [
      "70.7 ms ± 3.47 ms per loop (mean ± std. dev. of 7 runs, 10 loops each)\n"
     ]
    }
   ],
   "source": [
    "%%timeit\n",
    "\n",
    "max(b)"
   ]
  },
  {
   "cell_type": "code",
   "execution_count": 13,
   "id": "d4e3484e",
   "metadata": {},
   "outputs": [
    {
     "name": "stdout",
     "output_type": "stream",
     "text": [
      "379 µs ± 2.35 µs per loop (mean ± std. dev. of 7 runs, 1,000 loops each)\n"
     ]
    }
   ],
   "source": [
    "%%timeit\n",
    "\n",
    "b.max()"
   ]
  },
  {
   "cell_type": "markdown",
   "id": "fe346a38",
   "metadata": {
    "tags": []
   },
   "source": [
    "### Когда использовать `list`?"
   ]
  },
  {
   "cell_type": "markdown",
   "id": "487f77ac-0b15-42af-a5ad-3cca9d545ac6",
   "metadata": {},
   "source": [
    "<div class=\"alert alert-info\">\n",
    "\n",
    "На самом деле, в одном случае `list` все-таки может быть быстрее. Если вы хотите добавлять много новых элементов, то добавление одного элемента в `list` происходит за O(1) и суммарно на всё тратится O(n) времени, а при добавлении в `numpy` массив, нам нужно его заново весь проинициализировать, даже если добавили всего один элемент, так что суммарное время работы будет O(n^2)."
   ]
  },
  {
   "cell_type": "code",
   "execution_count": 14,
   "id": "8bd5a950-6d97-4b0e-9826-4d3aa7d51b2d",
   "metadata": {},
   "outputs": [
    {
     "name": "stdout",
     "output_type": "stream",
     "text": [
      "317 ms ± 5.14 ms per loop (mean ± std. dev. of 7 runs, 1 loop each)\n"
     ]
    }
   ],
   "source": [
    "%%timeit\n",
    "\n",
    "a = np.zeros(0)\n",
    "for el in range(1000):\n",
    "    b = np.zeros(1000)\n",
    "    a = np.append(a, b)"
   ]
  },
  {
   "cell_type": "code",
   "execution_count": 15,
   "id": "4918c87a-d157-4ee0-86e3-f7db455ef425",
   "metadata": {},
   "outputs": [
    {
     "name": "stdout",
     "output_type": "stream",
     "text": [
      "31.8 ms ± 408 µs per loop (mean ± std. dev. of 7 runs, 10 loops each)\n"
     ]
    }
   ],
   "source": [
    "%%timeit\n",
    "\n",
    "a = []\n",
    "for el in range(1000):\n",
    "    b = [0 for i in range(1000)]\n",
    "    a += b"
   ]
  },
  {
   "cell_type": "markdown",
   "id": "22300bea-9b65-487a-8fc1-f8968e01f578",
   "metadata": {
    "tags": []
   },
   "source": [
    "### Используем `set()`"
   ]
  },
  {
   "cell_type": "markdown",
   "id": "a933cb4b-9b1a-4d79-a5df-1199be42c47b",
   "metadata": {},
   "source": [
    "<div class=\"alert alert-info\">\n",
    "\n",
    "Если нужно проверить наличие элементов в другом массиве и тот \"другой\" достаточно большой, то лучше использовать `set()`, так как в нем поиск элемента осуществляется за `O(log(n))`, а в `np.isin()` за `O(n)`. Так что, даже несмотря на то, что `numpy` оптимизирован, `set()` выигрывает его по времени."
   ]
  },
  {
   "cell_type": "code",
   "execution_count": 16,
   "id": "f86689a7-c8bf-410c-aa1f-ffdef3f46955",
   "metadata": {},
   "outputs": [],
   "source": [
    "a = np.arange(1000)\n",
    "b = np.arange(1000000) * -1"
   ]
  },
  {
   "cell_type": "code",
   "execution_count": 17,
   "id": "9c79ecb9-4b42-40e3-97f0-b39a645e90f1",
   "metadata": {},
   "outputs": [
    {
     "name": "stdout",
     "output_type": "stream",
     "text": [
      "5.45 ms ± 12.1 µs per loop (mean ± std. dev. of 7 runs, 100 loops each)\n"
     ]
    }
   ],
   "source": [
    "%%timeit\n",
    "np.isin(a, b)"
   ]
  },
  {
   "cell_type": "code",
   "execution_count": 18,
   "id": "909bfb53-cbbd-4a56-aac7-3c94eef5c497",
   "metadata": {},
   "outputs": [],
   "source": [
    "st = set(b)"
   ]
  },
  {
   "cell_type": "code",
   "execution_count": 19,
   "id": "0eaa7f71-fde8-483e-b830-9b94d9ad6593",
   "metadata": {},
   "outputs": [
    {
     "name": "stdout",
     "output_type": "stream",
     "text": [
      "91.4 µs ± 1.22 µs per loop (mean ± std. dev. of 7 runs, 10,000 loops each)\n"
     ]
    }
   ],
   "source": [
    "%%timeit\n",
    "[el in st for el in a]"
   ]
  },
  {
   "cell_type": "markdown",
   "id": "f1f64977",
   "metadata": {
    "tags": []
   },
   "source": [
    "## <center> 🍢 Векторизация в `pandas` </center>\n",
    "\n",
    "<p id=\"c4\"></p>   "
   ]
  },
  {
   "cell_type": "markdown",
   "id": "71c00fbe-165c-4130-a4de-d7b7a31a059c",
   "metadata": {},
   "source": [
    "<div class=\"alert alert-info\">\n",
    "Векторизация - это процесс, когда мы заменяем обычные поэлементные функции на операции сразу со всем вектором значений, что позволяет значительно прибавить в скорости."
   ]
  },
  {
   "cell_type": "code",
   "execution_count": 26,
   "id": "762c8d1a-ec1f-47c1-9868-c045aa209d3c",
   "metadata": {},
   "outputs": [
    {
     "data": {
      "text/html": [
       "<div>\n",
       "<style scoped>\n",
       "    .dataframe tbody tr th:only-of-type {\n",
       "        vertical-align: middle;\n",
       "    }\n",
       "\n",
       "    .dataframe tbody tr th {\n",
       "        vertical-align: top;\n",
       "    }\n",
       "\n",
       "    .dataframe thead th {\n",
       "        text-align: right;\n",
       "    }\n",
       "</style>\n",
       "<table border=\"1\" class=\"dataframe\">\n",
       "  <thead>\n",
       "    <tr style=\"text-align: right;\">\n",
       "      <th></th>\n",
       "      <th>car_id</th>\n",
       "      <th>model</th>\n",
       "      <th>car_type</th>\n",
       "      <th>fuel_type</th>\n",
       "      <th>car_rating</th>\n",
       "      <th>year_to_start</th>\n",
       "      <th>riders</th>\n",
       "      <th>year_to_work</th>\n",
       "      <th>target_reg</th>\n",
       "      <th>target_class</th>\n",
       "    </tr>\n",
       "  </thead>\n",
       "  <tbody>\n",
       "    <tr>\n",
       "      <th>0</th>\n",
       "      <td>y13744087j</td>\n",
       "      <td>Kia Rio X-line</td>\n",
       "      <td>economy</td>\n",
       "      <td>petrol</td>\n",
       "      <td>3.78</td>\n",
       "      <td>2015</td>\n",
       "      <td>76163</td>\n",
       "      <td>2021</td>\n",
       "      <td>108.53</td>\n",
       "      <td>another_bug</td>\n",
       "    </tr>\n",
       "    <tr>\n",
       "      <th>1</th>\n",
       "      <td>O41613818T</td>\n",
       "      <td>VW Polo VI</td>\n",
       "      <td>economy</td>\n",
       "      <td>petrol</td>\n",
       "      <td>3.90</td>\n",
       "      <td>2015</td>\n",
       "      <td>78218</td>\n",
       "      <td>2021</td>\n",
       "      <td>35.20</td>\n",
       "      <td>electro_bug</td>\n",
       "    </tr>\n",
       "    <tr>\n",
       "      <th>2</th>\n",
       "      <td>d-2109686j</td>\n",
       "      <td>Renault Sandero</td>\n",
       "      <td>standart</td>\n",
       "      <td>petrol</td>\n",
       "      <td>6.30</td>\n",
       "      <td>2012</td>\n",
       "      <td>23340</td>\n",
       "      <td>2017</td>\n",
       "      <td>38.62</td>\n",
       "      <td>gear_stick</td>\n",
       "    </tr>\n",
       "    <tr>\n",
       "      <th>3</th>\n",
       "      <td>u29695600e</td>\n",
       "      <td>Mercedes-Benz GLC</td>\n",
       "      <td>business</td>\n",
       "      <td>petrol</td>\n",
       "      <td>4.04</td>\n",
       "      <td>2011</td>\n",
       "      <td>1263</td>\n",
       "      <td>2020</td>\n",
       "      <td>30.34</td>\n",
       "      <td>engine_fuel</td>\n",
       "    </tr>\n",
       "    <tr>\n",
       "      <th>4</th>\n",
       "      <td>N-8915870N</td>\n",
       "      <td>Renault Sandero</td>\n",
       "      <td>standart</td>\n",
       "      <td>petrol</td>\n",
       "      <td>4.70</td>\n",
       "      <td>2012</td>\n",
       "      <td>26428</td>\n",
       "      <td>2017</td>\n",
       "      <td>30.45</td>\n",
       "      <td>engine_fuel</td>\n",
       "    </tr>\n",
       "  </tbody>\n",
       "</table>\n",
       "</div>"
      ],
      "text/plain": [
       "       car_id              model  car_type fuel_type  car_rating  \\\n",
       "0  y13744087j     Kia Rio X-line   economy    petrol        3.78   \n",
       "1  O41613818T         VW Polo VI   economy    petrol        3.90   \n",
       "2  d-2109686j    Renault Sandero  standart    petrol        6.30   \n",
       "3  u29695600e  Mercedes-Benz GLC  business    petrol        4.04   \n",
       "4  N-8915870N    Renault Sandero  standart    petrol        4.70   \n",
       "\n",
       "   year_to_start  riders  year_to_work  target_reg target_class  \n",
       "0           2015   76163          2021      108.53  another_bug  \n",
       "1           2015   78218          2021       35.20  electro_bug  \n",
       "2           2012   23340          2017       38.62   gear_stick  \n",
       "3           2011    1263          2020       30.34  engine_fuel  \n",
       "4           2012   26428          2017       30.45  engine_fuel  "
      ]
     },
     "execution_count": 26,
     "metadata": {},
     "output_type": "execute_result"
    }
   ],
   "source": [
    "df_cars.head()"
   ]
  },
  {
   "cell_type": "code",
   "execution_count": 28,
   "id": "17f7503f-5ed5-462d-9c4b-384e7c5e76e7",
   "metadata": {},
   "outputs": [
    {
     "data": {
      "text/plain": [
       "array(['economy', 'standart', 'business', 'premium'], dtype=object)"
      ]
     },
     "execution_count": 28,
     "metadata": {},
     "output_type": "execute_result"
    }
   ],
   "source": [
    "df_cars['car_type'].unique()"
   ]
  },
  {
   "cell_type": "markdown",
   "id": "c8a24c38-7ef8-4ff1-bc45-e90a7f7a5c42",
   "metadata": {},
   "source": [
    "### `Numpy.where()`"
   ]
  },
  {
   "cell_type": "markdown",
   "id": "7b72c675-d742-4ada-a31a-42be3ad97adc",
   "metadata": {},
   "source": [
    "<div class=\"alert alert-info\">\n",
    "\n",
    "Позволяет проверить какое-то условие и в зависимости от его результатов вернуть, то или иное значение. Векторный аналог `if-else`."
   ]
  },
  {
   "cell_type": "code",
   "execution_count": 29,
   "id": "aecc1b6d-3ca2-4f42-93fe-244ed3786a23",
   "metadata": {},
   "outputs": [],
   "source": [
    "def simple_if(x):\n",
    "    if x['car_rating'] < 3.78:\n",
    "        return x['car_type']\n",
    "    else:\n",
    "        return x['fuel_type']"
   ]
  },
  {
   "cell_type": "code",
   "execution_count": 30,
   "id": "9bea8102-c677-4100-8100-e59a9ca15275",
   "metadata": {},
   "outputs": [
    {
     "name": "stdout",
     "output_type": "stream",
     "text": [
      "21.9 ms ± 115 µs per loop (mean ± std. dev. of 7 runs, 10 loops each)\n"
     ]
    }
   ],
   "source": [
    "%%timeit\n",
    "df_cars.apply(simple_if, axis=1)"
   ]
  },
  {
   "cell_type": "code",
   "execution_count": 31,
   "id": "925af0c8-b509-4614-a693-8f36a2f9df59",
   "metadata": {},
   "outputs": [
    {
     "name": "stdout",
     "output_type": "stream",
     "text": [
      "50.1 µs ± 702 ns per loop (mean ± std. dev. of 7 runs, 10,000 loops each)\n"
     ]
    }
   ],
   "source": [
    "%%timeit\n",
    "# первое значение - это условие, \n",
    "# второе - что возвращать, если выполнено условие \n",
    "# третье - что возвращать, если не выполнено условие\n",
    "np.where(df_cars['car_rating'].values < 3.78, df_cars['car_type'].values, df_cars['fuel_type'].values)"
   ]
  },
  {
   "cell_type": "markdown",
   "id": "2c7887c1-f306-4bfc-8249-6acf97410bd3",
   "metadata": {},
   "source": [
    "### `Numpy.vectorize()`"
   ]
  },
  {
   "cell_type": "markdown",
   "id": "565eca07-8554-4068-9776-98f85d410c2e",
   "metadata": {},
   "source": [
    "<div class=\"alert alert-info\">\n",
    "Часть функции можно оставить поэлементными и просто засчет их векторизации, получить значительный прирост скорости. Однако работает это все равно медленнее, чем операции с векторами чисел."
   ]
  },
  {
   "cell_type": "code",
   "execution_count": 39,
   "id": "0a855e75-3d13-47bb-a5ea-7fd54cd3422e",
   "metadata": {},
   "outputs": [],
   "source": [
    "def simple_if2(car_rating, car_type, fuel_type):\n",
    "    if car_rating < 3.78:\n",
    "        return car_type\n",
    "    else:\n",
    "        return fuel_type"
   ]
  },
  {
   "cell_type": "code",
   "execution_count": 40,
   "id": "a1802c91-4712-4c91-be3f-929a620f8d4d",
   "metadata": {},
   "outputs": [],
   "source": [
    "vectfunc = np.vectorize(simple_if2)"
   ]
  },
  {
   "cell_type": "code",
   "execution_count": 41,
   "id": "501363c4-6441-4c38-aa25-616b9bc5d8fc",
   "metadata": {},
   "outputs": [
    {
     "name": "stdout",
     "output_type": "stream",
     "text": [
      "726 µs ± 10.6 µs per loop (mean ± std. dev. of 7 runs, 1,000 loops each)\n"
     ]
    }
   ],
   "source": [
    "%%timeit\n",
    "vectfunc(df_cars['car_rating'], df_cars['car_type'], df_cars['fuel_type'])"
   ]
  },
  {
   "cell_type": "markdown",
   "id": "a6b022e5-294d-4f0c-9408-227ab3818dce",
   "metadata": {},
   "source": [
    "### `Numpy.select()`"
   ]
  },
  {
   "cell_type": "markdown",
   "id": "3e132465-68bf-4356-a222-1c3b6787cf8b",
   "metadata": {},
   "source": [
    "<div class=\"alert alert-info\">\n",
    "\n",
    "Как `np.where()`, только для нескольких условий."
   ]
  },
  {
   "cell_type": "code",
   "execution_count": 42,
   "id": "9fe7de07-339b-44a6-a95b-2926ce80b0a4",
   "metadata": {},
   "outputs": [],
   "source": [
    "import re\n",
    "\n",
    "def hard_if(x):\n",
    "    if x['car_rating'] < 3:\n",
    "        if 'Audi' == x['model']:\n",
    "            return 0\n",
    "        else:\n",
    "            return 1\n",
    "    elif x['car_rating'] in [3, 4, 5]:\n",
    "        return 2\n",
    "    else:\n",
    "        return 3"
   ]
  },
  {
   "cell_type": "code",
   "execution_count": 43,
   "id": "0d86cd76-849c-492c-8179-f876dd7981ee",
   "metadata": {},
   "outputs": [
    {
     "name": "stdout",
     "output_type": "stream",
     "text": [
      "21.8 ms ± 41.4 µs per loop (mean ± std. dev. of 7 runs, 10 loops each)\n"
     ]
    }
   ],
   "source": [
    "%%timeit\n",
    "df_cars.apply(simple_if, axis=1)"
   ]
  },
  {
   "cell_type": "code",
   "execution_count": 44,
   "id": "dcd211bb-49c7-4fdb-bcae-2b3efa9eaf50",
   "metadata": {},
   "outputs": [
    {
     "name": "stdout",
     "output_type": "stream",
     "text": [
      "835 µs ± 7.56 µs per loop (mean ± std. dev. of 7 runs, 1,000 loops each)\n"
     ]
    }
   ],
   "source": [
    "%%timeit\n",
    "conditions = [\n",
    "    (df_cars['car_rating'] < 3) & (df_cars['model'] == 'Audi'),\n",
    "    (df_cars['car_rating'] < 3),\n",
    "    df_cars['car_rating'].isin([3, 4, 5])\n",
    "]\n",
    "\n",
    "choices = [0, 1, 2]\n",
    "np.select(conditions, choices, default=3)"
   ]
  },
  {
   "cell_type": "markdown",
   "id": "08f7d12c-4370-4e96-8920-3f33e2755e5c",
   "metadata": {},
   "source": [
    "### Переписываем словари"
   ]
  },
  {
   "cell_type": "markdown",
   "id": "dfb406e2-8801-47df-bd65-32497b4b3123",
   "metadata": {},
   "source": [
    "<div class=\"alert alert-info\">\n",
    "На самом деле, обращаться к значению из словаря тоже можно быстро."
   ]
  },
  {
   "cell_type": "code",
   "execution_count": 45,
   "id": "7acd13c1-cac3-4d61-8230-f4b1dbdd459a",
   "metadata": {},
   "outputs": [],
   "source": [
    "mydict = {'economy': 0,\n",
    "          'standart': 1,\n",
    "          'business': 2,\n",
    "          'premium': 3}\n",
    "\n",
    "def f(x):\n",
    "    if x['car_rating'] > 5:\n",
    "        return mydict[x['car_type']]\n",
    "    else:\n",
    "        return np.nan"
   ]
  },
  {
   "cell_type": "code",
   "execution_count": 51,
   "id": "5c5fb6c5-229c-4905-86b7-3d086f70f8ed",
   "metadata": {},
   "outputs": [
    {
     "name": "stdout",
     "output_type": "stream",
     "text": [
      "17.6 ms ± 79.7 µs per loop (mean ± std. dev. of 7 runs, 100 loops each)\n"
     ]
    }
   ],
   "source": [
    "%%timeit\n",
    "df_cars.apply(f, axis=1)"
   ]
  },
  {
   "cell_type": "code",
   "execution_count": 52,
   "id": "3c7e3720-bba7-4301-9d31-e0096bbe30c9",
   "metadata": {},
   "outputs": [
    {
     "name": "stdout",
     "output_type": "stream",
     "text": [
      "518 µs ± 3.58 µs per loop (mean ± std. dev. of 7 runs, 1,000 loops each)\n"
     ]
    }
   ],
   "source": [
    "%%timeit\n",
    "np.where(df_cars['car_rating'] > 5, df_cars['car_type'].map(mydict), np.nan)"
   ]
  },
  {
   "cell_type": "markdown",
   "id": "c03fbe3c-7934-4892-9489-8adda002eb4d",
   "metadata": {},
   "source": [
    "### Пишем `groupby` на `numpy`"
   ]
  },
  {
   "cell_type": "markdown",
   "id": "95def73a-fb20-4933-bbbb-6f2d6d7b5066",
   "metadata": {},
   "source": [
    "<div class=\"alert alert-info\">\n",
    "\n",
    "`pd.groupby()` - одна из самых часто используемых и полезных функций в пандасе, которую можно ускорить до 30 раз при помощи `numpy`!"
   ]
  },
  {
   "cell_type": "code",
   "execution_count": 20,
   "id": "de9ce54b-8612-4259-9cf5-53e274a2a512",
   "metadata": {},
   "outputs": [
    {
     "data": {
      "text/html": [
       "<div>\n",
       "<style scoped>\n",
       "    .dataframe tbody tr th:only-of-type {\n",
       "        vertical-align: middle;\n",
       "    }\n",
       "\n",
       "    .dataframe tbody tr th {\n",
       "        vertical-align: top;\n",
       "    }\n",
       "\n",
       "    .dataframe thead th {\n",
       "        text-align: right;\n",
       "    }\n",
       "</style>\n",
       "<table border=\"1\" class=\"dataframe\">\n",
       "  <thead>\n",
       "    <tr style=\"text-align: right;\">\n",
       "      <th></th>\n",
       "      <th>car_id</th>\n",
       "      <th>model</th>\n",
       "      <th>car_type</th>\n",
       "      <th>fuel_type</th>\n",
       "      <th>car_rating</th>\n",
       "      <th>year_to_start</th>\n",
       "      <th>riders</th>\n",
       "      <th>year_to_work</th>\n",
       "      <th>target_reg</th>\n",
       "      <th>target_class</th>\n",
       "    </tr>\n",
       "  </thead>\n",
       "  <tbody>\n",
       "    <tr>\n",
       "      <th>0</th>\n",
       "      <td>y13744087j</td>\n",
       "      <td>Kia Rio X-line</td>\n",
       "      <td>economy</td>\n",
       "      <td>petrol</td>\n",
       "      <td>3.78</td>\n",
       "      <td>2015</td>\n",
       "      <td>76163</td>\n",
       "      <td>2021</td>\n",
       "      <td>108.53</td>\n",
       "      <td>another_bug</td>\n",
       "    </tr>\n",
       "    <tr>\n",
       "      <th>1</th>\n",
       "      <td>O41613818T</td>\n",
       "      <td>VW Polo VI</td>\n",
       "      <td>economy</td>\n",
       "      <td>petrol</td>\n",
       "      <td>3.90</td>\n",
       "      <td>2015</td>\n",
       "      <td>78218</td>\n",
       "      <td>2021</td>\n",
       "      <td>35.20</td>\n",
       "      <td>electro_bug</td>\n",
       "    </tr>\n",
       "    <tr>\n",
       "      <th>2</th>\n",
       "      <td>d-2109686j</td>\n",
       "      <td>Renault Sandero</td>\n",
       "      <td>standart</td>\n",
       "      <td>petrol</td>\n",
       "      <td>6.30</td>\n",
       "      <td>2012</td>\n",
       "      <td>23340</td>\n",
       "      <td>2017</td>\n",
       "      <td>38.62</td>\n",
       "      <td>gear_stick</td>\n",
       "    </tr>\n",
       "    <tr>\n",
       "      <th>3</th>\n",
       "      <td>u29695600e</td>\n",
       "      <td>Mercedes-Benz GLC</td>\n",
       "      <td>business</td>\n",
       "      <td>petrol</td>\n",
       "      <td>4.04</td>\n",
       "      <td>2011</td>\n",
       "      <td>1263</td>\n",
       "      <td>2020</td>\n",
       "      <td>30.34</td>\n",
       "      <td>engine_fuel</td>\n",
       "    </tr>\n",
       "    <tr>\n",
       "      <th>4</th>\n",
       "      <td>N-8915870N</td>\n",
       "      <td>Renault Sandero</td>\n",
       "      <td>standart</td>\n",
       "      <td>petrol</td>\n",
       "      <td>4.70</td>\n",
       "      <td>2012</td>\n",
       "      <td>26428</td>\n",
       "      <td>2017</td>\n",
       "      <td>30.45</td>\n",
       "      <td>engine_fuel</td>\n",
       "    </tr>\n",
       "  </tbody>\n",
       "</table>\n",
       "</div>"
      ],
      "text/plain": [
       "       car_id              model  car_type fuel_type  car_rating  \\\n",
       "0  y13744087j     Kia Rio X-line   economy    petrol        3.78   \n",
       "1  O41613818T         VW Polo VI   economy    petrol        3.90   \n",
       "2  d-2109686j    Renault Sandero  standart    petrol        6.30   \n",
       "3  u29695600e  Mercedes-Benz GLC  business    petrol        4.04   \n",
       "4  N-8915870N    Renault Sandero  standart    petrol        4.70   \n",
       "\n",
       "   year_to_start  riders  year_to_work  target_reg target_class  \n",
       "0           2015   76163          2021      108.53  another_bug  \n",
       "1           2015   78218          2021       35.20  electro_bug  \n",
       "2           2012   23340          2017       38.62   gear_stick  \n",
       "3           2011    1263          2020       30.34  engine_fuel  \n",
       "4           2012   26428          2017       30.45  engine_fuel  "
      ]
     },
     "execution_count": 20,
     "metadata": {},
     "output_type": "execute_result"
    }
   ],
   "source": [
    "import pandas as pd\n",
    "\n",
    "df_cars = pd.read_csv('../data/car_train.csv')\n",
    "df_cars.head()\n",
    "# df_cars.info()"
   ]
  },
  {
   "cell_type": "markdown",
   "id": "dd8e5b6b-a53a-4e98-83eb-b76f584a9bcc",
   "metadata": {},
   "source": [
    "### Считаем количество значений в группе"
   ]
  },
  {
   "cell_type": "markdown",
   "id": "1448eeb7-514e-406d-8aa1-d000afa95217",
   "metadata": {},
   "source": [
    "<div class=\"alert alert-info\">\n",
    "\n",
    "Для того, чтобы посчитать кол-во значений в каждой группе, мы можем воспользоваться функцией `np.bincount()`"
   ]
  },
  {
   "cell_type": "code",
   "execution_count": 6,
   "id": "374f13bd-a55c-4635-90a2-28f523d105ad",
   "metadata": {},
   "outputs": [
    {
     "name": "stdout",
     "output_type": "stream",
     "text": [
      "813 µs ± 3.62 µs per loop (mean ± std. dev. of 7 runs, 1,000 loops each)\n"
     ]
    }
   ],
   "source": [
    "%%timeit\n",
    "df_cars.groupby(['model', 'fuel_type'])['target_reg'].count()"
   ]
  },
  {
   "cell_type": "code",
   "execution_count": 7,
   "id": "1d999427-2248-46fb-a896-7fad142452ff",
   "metadata": {},
   "outputs": [],
   "source": [
    "from sklearn import preprocessing\n",
    "lbl = preprocessing.LabelEncoder()\n",
    "df_cars['int_model'] = lbl.fit_transform((df_cars['model'] + df_cars['fuel_type']).astype(str))"
   ]
  },
  {
   "cell_type": "code",
   "execution_count": 8,
   "id": "576598d2-4f73-419c-b84f-a1612508012d",
   "metadata": {},
   "outputs": [
    {
     "name": "stdout",
     "output_type": "stream",
     "text": [
      "12.6 µs ± 62.4 ns per loop (mean ± std. dev. of 7 runs, 100,000 loops each)\n"
     ]
    }
   ],
   "source": [
    "%%timeit\n",
    "np.bincount(df_cars['int_model'])"
   ]
  },
  {
   "cell_type": "code",
   "execution_count": 9,
   "id": "38b99cd2-6dca-472a-bf6a-23488a6d84c8",
   "metadata": {},
   "outputs": [
    {
     "data": {
      "text/plain": [
       "True"
      ]
     },
     "execution_count": 9,
     "metadata": {},
     "output_type": "execute_result"
    }
   ],
   "source": [
    "gb_values = df_cars.groupby(['int_model'])['target_reg'].count()\n",
    "np_values = np.bincount(df_cars['int_model'])\n",
    "\n",
    "(gb_values == np_values).all()"
   ]
  },
  {
   "attachments": {},
   "cell_type": "markdown",
   "id": "c7d3b512-7e98-4250-8462-ff91d8e143c6",
   "metadata": {
    "tags": []
   },
   "source": [
    "Пример работы `np.bincount`:\n",
    "\n",
    "<center> <img src = '../images/numpy-bincount.png' width=550>\n",
    "<!-- ![image.png](attachment:4034fb01-3672-485b-b44c-e57537aa033b.png) -->"
   ]
  },
  {
   "cell_type": "markdown",
   "id": "a01e91e1-e8a2-40a1-9438-1cdd7ef20d91",
   "metadata": {},
   "source": [
    "### Считаем сумму/среднее"
   ]
  },
  {
   "cell_type": "markdown",
   "id": "a539c3df-af51-4121-a2c8-4bdf720a7560",
   "metadata": {},
   "source": [
    "<div class=\"alert alert-info\">\n",
    "\n",
    "Для того, чтобы посчитать сумму значений в каждой группе, мы можем воспользоваться `np.bincount(weights=your_weights)`"
   ]
  },
  {
   "cell_type": "code",
   "execution_count": 10,
   "id": "3c8ab6a1-0fba-48a1-b035-c50fce5960ea",
   "metadata": {},
   "outputs": [
    {
     "name": "stdout",
     "output_type": "stream",
     "text": [
      "869 µs ± 2.3 µs per loop (mean ± std. dev. of 7 runs, 1,000 loops each)\n"
     ]
    }
   ],
   "source": [
    "%%timeit\n",
    "df_cars.groupby(['model', 'fuel_type'])['target_reg'].sum()"
   ]
  },
  {
   "cell_type": "code",
   "execution_count": 11,
   "id": "f58ce01f-54f5-47e9-9301-d7832e63b48a",
   "metadata": {},
   "outputs": [
    {
     "name": "stdout",
     "output_type": "stream",
     "text": [
      "21.4 µs ± 768 ns per loop (mean ± std. dev. of 7 runs, 10,000 loops each)\n"
     ]
    }
   ],
   "source": [
    "%%timeit\n",
    "np.bincount(df_cars['int_model'], weights=df_cars['target_reg'])"
   ]
  },
  {
   "cell_type": "code",
   "execution_count": 12,
   "id": "f17df618-fb43-4877-9343-013f81be577f",
   "metadata": {},
   "outputs": [
    {
     "data": {
      "text/plain": [
       "True"
      ]
     },
     "execution_count": 12,
     "metadata": {},
     "output_type": "execute_result"
    }
   ],
   "source": [
    "gb_values = df_cars.groupby(['int_model'])['target_reg'].sum()\n",
    "np_values = np.bincount(df_cars['int_model'], weights=df_cars['target_reg'])\n",
    "\n",
    "(gb_values.round(10) == np_values.round(10)).all()"
   ]
  },
  {
   "cell_type": "markdown",
   "id": "065bf7f0-fcdb-402d-821c-68a3116ad1bd",
   "metadata": {},
   "source": [
    "### Считаем минимум/максимум"
   ]
  },
  {
   "cell_type": "markdown",
   "id": "1ee48069-a1f7-4d46-a639-3fd66ac3e86b",
   "metadata": {},
   "source": [
    "<div class=\"alert alert-info\">\n",
    "\n",
    "Для того, чтобы посчитать такие функцие как максимум, минимум, произведение и т.д., нам потребуется `np.ufunc.reduceat()`"
   ]
  },
  {
   "cell_type": "code",
   "execution_count": 13,
   "id": "4bca6ddf-6a60-414b-b8f7-193a7d7ab818",
   "metadata": {},
   "outputs": [
    {
     "name": "stdout",
     "output_type": "stream",
     "text": [
      "496 µs ± 4.01 µs per loop (mean ± std. dev. of 7 runs, 1,000 loops each)\n"
     ]
    }
   ],
   "source": [
    "%%timeit\n",
    "df_cars.groupby(['int_model'])['target_reg'].agg(['max'])"
   ]
  },
  {
   "cell_type": "code",
   "execution_count": 14,
   "id": "e5826bff-0d43-401e-8700-4b1b17aaee36",
   "metadata": {
    "tags": []
   },
   "outputs": [
    {
     "name": "stdout",
     "output_type": "stream",
     "text": [
      "189 µs ± 495 ns per loop (mean ± std. dev. of 7 runs, 10,000 loops each)\n"
     ]
    }
   ],
   "source": [
    "%%timeit\n",
    "indices = df_cars['int_model']\n",
    "max_values = np.maximum.reduceat(df_cars['target_reg'].values[np.argsort(indices)],\n",
    "                                 np.concatenate(([0], np.cumsum(np.bincount(indices))))[:-1])\n",
    "max_values"
   ]
  },
  {
   "cell_type": "code",
   "execution_count": 16,
   "id": "164b4fbc-fa08-4517-a26c-8dbfa7657255",
   "metadata": {},
   "outputs": [
    {
     "data": {
      "text/plain": [
       "True"
      ]
     },
     "execution_count": 16,
     "metadata": {},
     "output_type": "execute_result"
    }
   ],
   "source": [
    "indices = df_cars['int_model']\n",
    "np_values = np.maximum.reduceat(df_cars['target_reg'].values[np.argsort(indices)],\n",
    "                                 np.concatenate(([0], np.cumsum(np.bincount(indices))))[:-1])\n",
    "\n",
    "gb_values = df_cars.groupby(['int_model'])['target_reg'].agg('max')\n",
    "(gb_values.round(10) == np_values.round(10)).all()"
   ]
  },
  {
   "cell_type": "code",
   "execution_count": 17,
   "id": "9de4b34b-7610-4491-8011-44362b5f2c45",
   "metadata": {},
   "outputs": [
    {
     "data": {
      "text/plain": [
       "(array([1168,  645,  189, ..., 1209, 1123, 1659]),\n",
       " array([ 0,  0,  0, ..., 25, 25, 25]))"
      ]
     },
     "execution_count": 17,
     "metadata": {},
     "output_type": "execute_result"
    }
   ],
   "source": [
    "# возвращает перестановку чисел от 0 до n - 1, в которой элементы отсортированы по возрастанию\n",
    "np.argsort(indices).values, df_cars['int_model'].values[np.argsort(indices)]"
   ]
  },
  {
   "cell_type": "code",
   "execution_count": 18,
   "id": "712b21eb-4cd6-4a96-bcd4-47c444a429e1",
   "metadata": {},
   "outputs": [
    {
     "data": {
      "text/plain": [
       "(array([ 17,  20,  21,  16,  18, 161, 140, 143, 111, 147,  21,  23,  17,\n",
       "         22, 146, 154, 152, 147, 118, 158, 130,  14, 152, 141, 135,  13]),\n",
       " array([  17,   37,   58,   74,   92,  253,  393,  536,  647,  794,  815,\n",
       "         838,  855,  877, 1023, 1177, 1329, 1476, 1594, 1752, 1882, 1896,\n",
       "        2048, 2189, 2324, 2337]))"
      ]
     },
     "execution_count": 18,
     "metadata": {},
     "output_type": "execute_result"
    }
   ],
   "source": [
    "# i-ый элемент хранит в себе сумму элементов первых i значений\n",
    "np.bincount(indices), np.cumsum(np.bincount(indices))"
   ]
  },
  {
   "cell_type": "code",
   "execution_count": 19,
   "id": "6ad2a098-d362-4de6-9f6c-b192ab4a63ea",
   "metadata": {},
   "outputs": [
    {
     "data": {
      "text/plain": [
       "array([   0,   17,   37,   58,   74,   92,  253,  393,  536,  647,  794,\n",
       "        815,  838,  855,  877, 1023, 1177, 1329, 1476, 1594, 1752, 1882,\n",
       "       1896, 2048, 2189, 2324])"
      ]
     },
     "execution_count": 19,
     "metadata": {},
     "output_type": "execute_result"
    }
   ],
   "source": [
    "# сдвигаем так, чтобы значения массива означали позиции начала групп\n",
    "np.concatenate(([0], np.cumsum(np.bincount(indices))))[:-1]"
   ]
  },
  {
   "cell_type": "markdown",
   "id": "f58bcad5-bb3f-46ba-8aec-154e5957b879",
   "metadata": {
    "tags": []
   },
   "source": [
    "## <center> ⚡️ `Numba Jit` - преврати python в ракету </center>\n",
    "\n",
    "<p id=\"c5\"></p>   "
   ]
  },
  {
   "cell_type": "markdown",
   "id": "e4e5b623-9f2d-496a-a078-41dfa64aefee",
   "metadata": {},
   "source": [
    "<div class=\"alert alert-info\">\n",
    "\n",
    "Если нужно что-то кастомное, что нельзя переписать на `numpy`, но нужно чтобы работало быстро, то `numba.jit` вам в помощь. Он конвертирует, написанный вами на питоне, код в `С` и засчет этого работает на порядок (а иногда и на несколько) быстрее, чем обычный питон. Однако, поддерживает он не весь питоновский функционал и внутри него нельзя использовать разные библиотечные функции, так что в основном используется для низкоуровневой оптимизации."
   ]
  },
  {
   "cell_type": "code",
   "execution_count": 21,
   "id": "a7f26b8a-34a0-4a3f-ae5d-7308138a14c2",
   "metadata": {},
   "outputs": [],
   "source": [
    "!pip install numba -q"
   ]
  },
  {
   "cell_type": "code",
   "execution_count": 25,
   "id": "be3ae831-71af-4e90-bf41-ebe78613f68c",
   "metadata": {},
   "outputs": [],
   "source": [
    "from numba import jit\n",
    "\n",
    "@jit(nopython=True)\n",
    "def f(n):\n",
    "    s = 0.\n",
    "    for i in range(n):\n",
    "        s += i ** 0.5\n",
    "    return s"
   ]
  },
  {
   "cell_type": "code",
   "execution_count": 24,
   "id": "6ab49165-d46a-4a1f-bcf0-19a8a2e4a26a",
   "metadata": {},
   "outputs": [
    {
     "name": "stdout",
     "output_type": "stream",
     "text": [
      "1.31 ms ± 49.6 µs per loop (mean ± std. dev. of 7 runs, 1,000 loops each)\n"
     ]
    }
   ],
   "source": [
    "%%timeit\n",
    "f(10000)"
   ]
  },
  {
   "cell_type": "code",
   "execution_count": 26,
   "id": "c20830fb-e137-471f-8875-eae95cd6414a",
   "metadata": {},
   "outputs": [
    {
     "name": "stdout",
     "output_type": "stream",
     "text": [
      "26.9 µs ± 25.7 ns per loop (mean ± std. dev. of 7 runs, 10,000 loops each)\n"
     ]
    }
   ],
   "source": [
    "%%timeit\n",
    "f(10000)"
   ]
  },
  {
   "cell_type": "code",
   "execution_count": 28,
   "id": "5cbe34d3-cf13-4b1d-9a19-fc6d91a4cd63",
   "metadata": {},
   "outputs": [],
   "source": [
    "@jit(nopython=True)\n",
    "def monotonically_increasing(a):\n",
    "    max_value = 0\n",
    "    for i in range(len(a)):\n",
    "        if a[i] > max_value:\n",
    "            max_value = a[i]\n",
    "        a[i] = max_value\n",
    "    return a"
   ]
  },
  {
   "cell_type": "code",
   "execution_count": 29,
   "id": "92aa7818-d7fc-4db6-9261-8063dac42a16",
   "metadata": {},
   "outputs": [
    {
     "name": "stdout",
     "output_type": "stream",
     "text": [
      "551 µs ± 17.1 µs per loop (mean ± std. dev. of 7 runs, 1,000 loops each)\n"
     ]
    }
   ],
   "source": [
    "%%timeit\n",
    "monotonically_increasing(df_cars['target_reg'].values)"
   ]
  },
  {
   "cell_type": "code",
   "execution_count": 30,
   "id": "fd20cc78-3a5b-40aa-aeba-33c885857c37",
   "metadata": {},
   "outputs": [
    {
     "name": "stdout",
     "output_type": "stream",
     "text": [
      "530 µs ± 21.1 µs per loop (mean ± std. dev. of 7 runs, 1,000 loops each)\n"
     ]
    }
   ],
   "source": [
    "%%timeit\n",
    "monotonically_increasing(df_cars['target_reg'].values)"
   ]
  },
  {
   "cell_type": "markdown",
   "id": "0d2318c8-bcf0-4b2d-9b5f-c9d24e624561",
   "metadata": {},
   "source": [
    "## <center> 🧵 Multiprocessing </center>\n",
    "<p id=\"c6\"></p>   "
   ]
  },
  {
   "cell_type": "markdown",
   "id": "6d73b697-c95f-4d00-8657-f92845e27d76",
   "metadata": {},
   "source": [
    "<div class=\"alert alert-info\">\n",
    " \n",
    "С помощью `multiprocessing`, можно ускорить вообще практически все. Он позвлоляет использовать не одно ядро вашего компьютера, а сразу несколько и, соответственно, ускорить вычисления (уже не только `io-bound`, но еще и `cpu-bound`) в количество раз, пропорциональное количеству доступных ядер."
   ]
  },
  {
   "cell_type": "code",
   "execution_count": 33,
   "id": "3487fab2-a276-4270-acc3-87b805431300",
   "metadata": {},
   "outputs": [],
   "source": [
    "!pip install pymorphy2 -q"
   ]
  },
  {
   "cell_type": "code",
   "execution_count": null,
   "id": "2614ae4c-eca5-4f42-9d62-0caf2a3f61de",
   "metadata": {},
   "outputs": [],
   "source": [
    "df = pd.read_pickle('../data/blending/text_transformer_data.pkl')\n",
    "df.head()"
   ]
  },
  {
   "cell_type": "code",
   "execution_count": null,
   "id": "856df119-33ef-4027-aa19-d39f2821cb9b",
   "metadata": {},
   "outputs": [],
   "source": [
    "import nltk\n",
    "from nltk.corpus import stopwords\n",
    "from nltk.tokenize import word_tokenize\n",
    "import pymorphy2\n",
    "\n",
    "nltk.download('stopwords')\n",
    "stop_words = set(stopwords.words('russian'))\n",
    "\n",
    "def text_prepare(text):\n",
    "    lemmatizer = pymorphy2.MorphAnalyzer()\n",
    "    word_tokens = word_tokenize(text)\n",
    "    word_tokens = [w for w in word_tokens if not w in stop_words]\n",
    "    word_tokens = [lemmatizer.parse(w)[0].normal_form for w in word_tokens]\n",
    "    filtered_text = ' '.join(word_tokens)\n",
    "    return filtered_text"
   ]
  },
  {
   "cell_type": "code",
   "execution_count": null,
   "id": "a464704d-48af-48c1-baf5-166f3d09e0de",
   "metadata": {},
   "outputs": [],
   "source": [
    "%%time\n",
    "\n",
    "tmp = df['text'].apply(text_prepare)"
   ]
  },
  {
   "cell_type": "code",
   "execution_count": null,
   "id": "aea269f7-f374-4935-a6c1-abf07cb8929b",
   "metadata": {},
   "outputs": [],
   "source": [
    "from multiprocessing import Pool"
   ]
  },
  {
   "cell_type": "code",
   "execution_count": null,
   "id": "5fc23736-1fc9-48ee-aa3e-e983e45ce8da",
   "metadata": {},
   "outputs": [],
   "source": [
    "def parallelize_dataframe(df, func, n_cores=4):\n",
    "    \n",
    "    df_split = np.array_split(df, n_cores)\n",
    "    \n",
    "    pool = Pool(n_cores)\n",
    "    \n",
    "    df = np.concatenate(pool.map(func, df_split))\n",
    "    \n",
    "    pool.close()\n",
    "    pool.join()\n",
    "    return df\n",
    "\n",
    "def many_row_prepare(df, text_col='text'):\n",
    "    res = []\n",
    "    for text in df[text_col]:\n",
    "        res.append(text_prepare(text))\n",
    "    return res"
   ]
  },
  {
   "cell_type": "code",
   "execution_count": null,
   "id": "8725a0cc-775a-4b0d-94a2-30ccf50e664a",
   "metadata": {},
   "outputs": [],
   "source": [
    "%%time\n",
    "tmp = parallelize_dataframe(df, many_row_prepare)"
   ]
  },
  {
   "cell_type": "markdown",
   "id": "5c86892e-d888-4dc3-a633-22f74fa7a656",
   "metadata": {},
   "source": [
    "## <center> 👻 Выводы </center>\n",
    "\n",
    "<p id=\"c7\"></p>   "
   ]
  },
  {
   "cell_type": "markdown",
   "id": "35a849f7-2f76-4dd5-90e9-9c415ea52d77",
   "metadata": {},
   "source": [
    "<div class=\"alert alert-info\">\n",
    "    \n",
    "Ускорение вычислений и оптимизация памяти - это важные задачи, с которыми периодически можно столкнуться во время написания соревнований или просто при работе с большим количеством данных. В данном уроке мы рассмотрели основные способы решения этих задач и как их применять на практике.\n",
    "    \n",
    "Если тебе нужно ускорить твой код, то:\n",
    "* Замени всё, что можно, на `numpy`\n",
    "* Оставшееся перепиши на `numba.jit`\n",
    "* Если предыдущих двух пунктов не хватило, то используй `multiprocessing`\n",
    "\n",
    "Если нужно оптимизировать память, то:\n",
    "* Примени хранение/считывание при помощи `pickle`\n",
    "* Примени правильное расставление типов\n",
    "* Если тебе не нужен весь датасет за раз, то можно считывать его по частям"
   ]
  }
 ],
 "metadata": {
  "kernelspec": {
   "display_name": "cv",
   "language": "python",
   "name": "python3"
  },
  "language_info": {
   "codemirror_mode": {
    "name": "ipython",
    "version": 3
   },
   "file_extension": ".py",
   "mimetype": "text/x-python",
   "name": "python",
   "nbconvert_exporter": "python",
   "pygments_lexer": "ipython3",
   "version": "3.10.12"
  }
 },
 "nbformat": 4,
 "nbformat_minor": 5
}
