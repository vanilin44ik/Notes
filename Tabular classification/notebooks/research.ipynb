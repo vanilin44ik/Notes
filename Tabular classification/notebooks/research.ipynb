{
 "cells": [
  {
   "cell_type": "markdown",
   "metadata": {},
   "source": [
    "# <center>🌀 Research 〽️</center>"
   ]
  },
  {
   "cell_type": "code",
   "execution_count": null,
   "metadata": {},
   "outputs": [],
   "source": [
    "import matplotlib.pyplot as plt\n",
    "import seaborn as sns\n",
    "\n",
    "import pandas as pd\n",
    "import numpy as np"
   ]
  },
  {
   "cell_type": "code",
   "execution_count": null,
   "metadata": {},
   "outputs": [],
   "source": [
    "df = pd.read_csv(\"../data/train.csv\", nrows=100_000)\n",
    "target_name = ''"
   ]
  },
  {
   "cell_type": "code",
   "execution_count": null,
   "metadata": {},
   "outputs": [],
   "source": [
    "# Функция для фильтрации выбросов на основе интерквартильного размаха\n",
    "def remove_outliers(df, columns):\n",
    "    for col in columns:\n",
    "        Q1 = df[col].quantile(0.25)\n",
    "        Q3 = df[col].quantile(0.75)\n",
    "        IQR = Q3 - Q1\n",
    "        df = df[(df[col] >= Q1 - 1.5 * IQR) & (df[col] <= Q3 + 1.5 * IQR)]\n",
    "    return df\n",
    "\n",
    "# Фильтрация выбросов\n",
    "df = remove_outliers(df, ['pickup_longitude', 'pickup_latitude', 'dropoff_longitude', 'dropoff_latitude', target_name]) # Колонки, из которых нужно убрать выбросы"
   ]
  },
  {
   "cell_type": "code",
   "execution_count": null,
   "metadata": {},
   "outputs": [],
   "source": [
    "# Автоматическое определение границ для визуализации на основе данных\n",
    "pickup_xlim = (df['pickup_longitude'].min(), df['pickup_longitude'].max())\n",
    "pickup_ylim = (df['pickup_latitude'].min(), df['pickup_latitude'].max())\n",
    "dropoff_xlim = (df['dropoff_longitude'].min(), df['dropoff_longitude'].max())\n",
    "dropoff_ylim = (df['dropoff_latitude'].min(), df['dropoff_latitude'].max())"
   ]
  },
  {
   "cell_type": "code",
   "execution_count": null,
   "metadata": {},
   "outputs": [],
   "source": [
    "plt.figure(figsize=(10, 10))\n",
    "scatter = sns.scatterplot(\n",
    "    data=df,\n",
    "    x='pickup_longitude',\n",
    "    y='pickup_latitude',\n",
    "    hue=target_name,\n",
    "    palette='YlOrRd',\n",
    "    legend='brief',\n",
    "    s=20,             # Увеличенный размер точек\n",
    "    alpha=0.6         # Уменьшенная прозрачность\n",
    ")\n",
    "\n",
    "# Добавление названия цветовой легенды\n",
    "scatter.legend_.set_title(target_name.title())\n",
    "plt.show()\n"
   ]
  }
 ],
 "metadata": {
  "kernelspec": {
   "display_name": "Python 3",
   "language": "python",
   "name": "python3"
  },
  "language_info": {
   "codemirror_mode": {
    "name": "ipython",
    "version": 3
   },
   "file_extension": ".py",
   "mimetype": "text/x-python",
   "name": "python",
   "nbconvert_exporter": "python",
   "pygments_lexer": "ipython3",
   "version": "3.11.8"
  }
 },
 "nbformat": 4,
 "nbformat_minor": 2
}
